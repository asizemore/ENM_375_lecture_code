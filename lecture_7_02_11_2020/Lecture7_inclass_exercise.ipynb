{
 "cells": [
  {
   "cell_type": "markdown",
   "metadata": {},
   "source": [
    "# Squirrels in Central park\n",
    "\n",
    "For this exercise, we will test a hypothesis about the proportion of squirrels in Central Park. We'll use data from the [NYC data portal](https://data.cityofnewyork.us/Environment/2018-Central-Park-Squirrel-Census-Squirrel-Data/vfnx-vebw) that records info about squirrels found in the park during the last census."
   ]
  },
  {
   "cell_type": "code",
   "execution_count": 1,
   "metadata": {},
   "outputs": [],
   "source": [
    "# Import packages\n",
    "\n",
    "import numpy as np\n",
    "import pandas as pd\n",
    "import matplotlib.pyplot as plt\n"
   ]
  },
  {
   "cell_type": "markdown",
   "metadata": {},
   "source": [
    "### What do you think the proportion of gray squirrels should be?\n",
    "Define this value before we look at the data.\n",
    "\n",
    "H<sub>0</sub>: The expected proportion of gray squirrels is ___"
   ]
  },
  {
   "cell_type": "code",
   "execution_count": 2,
   "metadata": {},
   "outputs": [],
   "source": [
    "expected_proportion = 0.5"
   ]
  },
  {
   "cell_type": "markdown",
   "metadata": {},
   "source": [
    "### Pandas for data import\n",
    "We will use the pandas [pandas](https://pandas.pydata.org/) package to help with data import and cleaning. Pandas is especially good for handlind data as data frames. "
   ]
  },
  {
   "cell_type": "code",
   "execution_count": 3,
   "metadata": {},
   "outputs": [
    {
     "data": {
      "text/html": [
       "<div>\n",
       "<style scoped>\n",
       "    .dataframe tbody tr th:only-of-type {\n",
       "        vertical-align: middle;\n",
       "    }\n",
       "\n",
       "    .dataframe tbody tr th {\n",
       "        vertical-align: top;\n",
       "    }\n",
       "\n",
       "    .dataframe thead th {\n",
       "        text-align: right;\n",
       "    }\n",
       "</style>\n",
       "<table border=\"1\" class=\"dataframe\">\n",
       "  <thead>\n",
       "    <tr style=\"text-align: right;\">\n",
       "      <th></th>\n",
       "      <th>X</th>\n",
       "      <th>Y</th>\n",
       "      <th>Unique Squirrel ID</th>\n",
       "      <th>Hectare</th>\n",
       "      <th>Shift</th>\n",
       "      <th>Date</th>\n",
       "      <th>Hectare Squirrel Number</th>\n",
       "      <th>Age</th>\n",
       "      <th>Primary Fur Color</th>\n",
       "      <th>Highlight Fur Color</th>\n",
       "      <th>...</th>\n",
       "      <th>Approaches</th>\n",
       "      <th>Indifferent</th>\n",
       "      <th>Runs from</th>\n",
       "      <th>Other Interactions</th>\n",
       "      <th>Lat/Long</th>\n",
       "      <th>Zip Codes</th>\n",
       "      <th>Community Districts</th>\n",
       "      <th>Borough Boundaries</th>\n",
       "      <th>City Council Districts</th>\n",
       "      <th>Police Precincts</th>\n",
       "    </tr>\n",
       "  </thead>\n",
       "  <tbody>\n",
       "    <tr>\n",
       "      <th>0</th>\n",
       "      <td>-73.956134</td>\n",
       "      <td>40.794082</td>\n",
       "      <td>37F-PM-1014-03</td>\n",
       "      <td>37F</td>\n",
       "      <td>PM</td>\n",
       "      <td>10142018</td>\n",
       "      <td>3</td>\n",
       "      <td>NaN</td>\n",
       "      <td>NaN</td>\n",
       "      <td>NaN</td>\n",
       "      <td>...</td>\n",
       "      <td>False</td>\n",
       "      <td>False</td>\n",
       "      <td>False</td>\n",
       "      <td>NaN</td>\n",
       "      <td>POINT (-73.9561344937861 40.7940823884086)</td>\n",
       "      <td>NaN</td>\n",
       "      <td>19</td>\n",
       "      <td>4</td>\n",
       "      <td>19</td>\n",
       "      <td>13</td>\n",
       "    </tr>\n",
       "    <tr>\n",
       "      <th>1</th>\n",
       "      <td>-73.957044</td>\n",
       "      <td>40.794851</td>\n",
       "      <td>37E-PM-1006-03</td>\n",
       "      <td>37E</td>\n",
       "      <td>PM</td>\n",
       "      <td>10062018</td>\n",
       "      <td>3</td>\n",
       "      <td>Adult</td>\n",
       "      <td>Gray</td>\n",
       "      <td>Cinnamon</td>\n",
       "      <td>...</td>\n",
       "      <td>False</td>\n",
       "      <td>False</td>\n",
       "      <td>True</td>\n",
       "      <td>me</td>\n",
       "      <td>POINT (-73.9570437717691 40.794850940803904)</td>\n",
       "      <td>NaN</td>\n",
       "      <td>19</td>\n",
       "      <td>4</td>\n",
       "      <td>19</td>\n",
       "      <td>13</td>\n",
       "    </tr>\n",
       "    <tr>\n",
       "      <th>2</th>\n",
       "      <td>-73.976831</td>\n",
       "      <td>40.766718</td>\n",
       "      <td>2E-AM-1010-03</td>\n",
       "      <td>02E</td>\n",
       "      <td>AM</td>\n",
       "      <td>10102018</td>\n",
       "      <td>3</td>\n",
       "      <td>Adult</td>\n",
       "      <td>Cinnamon</td>\n",
       "      <td>NaN</td>\n",
       "      <td>...</td>\n",
       "      <td>False</td>\n",
       "      <td>True</td>\n",
       "      <td>False</td>\n",
       "      <td>NaN</td>\n",
       "      <td>POINT (-73.9768311751004 40.76671780725581)</td>\n",
       "      <td>NaN</td>\n",
       "      <td>19</td>\n",
       "      <td>4</td>\n",
       "      <td>19</td>\n",
       "      <td>13</td>\n",
       "    </tr>\n",
       "    <tr>\n",
       "      <th>3</th>\n",
       "      <td>-73.975725</td>\n",
       "      <td>40.769703</td>\n",
       "      <td>5D-PM-1018-05</td>\n",
       "      <td>05D</td>\n",
       "      <td>PM</td>\n",
       "      <td>10182018</td>\n",
       "      <td>5</td>\n",
       "      <td>Juvenile</td>\n",
       "      <td>Gray</td>\n",
       "      <td>NaN</td>\n",
       "      <td>...</td>\n",
       "      <td>False</td>\n",
       "      <td>False</td>\n",
       "      <td>True</td>\n",
       "      <td>NaN</td>\n",
       "      <td>POINT (-73.9757249834141 40.7697032606755)</td>\n",
       "      <td>NaN</td>\n",
       "      <td>19</td>\n",
       "      <td>4</td>\n",
       "      <td>19</td>\n",
       "      <td>13</td>\n",
       "    </tr>\n",
       "    <tr>\n",
       "      <th>4</th>\n",
       "      <td>-73.959313</td>\n",
       "      <td>40.797533</td>\n",
       "      <td>39B-AM-1018-01</td>\n",
       "      <td>39B</td>\n",
       "      <td>AM</td>\n",
       "      <td>10182018</td>\n",
       "      <td>1</td>\n",
       "      <td>NaN</td>\n",
       "      <td>NaN</td>\n",
       "      <td>NaN</td>\n",
       "      <td>...</td>\n",
       "      <td>False</td>\n",
       "      <td>False</td>\n",
       "      <td>False</td>\n",
       "      <td>NaN</td>\n",
       "      <td>POINT (-73.9593126695714 40.797533370163)</td>\n",
       "      <td>NaN</td>\n",
       "      <td>19</td>\n",
       "      <td>4</td>\n",
       "      <td>19</td>\n",
       "      <td>13</td>\n",
       "    </tr>\n",
       "  </tbody>\n",
       "</table>\n",
       "<p>5 rows × 36 columns</p>\n",
       "</div>"
      ],
      "text/plain": [
       "           X          Y Unique Squirrel ID Hectare Shift      Date  \\\n",
       "0 -73.956134  40.794082     37F-PM-1014-03     37F    PM  10142018   \n",
       "1 -73.957044  40.794851     37E-PM-1006-03     37E    PM  10062018   \n",
       "2 -73.976831  40.766718      2E-AM-1010-03     02E    AM  10102018   \n",
       "3 -73.975725  40.769703      5D-PM-1018-05     05D    PM  10182018   \n",
       "4 -73.959313  40.797533     39B-AM-1018-01     39B    AM  10182018   \n",
       "\n",
       "   Hectare Squirrel Number       Age Primary Fur Color Highlight Fur Color  \\\n",
       "0                        3       NaN               NaN                 NaN   \n",
       "1                        3     Adult              Gray            Cinnamon   \n",
       "2                        3     Adult          Cinnamon                 NaN   \n",
       "3                        5  Juvenile              Gray                 NaN   \n",
       "4                        1       NaN               NaN                 NaN   \n",
       "\n",
       "   ... Approaches Indifferent Runs from Other Interactions  \\\n",
       "0  ...      False       False     False                NaN   \n",
       "1  ...      False       False      True                 me   \n",
       "2  ...      False        True     False                NaN   \n",
       "3  ...      False       False      True                NaN   \n",
       "4  ...      False       False     False                NaN   \n",
       "\n",
       "                                       Lat/Long  Zip Codes  \\\n",
       "0    POINT (-73.9561344937861 40.7940823884086)        NaN   \n",
       "1  POINT (-73.9570437717691 40.794850940803904)        NaN   \n",
       "2   POINT (-73.9768311751004 40.76671780725581)        NaN   \n",
       "3    POINT (-73.9757249834141 40.7697032606755)        NaN   \n",
       "4     POINT (-73.9593126695714 40.797533370163)        NaN   \n",
       "\n",
       "   Community Districts  Borough Boundaries  City Council Districts  \\\n",
       "0                   19                   4                      19   \n",
       "1                   19                   4                      19   \n",
       "2                   19                   4                      19   \n",
       "3                   19                   4                      19   \n",
       "4                   19                   4                      19   \n",
       "\n",
       "   Police Precincts  \n",
       "0                13  \n",
       "1                13  \n",
       "2                13  \n",
       "3                13  \n",
       "4                13  \n",
       "\n",
       "[5 rows x 36 columns]"
      ]
     },
     "execution_count": 3,
     "metadata": {},
     "output_type": "execute_result"
    }
   ],
   "source": [
    "# Import data\n",
    "squirrels_data = pd.read_csv('data/2018_Central_Park_Squirrel_Census_-_Squirrel_Data.csv')\n",
    "squirrels_data.head()"
   ]
  },
  {
   "cell_type": "code",
   "execution_count": 4,
   "metadata": {},
   "outputs": [
    {
     "name": "stdout",
     "output_type": "stream",
     "text": [
      "The total number of squirrels sampled was 2865\n"
     ]
    }
   ],
   "source": [
    "# For the purpose of this exercise, we only care about squirrels who's fur color was reported as 'Cinnamon' or 'Gray'\n",
    "squirrels_data_cinnamon = squirrels_data.loc[squirrels_data['Primary Fur Color']  == 'Cinnamon']\n",
    "squirrels_data_gray = squirrels_data.loc[squirrels_data['Primary Fur Color']  == 'Gray']\n",
    "\n",
    "n_cinnamon_squirrels = squirrels_data_cinnamon['Primary Fur Color'].value_counts()[0]\n",
    "n_gray_squirrels = squirrels_data_gray['Primary Fur Color'].value_counts()[0]\n",
    "n_squirrels = n_cinnamon_squirrels + n_gray_squirrels\n",
    "\n",
    "print(f'The total number of squirrels sampled was {n_squirrels}')\n"
   ]
  },
  {
   "cell_type": "markdown",
   "metadata": {},
   "source": [
    "### Before looking at the actual proportion of squirrels...\n",
    "we should generate our null distribution based on our `expected_proportion`. To do this, we will assume random process of seeing a gray vs. cinnamon squirrel is like flipping a coin where the coin is weighted by `expected_proportion`. In other words, the probability of the coin being heads is `expected_proportion`. In each of 10,000 replicates, we will simulate sampling `n_squirrels` squirrels and record the number of gray squirrels seen in these trials."
   ]
  },
  {
   "cell_type": "code",
   "execution_count": 5,
   "metadata": {},
   "outputs": [
    {
     "name": "stdout",
     "output_type": "stream",
     "text": [
      "Finished 0 replicates\n",
      "Finished 1000 replicates\n",
      "Finished 2000 replicates\n",
      "Finished 3000 replicates\n",
      "Finished 4000 replicates\n",
      "Finished 5000 replicates\n",
      "Finished 6000 replicates\n",
      "Finished 7000 replicates\n",
      "Finished 8000 replicates\n",
      "Finished 9000 replicates\n",
      "Done with all experiments\n"
     ]
    }
   ],
   "source": [
    "# Compute a null distrubtion assuming we flip a coin n_squirrels times. With probability 0.5 we obesrve a gray\n",
    "# squirrel and with probability 0.5 we see a cinnammon squirrel. What would this distribution look like?\n",
    "\n",
    "# We could compute the proportion but to exemplify simulations, we will instead run 10,000 trials of the above\n",
    "# coin flip experiment.\n",
    "\n",
    "replicates = range(10000)\n",
    "null_proportions = np.zeros((len(replicates)))\n",
    "squirrels = range(n_squirrels)\n",
    "\n",
    "for rep in replicates:\n",
    "    \n",
    "    # Flip a coin n_squirrels times and count successes = number of gray squirrels seen\n",
    "    n_successes = 0\n",
    "    \n",
    "    for squirrel in squirrels:\n",
    "        \n",
    "        rand_float = np.random.random()\n",
    "        \n",
    "        if rand_float < expected_proportion:\n",
    "            n_successes += 1   # add 1 to our number of successes\n",
    "            \n",
    "        # Done with this squirrel\n",
    "        \n",
    "    \n",
    "    # Done with this replicate\n",
    "    \n",
    "    # Record n_success in our vector\n",
    "    null_proportions[rep] = n_successes/n_squirrels\n",
    "    if rep % 1000 == 0:\n",
    "        print(f'Finished {rep} replicates')\n",
    "    \n",
    "\n",
    "print('Done with all experiments')\n",
    "        \n",
    "        "
   ]
  },
  {
   "cell_type": "code",
   "execution_count": 6,
   "metadata": {},
   "outputs": [
    {
     "data": {
      "text/html": [
       "<div>\n",
       "<style scoped>\n",
       "    .dataframe tbody tr th:only-of-type {\n",
       "        vertical-align: middle;\n",
       "    }\n",
       "\n",
       "    .dataframe tbody tr th {\n",
       "        vertical-align: top;\n",
       "    }\n",
       "\n",
       "    .dataframe thead th {\n",
       "        text-align: right;\n",
       "    }\n",
       "</style>\n",
       "<table border=\"1\" class=\"dataframe\">\n",
       "  <thead>\n",
       "    <tr style=\"text-align: right;\">\n",
       "      <th></th>\n",
       "      <th>Gray_observed</th>\n",
       "    </tr>\n",
       "  </thead>\n",
       "  <tbody>\n",
       "    <tr>\n",
       "      <th>0</th>\n",
       "      <td>0.493543</td>\n",
       "    </tr>\n",
       "    <tr>\n",
       "      <th>1</th>\n",
       "      <td>0.507504</td>\n",
       "    </tr>\n",
       "    <tr>\n",
       "      <th>2</th>\n",
       "      <td>0.505410</td>\n",
       "    </tr>\n",
       "    <tr>\n",
       "      <th>3</th>\n",
       "      <td>0.519721</td>\n",
       "    </tr>\n",
       "    <tr>\n",
       "      <th>4</th>\n",
       "      <td>0.490052</td>\n",
       "    </tr>\n",
       "  </tbody>\n",
       "</table>\n",
       "</div>"
      ],
      "text/plain": [
       "   Gray_observed\n",
       "0       0.493543\n",
       "1       0.507504\n",
       "2       0.505410\n",
       "3       0.519721\n",
       "4       0.490052"
      ]
     },
     "execution_count": 6,
     "metadata": {},
     "output_type": "execute_result"
    }
   ],
   "source": [
    "# Plot the null distribution\n",
    "\n",
    "null_proportions_df = pd.DataFrame({'Gray_observed': null_proportions})\n",
    "null_proportions_df.head()"
   ]
  },
  {
   "cell_type": "code",
   "execution_count": 7,
   "metadata": {},
   "outputs": [
    {
     "data": {
      "text/plain": [
       "Text(0.5, 1.0, 'Null distribution assuming proportion = 0.5')"
      ]
     },
     "execution_count": 7,
     "metadata": {},
     "output_type": "execute_result"
    },
    {
     "data": {
      "image/png": "[encoded data removed]",
      "text/plain": [
       "<Figure size 432x288 with 1 Axes>"
      ]
     },
     "metadata": {},
     "output_type": "display_data"
    }
   ],
   "source": [
    "plt.style.use('ggplot')\n",
    "null_proportions_df.hist(density = True, edgecolor = 'w')\n",
    "plt.xlabel('Proportion of gray squirrels')\n",
    "plt.ylabel('Relative frequency')\n",
    "plt.title(f'Null distribution assuming proportion = {expected_proportion}')"
   ]
  },
  {
   "cell_type": "markdown",
   "metadata": {},
   "source": [
    "### How did we do?\n",
    "\n",
    "Now let's plot the null distribution histogram but also the actual observed number of gray squirrels from the census data."
   ]
  },
  {
   "cell_type": "code",
   "execution_count": 9,
   "metadata": {},
   "outputs": [
    {
     "name": "stdout",
     "output_type": "stream",
     "text": [
      "The number of cinnamon squirrels found was 392\n",
      "The number of gray squirrels found was 2473\n",
      "The proportion of gray squirrels observed in the data was 0.8631762652705061\n"
     ]
    },
    {
     "data": {
      "image/png": "[encoded data removed]",
      "text/plain": [
       "<Figure size 432x288 with 1 Axes>"
      ]
     },
     "metadata": {},
     "output_type": "display_data"
    }
   ],
   "source": [
    "print(f'The number of cinnamon squirrels found was {n_cinnamon_squirrels}')\n",
    "print(f'The number of gray squirrels found was {n_gray_squirrels}')\n",
    "\n",
    "observed_proportion = n_gray_squirrels/n_squirrels\n",
    "print(f'The proportion of gray squirrels observed in the data was {observed_proportion}')\n",
    "\n",
    "\n",
    "plt.style.use('ggplot')\n",
    "null_proportions_df.hist(density = True, edgecolor = 'w')\n",
    "plt.axvline([observed_proportion], label = 'Observed number of cinnamon squirrels', color = 'k')\n",
    "plt.xlabel('proportion of gray squirrels')\n",
    "plt.ylabel('Frequency')\n",
    "plt.title(f'Null distribution assuming proportion = {expected_proportion}')\n",
    "lgd = plt.legend(loc=2, bbox_to_anchor=(1.05,1), borderaxespad = 0.0)\n"
   ]
  },
  {
   "cell_type": "markdown",
   "metadata": {},
   "source": [
    "### Testing significance\n",
    "\n",
    "Is our observed proportion of gray squirrels in the data significantly more extreme than we would expect given our null model? \n",
    "\n",
    "As the final step of our calculations, we will compute the P-value explicitly from our null distribution."
   ]
  },
  {
   "cell_type": "code",
   "execution_count": 10,
   "metadata": {},
   "outputs": [
    {
     "name": "stdout",
     "output_type": "stream",
     "text": [
      "Of the 10000 null values, 0 were more extreme than our test statistic of 0.8631762652705061.\n",
      "The one-sided P-value is 0.0\n",
      "The two-sided P-value is 0.0\n"
     ]
    }
   ],
   "source": [
    "\n",
    "def compute_p_value_onesample(test_statistic, null_data, direction):\n",
    "        # direction = 'less' or 'greater'. If 'less', we count number of values <= the test statistic,\n",
    "        # if direction = 'greater', we count the number of values >= test statistic\n",
    "        more_extreme_values = []\n",
    "        \n",
    "        if (direction == 'less'):\n",
    "            for data_point in null_data:\n",
    "                if (data_point <= test_statistic):\n",
    "                    more_extreme_values.append(data_point)\n",
    "        else:\n",
    "            for data_point in null_data:\n",
    "                if (data_point >= test_statistic):\n",
    "                    more_extreme_values.append(data_point)\n",
    "                    \n",
    "        n_null_values = len(null_data)\n",
    "        n_more_extreme_values = len(more_extreme_values)\n",
    "        print(f'Of the {n_null_values} null values, {n_more_extreme_values} were more extreme than our test statistic of {test_statistic}.')\n",
    "        \n",
    "        p_value_one_sided = n_more_extreme_values/n_null_values\n",
    "        p_value_two_sided = 2.0 * p_value_one_sided\n",
    "        \n",
    "        return p_value_one_sided, p_value_two_sided\n",
    "\n",
    "    \n",
    "# If the observed proportion is greater than the expected proportion, direction = 'greater'. If the observed\n",
    "# proportion is less than the expected proportion, then direction = 'less'.\n",
    "p1, p2 = compute_p_value_onesample(observed_proportion, null_proportions, 'greater')\n",
    "                \n",
    "        \n",
    "print(f'The one-sided P-value is {p1}')\n",
    "print(f'The two-sided P-value is {p2}')\n"
   ]
  },
  {
   "cell_type": "code",
   "execution_count": null,
   "metadata": {},
   "outputs": [],
   "source": []
  },
  {
   "cell_type": "code",
   "execution_count": null,
   "metadata": {},
   "outputs": [],
   "source": []
  },
  {
   "cell_type": "code",
   "execution_count": null,
   "metadata": {},
   "outputs": [],
   "source": []
  }
 ],
 "metadata": {
  "kernelspec": {
   "display_name": "Python 3",
   "language": "python",
   "name": "python3"
  },
  "language_info": {
   "codemirror_mode": {
    "name": "ipython",
    "version": 3
   },
   "file_extension": ".py",
   "mimetype": "text/x-python",
   "name": "python",
   "nbconvert_exporter": "python",
   "pygments_lexer": "ipython3",
   "version": "3.7.3"
  }
 },
 "nbformat": 4,
 "nbformat_minor": 2
}
