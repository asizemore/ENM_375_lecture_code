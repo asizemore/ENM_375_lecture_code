{
 "cells": [
  {
   "cell_type": "code",
   "execution_count": 1,
   "metadata": {},
   "outputs": [],
   "source": [
    "## Squirrels\n",
    "\n",
    "\n",
    "import sys\n",
    "import os\n",
    "import numpy as np\n",
    "import pandas as pd\n",
    "import matplotlib.pyplot as plt\n",
    "import scipy.io as sio\n",
    "from scipy import stats\n",
    "import seaborn as sns"
   ]
  },
  {
   "cell_type": "code",
   "execution_count": 2,
   "metadata": {},
   "outputs": [
    {
     "name": "stdout",
     "output_type": "stream",
     "text": [
      "<class 'pandas.core.frame.DataFrame'>\n",
      "RangeIndex: 3023 entries, 0 to 3022\n",
      "Data columns (total 36 columns):\n",
      "X                                             3023 non-null float64\n",
      "Y                                             3023 non-null float64\n",
      "Unique Squirrel ID                            3023 non-null object\n",
      "Hectare                                       3023 non-null object\n",
      "Shift                                         3023 non-null object\n",
      "Date                                          3023 non-null int64\n",
      "Hectare Squirrel Number                       3023 non-null int64\n",
      "Age                                           2902 non-null object\n",
      "Primary Fur Color                             2968 non-null object\n",
      "Highlight Fur Color                           1937 non-null object\n",
      "Combination of Primary and Highlight Color    3023 non-null object\n",
      "Color notes                                   182 non-null object\n",
      "Location                                      2959 non-null object\n",
      "Above Ground Sighter Measurement              2909 non-null object\n",
      "Specific Location                             476 non-null object\n",
      "Running                                       3023 non-null bool\n",
      "Chasing                                       3023 non-null bool\n",
      "Climbing                                      3023 non-null bool\n",
      "Eating                                        3023 non-null bool\n",
      "Foraging                                      3023 non-null bool\n",
      "Other Activities                              437 non-null object\n",
      "Kuks                                          3023 non-null bool\n",
      "Quaas                                         3023 non-null bool\n",
      "Moans                                         3023 non-null bool\n",
      "Tail flags                                    3023 non-null bool\n",
      "Tail twitches                                 3023 non-null bool\n",
      "Approaches                                    3023 non-null bool\n",
      "Indifferent                                   3023 non-null bool\n",
      "Runs from                                     3023 non-null bool\n",
      "Other Interactions                            240 non-null object\n",
      "Lat/Long                                      3023 non-null object\n",
      "Zip Codes                                     9 non-null float64\n",
      "Community Districts                           3023 non-null int64\n",
      "Borough Boundaries                            3023 non-null int64\n",
      "City Council Districts                        3023 non-null int64\n",
      "Police Precincts                              3023 non-null int64\n",
      "dtypes: bool(13), float64(3), int64(6), object(14)\n",
      "memory usage: 581.7+ KB\n"
     ]
    }
   ],
   "source": [
    "squirrels_data = pd.read_csv('data/2018_Central_Park_Squirrel_Census_-_Squirrel_Data.csv')\n",
    "squirrels_data.info()"
   ]
  },
  {
   "cell_type": "code",
   "execution_count": 3,
   "metadata": {},
   "outputs": [
    {
     "data": {
      "text/plain": [
       "Gray        2473\n",
       "Cinnamon     392\n",
       "Black        103\n",
       "Name: Primary Fur Color, dtype: int64"
      ]
     },
     "execution_count": 3,
     "metadata": {},
     "output_type": "execute_result"
    }
   ],
   "source": [
    "squirrels_data['Age'].value_counts()\n",
    "\n",
    "squirrels_data['Primary Fur Color'].value_counts()"
   ]
  },
  {
   "cell_type": "code",
   "execution_count": 4,
   "metadata": {},
   "outputs": [
    {
     "name": "stdout",
     "output_type": "stream",
     "text": [
      "The number of cinnamon squirrels found was 392\n",
      "The number of gray squirrels found was 2473\n",
      "The total number of squirrels sampled was 2865\n",
      "If we were equally likely to observe each color squirrel, we would expect to see 1432.5 cinnamon squirrels.\n",
      "The proportion of cinnamon squirrels observed was 0.13682373472949388\n"
     ]
    }
   ],
   "source": [
    "# Keep only cinnamon and gray.\n",
    "\n",
    "squirrels_data_cinnamon = squirrels_data.loc[squirrels_data['Primary Fur Color']  == 'Cinnamon']\n",
    "squirrels_data_gray = squirrels_data.loc[squirrels_data['Primary Fur Color']  == 'Gray']\n",
    "\n",
    "n_cinnamon_squirrels = squirrels_data_cinnamon['Primary Fur Color'].value_counts()[0]\n",
    "n_gray_squirrels = squirrels_data_gray['Primary Fur Color'].value_counts()[0]\n",
    "n_squirrels = n_cinnamon_squirrels + n_gray_squirrels\n",
    "\n",
    "#df.loc[df['shield'] > 6]\n",
    "print(f'The number of cinnamon squirrels found was {n_cinnamon_squirrels}')\n",
    "print(f'The number of gray squirrels found was {n_gray_squirrels}')\n",
    "print(f'The total number of squirrels sampled was {n_squirrels}')\n",
    "print(f'If we were equally likely to observe each color squirrel, we would expect to see {n_squirrels/2} cinnamon squirrels.')\n",
    "print(f'The proportion of cinnamon squirrels observed was {n_cinnamon_squirrels/n_squirrels}')\n",
    "\n"
   ]
  },
  {
   "cell_type": "code",
   "execution_count": 5,
   "metadata": {},
   "outputs": [
    {
     "name": "stdout",
     "output_type": "stream",
     "text": [
      "Finished 0 replicates\n",
      "Finished 1000 replicates\n",
      "Finished 2000 replicates\n",
      "Finished 3000 replicates\n",
      "Finished 4000 replicates\n",
      "Finished 5000 replicates\n",
      "Finished 6000 replicates\n",
      "Finished 7000 replicates\n",
      "Finished 8000 replicates\n",
      "Finished 9000 replicates\n",
      "Done with all experiments\n"
     ]
    }
   ],
   "source": [
    "# Let's assume that since we have two squirrel types, we are equally likely to see both squirrels in Central park...\n",
    "\n",
    "expected_proportion = 0.13\n",
    "\n",
    "# Compute a null distrubtion assuming we flip a coin n_squirrels times. With probability 0.5 we obesrve a gray\n",
    "# squirrel and with probability 0.5 we see a cinnammon squirrel. What would this distribution look like?\n",
    "\n",
    "# We could compute the proportion but to exemplify simulations, we will instead run 1000 trials of the above\n",
    "# coin flip experiment.\n",
    "\n",
    "replicates = range(10000)\n",
    "observed_proportion_vec = np.zeros((len(replicates), 1))\n",
    "squirrels = range(n_squirrels)\n",
    "\n",
    "for rep in replicates:\n",
    "    \n",
    "    # Flip a coin n_squirrels times and count successes\n",
    "    n_successes = 0\n",
    "    \n",
    "    for squirrel in squirrels:\n",
    "        \n",
    "        rand_float = np.random.random()\n",
    "        \n",
    "        if rand_float < expected_proportion:\n",
    "            n_successes += 1   # add 1 to our number of successes\n",
    "            \n",
    "        # Done with this squirrel\n",
    "        \n",
    "    \n",
    "    # Done with this replicate\n",
    "    \n",
    "    # Record n_success in our vector\n",
    "    observed_proportion_vec[rep, 0] = n_successes\n",
    "    if rep % 1000 == 0:\n",
    "        print(f'Finished {rep} replicates')\n",
    "    \n",
    "\n",
    "print('Done with all experiments')\n",
    "        \n",
    "        \n",
    "    \n",
    "\n"
   ]
  },
  {
   "cell_type": "code",
   "execution_count": 6,
   "metadata": {},
   "outputs": [],
   "source": [
    "# Plot the null distribution\n",
    "\n",
    "observed_proportion_df = pd.DataFrame({'Cinnamon_observed': observed_proportion_vec.flatten()})"
   ]
  },
  {
   "cell_type": "code",
   "execution_count": 7,
   "metadata": {},
   "outputs": [
    {
     "data": {
      "text/html": [
       "<div>\n",
       "<style scoped>\n",
       "    .dataframe tbody tr th:only-of-type {\n",
       "        vertical-align: middle;\n",
       "    }\n",
       "\n",
       "    .dataframe tbody tr th {\n",
       "        vertical-align: top;\n",
       "    }\n",
       "\n",
       "    .dataframe thead th {\n",
       "        text-align: right;\n",
       "    }\n",
       "</style>\n",
       "<table border=\"1\" class=\"dataframe\">\n",
       "  <thead>\n",
       "    <tr style=\"text-align: right;\">\n",
       "      <th></th>\n",
       "      <th>Cinnamon_observed</th>\n",
       "    </tr>\n",
       "  </thead>\n",
       "  <tbody>\n",
       "    <tr>\n",
       "      <th>0</th>\n",
       "      <td>368.0</td>\n",
       "    </tr>\n",
       "    <tr>\n",
       "      <th>1</th>\n",
       "      <td>382.0</td>\n",
       "    </tr>\n",
       "    <tr>\n",
       "      <th>2</th>\n",
       "      <td>400.0</td>\n",
       "    </tr>\n",
       "    <tr>\n",
       "      <th>3</th>\n",
       "      <td>415.0</td>\n",
       "    </tr>\n",
       "    <tr>\n",
       "      <th>4</th>\n",
       "      <td>389.0</td>\n",
       "    </tr>\n",
       "  </tbody>\n",
       "</table>\n",
       "</div>"
      ],
      "text/plain": [
       "   Cinnamon_observed\n",
       "0              368.0\n",
       "1              382.0\n",
       "2              400.0\n",
       "3              415.0\n",
       "4              389.0"
      ]
     },
     "execution_count": 7,
     "metadata": {},
     "output_type": "execute_result"
    }
   ],
   "source": [
    "observed_proportion_df.head()"
   ]
  },
  {
   "cell_type": "code",
   "execution_count": 8,
   "metadata": {},
   "outputs": [
    {
     "data": {
      "text/plain": [
       "Text(0.5, 1.0, 'Null distribution assuming proportion = 0.5')"
      ]
     },
     "execution_count": 8,
     "metadata": {},
     "output_type": "execute_result"
    },
    {
     "data": {
      "image/png": "[encoded data removed]",
      "text/plain": [
       "<Figure size 432x288 with 1 Axes>"
      ]
     },
     "metadata": {},
     "output_type": "display_data"
    }
   ],
   "source": [
    "plt.style.use('ggplot')\n",
    "observed_proportion_df.hist(color = '#224499', edgecolor = 'w')\n",
    "plt.xlabel('Number of cinnamon squirrels')\n",
    "plt.ylabel('Frequency')\n",
    "plt.title('Null distribution assuming proportion = 0.5')\n",
    "#plt.xlim(300,2500)"
   ]
  },
  {
   "cell_type": "code",
   "execution_count": 9,
   "metadata": {},
   "outputs": [
    {
     "data": {
      "text/plain": [
       "[Text(0, 0.5, 'Relative frequency'),\n",
       " Text(0.5, 0, 'Number of cinnamon squirrels'),\n",
       " Text(0.5, 1.0, 'Null distribution assuming proportion = 0.5')]"
      ]
     },
     "execution_count": 9,
     "metadata": {},
     "output_type": "execute_result"
    },
    {
     "data": {
      "image/png": "[encoded data removed]",
      "text/plain": [
       "<Figure size 432x288 with 1 Axes>"
      ]
     },
     "metadata": {},
     "output_type": "display_data"
    }
   ],
   "source": [
    "fig_0 = sns.distplot(observed_proportion_vec)\n",
    "fig_0.set(xlabel = 'Number of cinnamon squirrels',\n",
    "          ylabel = 'Relative frequency',\n",
    "          title = 'Null distribution assuming proportion = 0.5')"
   ]
  },
  {
   "cell_type": "code",
   "execution_count": 10,
   "metadata": {},
   "outputs": [
    {
     "data": {
      "image/png": "[encoded data removed]",
      "text/plain": [
       "<Figure size 432x288 with 1 Axes>"
      ]
     },
     "metadata": {},
     "output_type": "display_data"
    }
   ],
   "source": [
    "plt.style.use('ggplot')\n",
    "observed_proportion_df.hist(color = '#224499', edgecolor = 'w')\n",
    "plt.axvline([n_cinnamon_squirrels], label = 'Observed number of cinnamon squirrels')\n",
    "plt.xlabel('Number of cinnamon squirrels')\n",
    "plt.ylabel('Frequency')\n",
    "plt.title('Null distribution assuming proportion = 0.5')\n",
    "plt.xlim(300,2500)\n",
    "lgd = plt.legend(loc=2, bbox_to_anchor=(1.05,1), borderaxespad = 0.0)\n",
    "#plt.savefig(\"L7_squirrel_null_dist.pdf\",bbox_extra_artists=(lgd,), bbox_inches='tight')\n"
   ]
  },
  {
   "cell_type": "code",
   "execution_count": 11,
   "metadata": {},
   "outputs": [
    {
     "data": {
      "image/png": "[encoded data removed]",
      "text/plain": [
       "<Figure size 432x288 with 1 Axes>"
      ]
     },
     "metadata": {},
     "output_type": "display_data"
    }
   ],
   "source": [
    "plt.style.use('ggplot')\n",
    "observed_proportion_df.hist(color = '#224499', edgecolor = 'w')\n",
    "plt.axvline([n_cinnamon_squirrels], label = 'Observed number of cinnamon squirrels')\n",
    "plt.xlabel('Number of cinnamon squirrels')\n",
    "plt.ylabel('Frequency')\n",
    "plt.title('Null distribution assuming proportion = 0.5')\n",
    "plt.xlim(300,2500)\n",
    "plt.ylim(0,10)\n",
    "lgd = plt.legend(loc=2, bbox_to_anchor=(1.05,1), borderaxespad = 0.0)"
   ]
  },
  {
   "cell_type": "code",
   "execution_count": 12,
   "metadata": {},
   "outputs": [
    {
     "ename": "NameError",
     "evalue": "name 'null_data' is not defined",
     "output_type": "error",
     "traceback": [
      "\u001b[0;31m---------------------------------------------------------------------------\u001b[0m",
      "\u001b[0;31mNameError\u001b[0m                                 Traceback (most recent call last)",
      "\u001b[0;32m<ipython-input-12-1a9bcdf021fa>\u001b[0m in \u001b[0;36m<module>\u001b[0;34m\u001b[0m\n\u001b[1;32m      5\u001b[0m \u001b[0;32mfor\u001b[0m \u001b[0mi\u001b[0m \u001b[0;32min\u001b[0m \u001b[0mrange\u001b[0m\u001b[0;34m(\u001b[0m\u001b[0mlen\u001b[0m\u001b[0;34m(\u001b[0m\u001b[0mobserved_proportion_vec\u001b[0m\u001b[0;34m[\u001b[0m\u001b[0;34m:\u001b[0m \u001b[0;34m,\u001b[0m\u001b[0;36m0\u001b[0m\u001b[0;34m]\u001b[0m\u001b[0;34m)\u001b[0m\u001b[0;34m)\u001b[0m\u001b[0;34m:\u001b[0m\u001b[0;34m\u001b[0m\u001b[0;34m\u001b[0m\u001b[0m\n\u001b[1;32m      6\u001b[0m     \u001b[0;32mif\u001b[0m \u001b[0mobserved_proportion_vec\u001b[0m\u001b[0;34m[\u001b[0m\u001b[0mi\u001b[0m\u001b[0;34m,\u001b[0m \u001b[0;36m0\u001b[0m\u001b[0;34m]\u001b[0m \u001b[0;34m>=\u001b[0m \u001b[0mtest_stat\u001b[0m\u001b[0;34m:\u001b[0m\u001b[0;34m\u001b[0m\u001b[0;34m\u001b[0m\u001b[0m\n\u001b[0;32m----> 7\u001b[0;31m         \u001b[0mgreat_equal\u001b[0m\u001b[0;34m.\u001b[0m\u001b[0mappend\u001b[0m\u001b[0;34m(\u001b[0m\u001b[0mnull_data\u001b[0m\u001b[0;34m[\u001b[0m\u001b[0mi\u001b[0m\u001b[0;34m]\u001b[0m\u001b[0;34m)\u001b[0m\u001b[0;34m\u001b[0m\u001b[0;34m\u001b[0m\u001b[0m\n\u001b[0m\u001b[1;32m      8\u001b[0m \u001b[0msum_null\u001b[0m \u001b[0;34m=\u001b[0m \u001b[0mfloat\u001b[0m\u001b[0;34m(\u001b[0m\u001b[0mlen\u001b[0m\u001b[0;34m(\u001b[0m\u001b[0mobserved_proportion_vec\u001b[0m\u001b[0;34m[\u001b[0m\u001b[0;34m:\u001b[0m \u001b[0;34m,\u001b[0m\u001b[0;36m0\u001b[0m\u001b[0;34m]\u001b[0m\u001b[0;34m)\u001b[0m\u001b[0;34m)\u001b[0m\u001b[0;34m\u001b[0m\u001b[0;34m\u001b[0m\u001b[0m\n\u001b[1;32m      9\u001b[0m \u001b[0msum_great_equal\u001b[0m \u001b[0;34m=\u001b[0m \u001b[0mfloat\u001b[0m\u001b[0;34m(\u001b[0m\u001b[0mlen\u001b[0m\u001b[0;34m(\u001b[0m\u001b[0mgreat_equal\u001b[0m\u001b[0;34m)\u001b[0m\u001b[0;34m)\u001b[0m\u001b[0;34m\u001b[0m\u001b[0;34m\u001b[0m\u001b[0m\n",
      "\u001b[0;31mNameError\u001b[0m: name 'null_data' is not defined"
     ]
    }
   ],
   "source": [
    "# Compute the p-value by hand\n",
    "\n",
    "test_stat = n_cinnamon_squirrels\n",
    "great_equal = []\n",
    "for i in range(len(observed_proportion_vec[: ,0])):\n",
    "    if observed_proportion_vec[i, 0] >= test_stat:\n",
    "        great_equal.append(null_data[i])\n",
    "sum_null = float(len(observed_proportion_vec[: ,0]))\n",
    "sum_great_equal = float(len(great_equal))\n",
    "print(sum_null, sum_great_equal)\n",
    "\n",
    "one_sided_pval=sum_great_equal/sum_null\n",
    "two_sided_pval=2*one_sided_pval\n",
    "\n",
    "plt.figure()\n",
    "plt.hist(observed_proportion_vec[: ,0],20,density=True)\n",
    "plt.axvline(x=16,color = 'r')\n",
    "plt.axvline(x=4, color = 'r')\n",
    "#plt.xlim(0,20)\n",
    "plt.show()\n",
    "\n",
    "print(one_sided_pval)\n",
    "print(two_sided_pval)"
   ]
  },
  {
   "cell_type": "code",
   "execution_count": 13,
   "metadata": {},
   "outputs": [
    {
     "data": {
      "text/html": [
       "<div>\n",
       "<style scoped>\n",
       "    .dataframe tbody tr th:only-of-type {\n",
       "        vertical-align: middle;\n",
       "    }\n",
       "\n",
       "    .dataframe tbody tr th {\n",
       "        vertical-align: top;\n",
       "    }\n",
       "\n",
       "    .dataframe thead th {\n",
       "        text-align: right;\n",
       "    }\n",
       "</style>\n",
       "<table border=\"1\" class=\"dataframe\">\n",
       "  <thead>\n",
       "    <tr style=\"text-align: right;\">\n",
       "      <th></th>\n",
       "      <th>Date/Time - Peak Brightness (UT)</th>\n",
       "      <th>Latitude (Deg)</th>\n",
       "      <th>Longitude (Deg)</th>\n",
       "      <th>Altitude (km)</th>\n",
       "      <th>Velocity (km/s)</th>\n",
       "      <th>Velocity Components (km/s): vx</th>\n",
       "      <th>Velocity Components (km/s): vy</th>\n",
       "      <th>Velocity Components (km/s): vz</th>\n",
       "      <th>Total Radiated Energy (J)</th>\n",
       "      <th>Calculated Total Impact Energy (kt)</th>\n",
       "    </tr>\n",
       "  </thead>\n",
       "  <tbody>\n",
       "    <tr>\n",
       "      <th>0</th>\n",
       "      <td>11/21/2009 08:53:00 PM</td>\n",
       "      <td>22.0S</td>\n",
       "      <td>29.2E</td>\n",
       "      <td>38.0</td>\n",
       "      <td>32.1</td>\n",
       "      <td>3.0</td>\n",
       "      <td>-17.0</td>\n",
       "      <td>-27.0</td>\n",
       "      <td>10000000000000</td>\n",
       "      <td>18.00</td>\n",
       "    </tr>\n",
       "    <tr>\n",
       "      <th>1</th>\n",
       "      <td>01/09/2015 10:41:11 AM</td>\n",
       "      <td>2.0N</td>\n",
       "      <td>28.8E</td>\n",
       "      <td>36.0</td>\n",
       "      <td>NaN</td>\n",
       "      <td>-10.7</td>\n",
       "      <td>-7.6</td>\n",
       "      <td>11.6</td>\n",
       "      <td>139000000000</td>\n",
       "      <td>0.41</td>\n",
       "    </tr>\n",
       "    <tr>\n",
       "      <th>2</th>\n",
       "      <td>05/16/2014 12:42:48 PM</td>\n",
       "      <td>44.2S</td>\n",
       "      <td>176.2W</td>\n",
       "      <td>44.0</td>\n",
       "      <td>NaN</td>\n",
       "      <td>14.4</td>\n",
       "      <td>4.6</td>\n",
       "      <td>6.5</td>\n",
       "      <td>309000000000</td>\n",
       "      <td>0.82</td>\n",
       "    </tr>\n",
       "    <tr>\n",
       "      <th>3</th>\n",
       "      <td>08/23/2014 06:29:41 AM</td>\n",
       "      <td>61.7S</td>\n",
       "      <td>132.6E</td>\n",
       "      <td>22.2</td>\n",
       "      <td>16.2</td>\n",
       "      <td>-2.3</td>\n",
       "      <td>5.7</td>\n",
       "      <td>16.5</td>\n",
       "      <td>3820000000000</td>\n",
       "      <td>7.60</td>\n",
       "    </tr>\n",
       "    <tr>\n",
       "      <th>4</th>\n",
       "      <td>12/12/2014 06:48:11 AM</td>\n",
       "      <td>33.5N</td>\n",
       "      <td>144.9E</td>\n",
       "      <td>26.3</td>\n",
       "      <td>NaN</td>\n",
       "      <td>11.5</td>\n",
       "      <td>-2.8</td>\n",
       "      <td>-2.2</td>\n",
       "      <td>33000000000</td>\n",
       "      <td>0.11</td>\n",
       "    </tr>\n",
       "  </tbody>\n",
       "</table>\n",
       "</div>"
      ],
      "text/plain": [
       "  Date/Time - Peak Brightness (UT) Latitude (Deg) Longitude (Deg)  \\\n",
       "0           11/21/2009 08:53:00 PM          22.0S           29.2E   \n",
       "1           01/09/2015 10:41:11 AM           2.0N           28.8E   \n",
       "2           05/16/2014 12:42:48 PM          44.2S          176.2W   \n",
       "3           08/23/2014 06:29:41 AM          61.7S          132.6E   \n",
       "4           12/12/2014 06:48:11 AM          33.5N          144.9E   \n",
       "\n",
       "   Altitude (km)  Velocity (km/s)  Velocity Components (km/s): vx  \\\n",
       "0           38.0             32.1                             3.0   \n",
       "1           36.0              NaN                           -10.7   \n",
       "2           44.0              NaN                            14.4   \n",
       "3           22.2             16.2                            -2.3   \n",
       "4           26.3              NaN                            11.5   \n",
       "\n",
       "   Velocity Components (km/s): vy  Velocity Components (km/s): vz  \\\n",
       "0                           -17.0                           -27.0   \n",
       "1                            -7.6                            11.6   \n",
       "2                             4.6                             6.5   \n",
       "3                             5.7                            16.5   \n",
       "4                            -2.8                            -2.2   \n",
       "\n",
       "   Total Radiated Energy (J)  Calculated Total Impact Energy (kt)  \n",
       "0             10000000000000                                18.00  \n",
       "1               139000000000                                 0.41  \n",
       "2               309000000000                                 0.82  \n",
       "3              3820000000000                                 7.60  \n",
       "4                33000000000                                 0.11  "
      ]
     },
     "execution_count": 13,
     "metadata": {},
     "output_type": "execute_result"
    }
   ],
   "source": [
    "fireball_data = pd.read_csv('data/Fireball_And_Bolide_Reports.csv')\n",
    "fireball_data.head()"
   ]
  },
  {
   "cell_type": "code",
   "execution_count": 14,
   "metadata": {},
   "outputs": [
    {
     "name": "stdout",
     "output_type": "stream",
     "text": [
      "<class 'pandas.core.frame.DataFrame'>\n",
      "RangeIndex: 92 entries, 0 to 91\n",
      "Data columns (total 1 columns):\n",
      "Date_time    92 non-null object\n",
      "dtypes: object(1)\n",
      "memory usage: 864.0+ bytes\n"
     ]
    }
   ],
   "source": [
    "# Need to extract AM or PM from the Date/Time column\n",
    "\n",
    "# First extract the Date/Time column to something easier to work with\n",
    "fireball_dt = pd.DataFrame({'Date_time': fireball_data['Date/Time - Peak Brightness (UT)']})\n",
    "fireball_dt.info()\n"
   ]
  },
  {
   "cell_type": "code",
   "execution_count": 15,
   "metadata": {},
   "outputs": [
    {
     "data": {
      "text/plain": [
       "str"
      ]
     },
     "execution_count": 15,
     "metadata": {},
     "output_type": "execute_result"
    }
   ],
   "source": [
    "type(fireball_dt['Date_time'][0])"
   ]
  },
  {
   "cell_type": "code",
   "execution_count": 16,
   "metadata": {},
   "outputs": [
    {
     "data": {
      "text/plain": [
       "AM    49\n",
       "PM    43\n",
       "Name: tod, dtype: int64"
      ]
     },
     "execution_count": 16,
     "metadata": {},
     "output_type": "execute_result"
    }
   ],
   "source": [
    "am_pm = []\n",
    "for dt in fireball_dt['Date_time']:\n",
    "\n",
    "    if (dt.find('AM')!= -1):\n",
    "        \n",
    "        #Then we found AM\n",
    "        am_pm.append('AM')\n",
    "        #print(dt)\n",
    "    else:\n",
    "        am_pm.append('PM')\n",
    "            \n",
    "    \n",
    "fireball_dt['tod'] = am_pm\n",
    "fireball_dt.head()\n",
    "fireball_dt['tod'].value_counts()"
   ]
  },
  {
   "cell_type": "code",
   "execution_count": 17,
   "metadata": {},
   "outputs": [
    {
     "name": "stdout",
     "output_type": "stream",
     "text": [
      "Finished 0 replicates\n",
      "Finished 1000 replicates\n",
      "Finished 2000 replicates\n",
      "Finished 3000 replicates\n",
      "Finished 4000 replicates\n",
      "Finished 5000 replicates\n",
      "Finished 6000 replicates\n",
      "Finished 7000 replicates\n",
      "Finished 8000 replicates\n",
      "Finished 9000 replicates\n",
      "Done with all experiments\n"
     ]
    }
   ],
   "source": [
    "# Run another simulation to comput the null distribution.\n",
    "total_days = fireball_dt['tod'].value_counts().sum()\n",
    "days = range(total_days)\n",
    "# Keep replicates the same\n",
    "\n",
    "observed_fireball_proportion_vec = np.zeros((len(replicates)))\n",
    "expected_fireball_proportion = 0.5\n",
    "for rep in replicates:\n",
    "    \n",
    "    # Flip a coin total_days times times and count successes\n",
    "    n_PM = 0\n",
    "    \n",
    "    for day in days:\n",
    "        \n",
    "        rand_float = np.random.random()\n",
    "        \n",
    "        if rand_float < expected_fireball_proportion:\n",
    "            n_PM += 1   # add 1 to our number of successes\n",
    "            \n",
    "        # Done with this day\n",
    "        \n",
    "    \n",
    "    # Done with this replicate\n",
    "    \n",
    "    # Record n_success in our vector\n",
    "    observed_fireball_proportion_vec[rep] = n_PM\n",
    "    if rep % 1000 == 0:\n",
    "        print(f'Finished {rep} replicates')\n",
    "    \n",
    "\n",
    "print('Done with all experiments')\n",
    "        "
   ]
  },
  {
   "cell_type": "code",
   "execution_count": 18,
   "metadata": {},
   "outputs": [
    {
     "data": {
      "text/plain": [
       "Text(0, 0.5, 'Frequency')"
      ]
     },
     "execution_count": 18,
     "metadata": {},
     "output_type": "execute_result"
    },
    {
     "data": {
      "image/png": "[encoded data removed]",
      "text/plain": [
       "<Figure size 432x288 with 1 Axes>"
      ]
     },
     "metadata": {},
     "output_type": "display_data"
    }
   ],
   "source": [
    "observed_fireball_proportion_df = pd.DataFrame({'observed_proportion': observed_fireball_proportion_vec})\n",
    "n_PM_fireballs = fireball_dt['tod'].value_counts()[1]\n",
    "\n",
    "observed_fireball_proportion_df.hist(bins = 10, edgecolor = 'w')\n",
    "plt.axvline(x = observed_fireball_proportion_vec.mean(),\n",
    "             color = 'k',\n",
    "             label = 'Mean of null distribution')\n",
    "plt.axvline(x = n_PM_fireballs, color = 'b', label = 'Actual observed fireballs in PM')\n",
    "plt.legend()\n",
    "plt.xlabel('Number of PM sightings')\n",
    "plt.ylabel('Frequency')\n"
   ]
  },
  {
   "cell_type": "code",
   "execution_count": 213,
   "metadata": {},
   "outputs": [
    {
     "name": "stdout",
     "output_type": "stream",
     "text": [
      "Of the 10000 null values, 2976 were more extreme than our test statistic of 43.\n",
      "0.2976 0.5952\n"
     ]
    }
   ],
   "source": [
    "# Compute the p-value by hand\n",
    "\n",
    "def compute_p_value_onesample(test_statistic, null_data, direction):\n",
    "        # direction = 'less' or 'greater'. If 'less', we count number of values <= the test statistic,\n",
    "        # if direction = 'greater', we count the number of values >= test statistic\n",
    "        more_extreme_values = []\n",
    "        \n",
    "        if (direction == 'less'):\n",
    "            for data_point in null_data:\n",
    "                if (data_point <= test_statistic):\n",
    "                    more_extreme_values.append(data_point)\n",
    "        else:\n",
    "            for data_point in null_data:\n",
    "                if (data_point >= test_statistic):\n",
    "                    more_extreme_values.append(data_point)\n",
    "                    \n",
    "        n_null_values = len(null_data)\n",
    "        n_more_extreme_values = len(more_extreme_values)\n",
    "        print(f'Of the {n_null_values} null values, {n_more_extreme_values} were more extreme than our test statistic of {test_statistic}.')\n",
    "        \n",
    "        p_value_one_sided = n_more_extreme_values/n_null_values\n",
    "        p_value_two_sided = 2.0 * p_value_one_sided\n",
    "        \n",
    "        return p_value_one_sided, p_value_two_sided\n",
    "\n",
    "p1, p2 = compute_p_value_onesample(n_PM_fireballs,observed_fireball_proportion_vec, 'less')\n",
    "                \n",
    "        \n",
    "print(p1,p2)\n",
    "\n",
    "\n",
    "\n"
   ]
  },
  {
   "cell_type": "code",
   "execution_count": 223,
   "metadata": {},
   "outputs": [
    {
     "data": {
      "image/png": "[encoded data removed]",
      "text/plain": [
       "<Figure size 460.8x316.8 with 1 Axes>"
      ]
     },
     "metadata": {},
     "output_type": "display_data"
    }
   ],
   "source": [
    "observed_fireball_proportion_df.hist(bins = 10, edgecolor = 'w', alpha = 0.7)\n",
    "plt.axvline(x = observed_fireball_proportion_vec.mean(), label = 'Mean of null distribution', color = '#781010')\n",
    "plt.axvline(x = n_PM_fireballs, label = 'Number of PM fireballs', color = 'k')\n",
    "plt.xlabel('Number of PM sightings')\n",
    "plt.ylabel('Frequency')\n",
    "plt.title('Fireballs and Bolides Null distribution')\n",
    "plt.legend()\n",
    "plt.savefig('L7_fireball_distribution.pdf')"
   ]
  },
  {
   "cell_type": "code",
   "execution_count": 19,
   "metadata": {},
   "outputs": [
    {
     "data": {
      "text/plain": [
       "43"
      ]
     },
     "execution_count": 19,
     "metadata": {},
     "output_type": "execute_result"
    }
   ],
   "source": [
    "n_PM_fireballs"
   ]
  },
  {
   "cell_type": "code",
   "execution_count": 20,
   "metadata": {},
   "outputs": [
    {
     "data": {
      "text/plain": [
       "0.4673913043478261"
      ]
     },
     "execution_count": 20,
     "metadata": {},
     "output_type": "execute_result"
    }
   ],
   "source": [
    "43/92"
   ]
  },
  {
   "cell_type": "code",
   "execution_count": null,
   "metadata": {},
   "outputs": [],
   "source": []
  }
 ],
 "metadata": {
  "kernelspec": {
   "display_name": "Python 3",
   "language": "python",
   "name": "python3"
  },
  "language_info": {
   "codemirror_mode": {
    "name": "ipython",
    "version": 3
   },
   "file_extension": ".py",
   "mimetype": "text/x-python",
   "name": "python",
   "nbconvert_exporter": "python",
   "pygments_lexer": "ipython3",
   "version": "3.7.3"
  }
 },
 "nbformat": 4,
 "nbformat_minor": 2
}
