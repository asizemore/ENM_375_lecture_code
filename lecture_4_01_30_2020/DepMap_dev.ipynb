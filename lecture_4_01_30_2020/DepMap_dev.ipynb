{
 "cells": [
  {
   "cell_type": "code",
   "execution_count": null,
   "metadata": {},
   "outputs": [],
   "source": [
    "## Working with DepMap data"
   ]
  },
  {
   "cell_type": "code",
   "execution_count": 1,
   "metadata": {},
   "outputs": [],
   "source": [
    "import pandas as pd\n",
    "import numpy as np\n",
    "import plotly.graph_objects as go\n",
    "import cufflinks as cf\n",
    "import cufflinks as cf\n",
    "import networkx as nx\n",
    "import matplotlib.pyplot as plt\n",
    "import seaborn as sns\n",
    "import scipy as sp\n",
    "%matplotlib inline"
   ]
  },
  {
   "cell_type": "markdown",
   "metadata": {},
   "source": [
    "### Read in DepMap mutation rate and cell line info data"
   ]
  },
  {
   "cell_type": "code",
   "execution_count": 2,
   "metadata": {},
   "outputs": [],
   "source": [
    "#depmap_mutations = pd.read_csv(\"CCLE_mutations.csv\", low_memory = False)\n",
    "depmap_info = pd.read_csv(\"sample_info.csv\")\n",
    "#depmap_crispr_raw = pd.read_csv(\"Achilles_gene_effect.csv\")\n",
    "depmap_expression_raw = pd.read_csv(\"CCLE_expression.csv\")"
   ]
  },
  {
   "cell_type": "code",
   "execution_count": null,
   "metadata": {},
   "outputs": [],
   "source": [
    "depmap_mutations.head()"
   ]
  },
  {
   "cell_type": "code",
   "execution_count": null,
   "metadata": {},
   "outputs": [],
   "source": [
    "depmap_info.head()"
   ]
  },
  {
   "cell_type": "code",
   "execution_count": null,
   "metadata": {},
   "outputs": [],
   "source": [
    "depmap_crispr_raw.head()"
   ]
  },
  {
   "cell_type": "code",
   "execution_count": null,
   "metadata": {},
   "outputs": [],
   "source": [
    "depmap_crispr_raw.rename(columns={\"Unnamed: 0\": \"DepMap_ID\"})\n",
    "\n",
    "# Move DepMap_ID to last columnn\n",
    "depmap_ids = depmap_crispr_raw[\"Unnamed: 0\"]\n",
    "#df1 = depmap_crispr_raw.pop('DepMap_ID') # remove column b and store it in df1\n",
    "#depmap_crispr_raw['DepMap_ID'] = df1 # add b series as a 'new' column.\n",
    "depmap_crispr_raw['DepMap_ID'] = depmap_ids\n"
   ]
  },
  {
   "cell_type": "code",
   "execution_count": 3,
   "metadata": {},
   "outputs": [
    {
     "name": "stdout",
     "output_type": "stream",
     "text": [
      "19145\n",
      "19145\n"
     ]
    }
   ],
   "source": [
    "print(len(depmap_expression_raw.columns))\n",
    "depmap_expression_cellIDs = depmap_expression_raw[\"Unnamed: 0\"]\n",
    "depmap_expression_raw.pop('Unnamed: 0')\n",
    "depmap_expression_raw['DepMap_ID'] = depmap_expression_cellIDs\n",
    "depmap_expression_raw.head()\n",
    "print(len(depmap_expression_raw.columns))\n",
    "nGenes = len(depmap_expression_raw.columns)-1"
   ]
  },
  {
   "cell_type": "markdown",
   "metadata": {},
   "source": [
    "### Retrieve cell lines of interest\n",
    "The cell line names are contained in the `depmap_info` data frame, so we need to match the cell line names with the ACH-___ ID in `depmap_X`."
   ]
  },
  {
   "cell_type": "code",
   "execution_count": 4,
   "metadata": {},
   "outputs": [],
   "source": [
    "depmap_expression = pd.merge(depmap_expression_raw,depmap_info,on = \"DepMap_ID\", how= \"left\")"
   ]
  },
  {
   "cell_type": "code",
   "execution_count": 5,
   "metadata": {},
   "outputs": [
    {
     "data": {
      "text/html": [
       "<div>\n",
       "<style scoped>\n",
       "    .dataframe tbody tr th:only-of-type {\n",
       "        vertical-align: middle;\n",
       "    }\n",
       "\n",
       "    .dataframe tbody tr th {\n",
       "        vertical-align: top;\n",
       "    }\n",
       "\n",
       "    .dataframe thead th {\n",
       "        text-align: right;\n",
       "    }\n",
       "</style>\n",
       "<table border=\"1\" class=\"dataframe\">\n",
       "  <thead>\n",
       "    <tr style=\"text-align: right;\">\n",
       "      <th></th>\n",
       "      <th>TSPAN6 (7105)</th>\n",
       "      <th>TNMD (64102)</th>\n",
       "      <th>DPM1 (8813)</th>\n",
       "      <th>SCYL3 (57147)</th>\n",
       "      <th>C1orf112 (55732)</th>\n",
       "      <th>FGR (2268)</th>\n",
       "      <th>CFH (3075)</th>\n",
       "      <th>FUCA2 (2519)</th>\n",
       "      <th>GCLC (2729)</th>\n",
       "      <th>NFYA (4800)</th>\n",
       "      <th>...</th>\n",
       "      <th>culture_medium</th>\n",
       "      <th>cas9_activity</th>\n",
       "      <th>RRID</th>\n",
       "      <th>sample_collection_site</th>\n",
       "      <th>primary_or_metastasis</th>\n",
       "      <th>disease</th>\n",
       "      <th>disease_subtype</th>\n",
       "      <th>age</th>\n",
       "      <th>Sanger_model_ID</th>\n",
       "      <th>additional_info</th>\n",
       "    </tr>\n",
       "  </thead>\n",
       "  <tbody>\n",
       "    <tr>\n",
       "      <th>0</th>\n",
       "      <td>0.000000</td>\n",
       "      <td>0.0</td>\n",
       "      <td>4.667324</td>\n",
       "      <td>1.761285</td>\n",
       "      <td>3.554589</td>\n",
       "      <td>4.358959</td>\n",
       "      <td>0.641546</td>\n",
       "      <td>2.201634</td>\n",
       "      <td>1.941106</td>\n",
       "      <td>2.150560</td>\n",
       "      <td>...</td>\n",
       "      <td>NaN</td>\n",
       "      <td>NaN</td>\n",
       "      <td>CVCL_2541</td>\n",
       "      <td>haematopoietic_and_lymphoid_tissue</td>\n",
       "      <td>NaN</td>\n",
       "      <td>Lymphoma</td>\n",
       "      <td>T-cell</td>\n",
       "      <td>NaN</td>\n",
       "      <td>NaN</td>\n",
       "      <td>NaN</td>\n",
       "    </tr>\n",
       "    <tr>\n",
       "      <th>1</th>\n",
       "      <td>4.934988</td>\n",
       "      <td>0.0</td>\n",
       "      <td>6.635464</td>\n",
       "      <td>1.929791</td>\n",
       "      <td>2.503349</td>\n",
       "      <td>0.000000</td>\n",
       "      <td>4.883621</td>\n",
       "      <td>6.772546</td>\n",
       "      <td>3.889474</td>\n",
       "      <td>4.139961</td>\n",
       "      <td>...</td>\n",
       "      <td>IMDM + 15% FBS + 1% L-Glutamine + 1% Pen-Strep...</td>\n",
       "      <td>17</td>\n",
       "      <td>NaN</td>\n",
       "      <td>soft_tissue</td>\n",
       "      <td>NaN</td>\n",
       "      <td>Liposarcoma</td>\n",
       "      <td>WD/DDLPS</td>\n",
       "      <td>NaN</td>\n",
       "      <td>NaN</td>\n",
       "      <td>NaN</td>\n",
       "    </tr>\n",
       "    <tr>\n",
       "      <th>2</th>\n",
       "      <td>0.839960</td>\n",
       "      <td>0.0</td>\n",
       "      <td>5.376082</td>\n",
       "      <td>2.687061</td>\n",
       "      <td>4.440288</td>\n",
       "      <td>4.938286</td>\n",
       "      <td>0.536053</td>\n",
       "      <td>3.584963</td>\n",
       "      <td>2.935460</td>\n",
       "      <td>3.157044</td>\n",
       "      <td>...</td>\n",
       "      <td>NaN</td>\n",
       "      <td>NaN</td>\n",
       "      <td>CVCL_1902</td>\n",
       "      <td>pleural_effusion</td>\n",
       "      <td>Metastasis</td>\n",
       "      <td>Lymphoma</td>\n",
       "      <td>Diffuse Large B-cell Lymphoma (DLBCL)</td>\n",
       "      <td>41.0</td>\n",
       "      <td>SIDM00413</td>\n",
       "      <td>NaN</td>\n",
       "    </tr>\n",
       "    <tr>\n",
       "      <th>3</th>\n",
       "      <td>3.722466</td>\n",
       "      <td>0.0</td>\n",
       "      <td>6.029674</td>\n",
       "      <td>2.192194</td>\n",
       "      <td>2.533563</td>\n",
       "      <td>0.150560</td>\n",
       "      <td>5.933809</td>\n",
       "      <td>6.973382</td>\n",
       "      <td>5.192194</td>\n",
       "      <td>3.258519</td>\n",
       "      <td>...</td>\n",
       "      <td>NaN</td>\n",
       "      <td>NaN</td>\n",
       "      <td>CVCL_2019</td>\n",
       "      <td>fibroblast</td>\n",
       "      <td>NaN</td>\n",
       "      <td>Fibroblast</td>\n",
       "      <td>Lung</td>\n",
       "      <td>62.0</td>\n",
       "      <td>NaN</td>\n",
       "      <td>NaN</td>\n",
       "    </tr>\n",
       "    <tr>\n",
       "      <th>4</th>\n",
       "      <td>4.632268</td>\n",
       "      <td>0.0</td>\n",
       "      <td>6.704180</td>\n",
       "      <td>2.792855</td>\n",
       "      <td>4.079805</td>\n",
       "      <td>0.097611</td>\n",
       "      <td>1.150560</td>\n",
       "      <td>5.729553</td>\n",
       "      <td>4.802193</td>\n",
       "      <td>4.372256</td>\n",
       "      <td>...</td>\n",
       "      <td>RPMI-1640: 90.0%</td>\n",
       "      <td>5.7</td>\n",
       "      <td>CVCL_8930</td>\n",
       "      <td>salivary_gland</td>\n",
       "      <td>NaN</td>\n",
       "      <td>Head and Neck Cancer</td>\n",
       "      <td>Squamous Cell Carcinoma, tongue</td>\n",
       "      <td>39.0</td>\n",
       "      <td>NaN</td>\n",
       "      <td>NaN</td>\n",
       "    </tr>\n",
       "  </tbody>\n",
       "</table>\n",
       "<p>5 rows × 19168 columns</p>\n",
       "</div>"
      ],
      "text/plain": [
       "   TSPAN6 (7105)  TNMD (64102)  DPM1 (8813)  SCYL3 (57147)  C1orf112 (55732)  \\\n",
       "0       0.000000           0.0     4.667324       1.761285          3.554589   \n",
       "1       4.934988           0.0     6.635464       1.929791          2.503349   \n",
       "2       0.839960           0.0     5.376082       2.687061          4.440288   \n",
       "3       3.722466           0.0     6.029674       2.192194          2.533563   \n",
       "4       4.632268           0.0     6.704180       2.792855          4.079805   \n",
       "\n",
       "   FGR (2268)  CFH (3075)  FUCA2 (2519)  GCLC (2729)  NFYA (4800)  ...  \\\n",
       "0    4.358959    0.641546      2.201634     1.941106     2.150560  ...   \n",
       "1    0.000000    4.883621      6.772546     3.889474     4.139961  ...   \n",
       "2    4.938286    0.536053      3.584963     2.935460     3.157044  ...   \n",
       "3    0.150560    5.933809      6.973382     5.192194     3.258519  ...   \n",
       "4    0.097611    1.150560      5.729553     4.802193     4.372256  ...   \n",
       "\n",
       "                                      culture_medium  cas9_activity  \\\n",
       "0                                                NaN            NaN   \n",
       "1  IMDM + 15% FBS + 1% L-Glutamine + 1% Pen-Strep...             17   \n",
       "2                                                NaN            NaN   \n",
       "3                                                NaN            NaN   \n",
       "4                                   RPMI-1640: 90.0%            5.7   \n",
       "\n",
       "        RRID              sample_collection_site  primary_or_metastasis  \\\n",
       "0  CVCL_2541  haematopoietic_and_lymphoid_tissue                    NaN   \n",
       "1        NaN                         soft_tissue                    NaN   \n",
       "2  CVCL_1902                    pleural_effusion             Metastasis   \n",
       "3  CVCL_2019                          fibroblast                    NaN   \n",
       "4  CVCL_8930                      salivary_gland                    NaN   \n",
       "\n",
       "                disease                        disease_subtype   age  \\\n",
       "0              Lymphoma                                 T-cell   NaN   \n",
       "1           Liposarcoma                               WD/DDLPS   NaN   \n",
       "2              Lymphoma  Diffuse Large B-cell Lymphoma (DLBCL)  41.0   \n",
       "3            Fibroblast                                   Lung  62.0   \n",
       "4  Head and Neck Cancer        Squamous Cell Carcinoma, tongue  39.0   \n",
       "\n",
       "   Sanger_model_ID  additional_info  \n",
       "0              NaN              NaN  \n",
       "1              NaN              NaN  \n",
       "2        SIDM00413              NaN  \n",
       "3              NaN              NaN  \n",
       "4              NaN              NaN  \n",
       "\n",
       "[5 rows x 19168 columns]"
      ]
     },
     "execution_count": 5,
     "metadata": {},
     "output_type": "execute_result"
    }
   ],
   "source": [
    "depmap_expression.head()"
   ]
  },
  {
   "cell_type": "code",
   "execution_count": 6,
   "metadata": {},
   "outputs": [],
   "source": [
    "a375_all_data = depmap_expression.loc[depmap_expression[\"CCLE_Name\"] == \"A375_SKIN\", :]"
   ]
  },
  {
   "cell_type": "code",
   "execution_count": 7,
   "metadata": {},
   "outputs": [
    {
     "data": {
      "text/plain": [
       "TSPAN6 (7105)               4.0321\n",
       "TNMD (64102)                     0\n",
       "DPM1 (8813)                7.57796\n",
       "SCYL3 (57147)              2.62527\n",
       "C1orf112 (55732)           4.82273\n",
       "                           ...    \n",
       "EEF1AKMT4 (110599564)      2.33914\n",
       "TBCE (6905)                5.47994\n",
       "OOSP4A (112577462)               0\n",
       "ARHGAP11B (89839)          1.41684\n",
       "OOSP3 (112577461)        0.0426443\n",
       "Name: 782, Length: 19144, dtype: object"
      ]
     },
     "execution_count": 7,
     "metadata": {},
     "output_type": "execute_result"
    }
   ],
   "source": [
    "a375_expression = a375_all_data.iloc[0, 0:nGenes]\n",
    "a375_expression"
   ]
  },
  {
   "cell_type": "code",
   "execution_count": 8,
   "metadata": {},
   "outputs": [
    {
     "data": {
      "image/png": "[encoded data removed]",
      "text/plain": [
       "<Figure size 432x288 with 1 Axes>"
      ]
     },
     "metadata": {},
     "output_type": "display_data"
    },
    {
     "name": "stdout",
     "output_type": "stream",
     "text": [
      "2.7310791125790446\n"
     ]
    }
   ],
   "source": [
    "sns.set(style=\"whitegrid\", palette=\"dark\")\n",
    "\n",
    "mean_color = '#434d6e'\n",
    "median_color = '#0a1338'\n",
    "\n",
    "fig = sns.distplot(a375_expression, rug = False, kde = False, label = 'Gene count')\n",
    "fig.axvline(a375_expression.mean(), label = 'Mean', color = mean_color)\n",
    "fig.axvline(a375_expression.median(), label = 'Median', color = median_color, dashes = (2,1,2,1))\n",
    "fig.set(xlabel='Transcripts per million', ylabel='Frequency', title = \"A375 Gene Expression Distribution\")\n",
    "fig.legend()\n",
    "plt.show()\n",
    "print(a375_expression.mean())\n",
    "#fig.figure.savefig(\"L4_population_distribution.pdf\")"
   ]
  },
  {
   "cell_type": "code",
   "execution_count": 35,
   "metadata": {},
   "outputs": [
    {
     "name": "stdout",
     "output_type": "stream",
     "text": [
      "2.5217430237905\n"
     ]
    },
    {
     "data": {
      "image/png": "[encoded data removed]",
      "text/plain": [
       "<Figure size 432x288 with 1 Axes>"
      ]
     },
     "metadata": {},
     "output_type": "display_data"
    }
   ],
   "source": [
    "# Randomly sample n = 100 points from the gene expression data\n",
    "n = 10\n",
    "sample_1 = np.random.choice(a375_expression, n, replace = False)\n",
    "print(sample_1.mean())\n",
    "\n",
    "# Plot histogram\n",
    "# if we want relative frequency, set norm_hist = True\n",
    "fig_1 = sns.distplot(sample_1, rug = False, kde = False, label = 'Gene count', norm_hist = True)\n",
    "fig_1.axvline(sample_1.mean(), label = 'Mean', color = mean_color)\n",
    "#fig_1.axvline(np.median(sample_1), label = 'Median', color = median_color, dashes = (2,1,2,1))\n",
    "fig_1.set(xlabel='Transcripts per million', ylabel='Relative frequency', title = \"A375 Gene Expression Distribution\")\n",
    "fig_1.legend()\n",
    "plt.show()\n",
    "fig_1.figure.savefig(\"L4_expression_sample_n10_4.pdf\")"
   ]
  },
  {
   "cell_type": "code",
   "execution_count": 42,
   "metadata": {},
   "outputs": [
    {
     "name": "stdout",
     "output_type": "stream",
     "text": [
      "done with experiment\n"
     ]
    }
   ],
   "source": [
    "## Sample many times and plot the distribution of means\n",
    "n = 10\n",
    "n_replicates = 1000\n",
    "sample_mean_vec = np.zeros((1,n_replicates))\n",
    "\n",
    "for rep in range(n_replicates):\n",
    "    \n",
    "    # Sample randomly n points from the population\n",
    "    sample_i = np.random.choice(a375_expression, n, replace = False)\n",
    "    \n",
    "    # Compute the mean of the sample\n",
    "    sample_i_mean = np.mean(sample_i)\n",
    "    \n",
    "    # Store the mean\n",
    "    sample_mean_vec[0, rep] = sample_i_mean\n",
    "\n",
    "print(\"done with experiment\")\n",
    "    \n",
    "\n"
   ]
  },
  {
   "cell_type": "code",
   "execution_count": 41,
   "metadata": {},
   "outputs": [
    {
     "data": {
      "image/png": "[encoded data removed]",
      "text/plain": [
       "<Figure size 432x288 with 1 Axes>"
      ]
     },
     "metadata": {},
     "output_type": "display_data"
    }
   ],
   "source": [
    "# Histogram of the means\n",
    "\n",
    "fig_2 = sns.distplot(sample_mean_vec, rug = False, kde = False, label = 'Sample mean',hist_kws={\"linewidth\": 3,\n",
    "                            \"alpha\": 0.7, \"color\": mean_color})\n",
    "fig_2.axvline(a375_expression.mean(), label = 'Population mean', color = '#ff3800')\n",
    "fig_2.axvline(np.mean(sample_mean_vec), label = 'Mean of computed sample means', color = mean_color, dashes = (2,1,2,1))\n",
    "fig_2.set(xlabel='Sample mean (tpm)', ylabel='Frequency', title = \"Sampling distribution\", ylim = (0,120))\n",
    "fig_2.legend()\n",
    "#plt.legend(bbox_to_anchor=(1.05, 1), loc=2, borderaxespad=0.)\n",
    "lgd = plt.legend(loc=2, bbox_to_anchor=(1.05,1), borderaxespad = 0.0)\n",
    "plt.show()\n",
    "#fig_2.figure.savefig(\"L4_expression_distofsamplemeans_n1000.pdf\",bbox_extra_artists=(lgd,), bbox_inches='tight')"
   ]
  },
  {
   "cell_type": "code",
   "execution_count": 92,
   "metadata": {},
   "outputs": [
    {
     "name": "stdout",
     "output_type": "stream",
     "text": [
      "done with experiment\n"
     ]
    },
    {
     "data": {
      "image/png": "[encoded data removed]",
      "text/plain": [
       "<Figure size 432x288 with 1 Axes>"
      ]
     },
     "metadata": {},
     "output_type": "display_data"
    }
   ],
   "source": [
    "## Make horizontal boxplots\n",
    "n = 100\n",
    "n_replicates = 20\n",
    "sample_vec = np.zeros((n,n_replicates))\n",
    "\n",
    "for rep in range(n_replicates):\n",
    "    \n",
    "    # Sample randomly n points from the population\n",
    "    sample_i = np.random.choice(a375_expression, n, replace = False)\n",
    "     \n",
    "    # Store the sample\n",
    "    sample_vec[:, rep] = sample_i\n",
    "    \n",
    "\n",
    "print(\"done with experiment\")\n",
    "\n",
    "\n",
    "plt.plot([np.mean(sample_mean_vec), np.mean(sample_mean_vec)], [0,21], label = 'Population Mean',\n",
    "         color = \"#df5500\", dashes = (2,1,2,1))\n",
    "for rep in range(n_replicates):\n",
    "    # Calculate standard error of the mean\n",
    "    sem_sample = sp.stats.sem(sample_vec[:,rep])  # Check this is the correct SEM def!\n",
    "    ci_left = np.mean(sample_vec[:, rep]) - 2*sem_sample\n",
    "    ci_right = np.mean(sample_vec[:, rep]) + 2*sem_sample\n",
    "    plt.plot([ci_left, ci_right], [rep, rep], marker = '|', color = '#8989aa')\n",
    "    if rep == 0:\n",
    "        plt.plot([np.mean(sample_vec[:, rep])], rep, marker = 'o', color = '#777799', label = 'Sample Mean')\n",
    "    else:\n",
    "        plt.plot([np.mean(sample_vec[:, rep])], rep, marker = 'o', color = '#777799')\n",
    "    \n",
    "\n",
    "    \n",
    "plt.legend()\n",
    "plt.xlabel('Gene expression (tpm)')\n",
    "plt.ylabel('Sample number')\n",
    "lgd = plt.legend(loc=2, bbox_to_anchor=(1.05,1), borderaxespad = 0.0)\n",
    "plt.savefig(\"L4_uncertainty_20samples.pdf\",bbox_extra_artists=(lgd,), bbox_inches='tight')\n"
   ]
  },
  {
   "cell_type": "code",
   "execution_count": 94,
   "metadata": {},
   "outputs": [
    {
     "name": "stdout",
     "output_type": "stream",
     "text": [
      "0.28443261101844075\n",
      "3.1603681216834296\n",
      "2.8300687466678256\n",
      "2.591502899646548 3.729233343720311\n"
     ]
    },
    {
     "data": {
      "image/png": "[encoded data removed]",
      "text/plain": [
       "<Figure size 432x288 with 1 Axes>"
      ]
     },
     "metadata": {},
     "output_type": "display_data"
    }
   ],
   "source": [
    "## Plot that cool one that has the CI, SEM, standdev, etc.\n",
    "\n",
    "fig_4 = sns.stripplot(sample_vec[:, 0], jitter = 0.05, size = 4, orient = 'v', label = 'data')\n",
    "sem_sample = sp.stats.sem(sample_vec[:,0], ddof = 1)\n",
    "print(sem_sample)\n",
    "sample_mean = np.mean(sample_vec[:,0])\n",
    "print(sample_mean)\n",
    "ci_left = np.mean(sample_vec[:, 0]) - 2*sem_sample\n",
    "ci_right = np.mean(sample_vec[:, 0]) + 2*sem_sample\n",
    "stdev_sample = np.std(sample_vec[:, 0])\n",
    "print(np.std(sample_vec[:, 0]))\n",
    "print(ci_left, ci_right)\n",
    "\n",
    "    \n",
    "plt.plot([1.5, 1.5], [ci_left, ci_right], label = '95% confidence interval', lw = 2, marker = '_', markersize = 12)\n",
    "plt.plot([0.5, 0.5], [sample_mean - sem_sample, sample_mean + sem_sample], label = 'pm 1 se', lw = 2, marker = '_', markersize = 12)\n",
    "plt.plot([1, 1], [sample_mean - 2*sem_sample, sample_mean + 2*sem_sample], label = 'pm 2 se', lw = 2, marker = '_', markersize = 12)\n",
    "plt.plot([2, 2], [sample_mean - stdev_sample, sample_mean + stdev_sample], label = 'pm 1 stdev', lw = 2, marker = '_', markersize = 12)\n",
    "\n",
    "# confidence interval\n",
    "\n",
    "lgd = plt.legend(loc=2, bbox_to_anchor=(1.05,1), borderaxespad = 0.0)\n",
    "plt.ylabel('Gene expression (tmp)')\n",
    "plt.xticks(np.arange(5)/2, ('Data', r'$\\pm$ 1 SE', r'$\\pm$ 2 SE', '95% CI', r'$\\pm 1 stdev'))\n",
    "plt.savefig('L4_expression_uncertainty.pdf',bbox_extra_artists=(lgd,), bbox_inches='tight')\n"
   ]
  },
  {
   "cell_type": "code",
   "execution_count": null,
   "metadata": {},
   "outputs": [],
   "source": [
    "fig_5 = sns.stripplot(a375_expression, jitter = 0.05, size = 1, orient = 'v')\n",
    "fig_5.set(xlabel='A375', ylabel='Transcripts per million', title = 'A375 gene expression')\n",
    "fig_5.figure.savefig('L4_A375_expression_all.pdf')"
   ]
  },
  {
   "cell_type": "code",
   "execution_count": null,
   "metadata": {},
   "outputs": [],
   "source": []
  },
  {
   "cell_type": "code",
   "execution_count": 63,
   "metadata": {},
   "outputs": [
    {
     "data": {
      "text/plain": [
       "array([[1.86509767, 1.92525175, 2.27156303, 2.17147008, 1.9210666 ,\n",
       "        1.81240146, 2.68410394, 2.58987139, 2.34112671, 3.41539906,\n",
       "        2.98739618, 2.11269963, 3.10431615, 2.30816694, 1.13108473,\n",
       "        3.46058423, 3.39261603, 2.88030593, 2.35780273, 3.99237075,\n",
       "        3.76469223, 3.88744018, 2.06884944, 1.35807003, 3.66488376,\n",
       "        3.69705767, 3.0928963 , 2.70095316, 1.63992552, 2.76625596,\n",
       "        2.57914859, 3.10112965, 3.61167824, 1.90004758, 2.72037127,\n",
       "        2.88487293, 2.06061453, 3.44690519, 3.52328461, 3.32399145,\n",
       "        3.07883976, 2.60176467, 3.98499901, 1.9649275 , 3.84149083,\n",
       "        0.84487756, 4.28969984, 2.02378236, 5.28297481, 2.82871498,\n",
       "        3.07437294, 2.64462259, 2.77153736, 3.5043152 , 1.84432237,\n",
       "        2.05498986, 2.16630752, 2.54241488, 2.54370356, 4.20405099,\n",
       "        4.18732131, 2.71128929, 3.60450766, 4.30257475, 2.84994423,\n",
       "        2.04501438, 3.11291966, 4.02739397, 2.61275677, 4.18251357,\n",
       "        2.28617609, 1.69844287, 3.41246877, 2.69232383, 3.43513127,\n",
       "        2.41675042, 3.1089655 , 3.32533813, 2.12919673, 3.46905437,\n",
       "        3.47227488, 3.28934791, 3.26737729, 4.40848053, 3.40341171,\n",
       "        3.61432414, 4.39449921, 2.25095634, 2.60180082, 2.24242961,\n",
       "        3.06200119, 2.3696459 , 2.8797845 , 1.47588373, 3.38081373,\n",
       "        2.61587245, 2.98864454, 3.20818849, 2.87295256, 3.77418101,\n",
       "        2.42650833, 2.35356088, 3.14534405, 2.36984561, 3.08660317,\n",
       "        2.29716545, 4.30214181, 2.57100859, 2.31080527, 3.79031675,\n",
       "        4.67241019, 2.33899462, 2.65878795, 0.94718749, 2.99913947,\n",
       "        2.04469843, 2.50815348, 3.41996277, 2.76566887, 1.45521326,\n",
       "        2.69871326, 4.15175996, 1.9868041 , 3.35489071, 3.94615908,\n",
       "        1.89880912, 2.91055373, 3.09705035, 1.44798304, 1.90237956,\n",
       "        2.32512515, 2.48779616, 2.98531333, 4.23627622, 1.74142658,\n",
       "        4.42329707, 3.18265908, 2.47749351, 3.72894652, 2.23232553,\n",
       "        2.73013232, 2.02022098, 2.70607584, 4.65694959, 2.49206588,\n",
       "        2.93465911, 2.37843498, 4.47869134, 3.49868153, 2.59392277,\n",
       "        1.64772978, 3.30861267, 3.10912945, 3.51546145, 2.67250305,\n",
       "        4.19147857, 2.85094347, 1.6153943 , 1.98352828, 2.60893019,\n",
       "        3.10377555, 1.58156731, 1.10400524, 1.90746434, 1.89848732,\n",
       "        2.50414355, 3.37715031, 4.22885825, 3.57355229, 2.05006749,\n",
       "        2.00626371, 2.72116444, 3.84582903, 2.6780638 , 1.9465392 ,\n",
       "        2.58086946, 4.07291311, 3.52683731, 1.77576311, 1.58728719,\n",
       "        4.77735976, 3.09098571, 2.1102586 , 2.72989835, 2.53032921,\n",
       "        3.00389443, 2.96048579, 2.65188937, 3.03652495, 3.59667938,\n",
       "        3.17601757, 3.83166558, 2.19390644, 2.77422881, 3.35226474,\n",
       "        1.26210856, 2.05682779, 2.7724947 , 2.26626569, 2.8887908 ,\n",
       "        2.36544332, 3.16228444, 4.34294647, 3.03362943, 3.89364237,\n",
       "        3.74738263, 2.77220489, 4.49385558, 1.62177881, 3.03232008,\n",
       "        2.3489204 , 3.75537205, 3.43204772, 2.38240397, 2.22604336,\n",
       "        2.79017763, 1.6795477 , 2.84863988, 2.00886283, 3.0668695 ,\n",
       "        2.29260877, 2.31986702, 2.68128669, 1.92549113, 2.81268316,\n",
       "        1.3503256 , 2.80613231, 2.93555253, 3.16459277, 2.1908414 ,\n",
       "        1.28391672, 2.48678182, 2.13308868, 4.38576487, 2.606377  ,\n",
       "        2.65056993, 3.19693755, 3.55826687, 2.38997945, 1.65402348,\n",
       "        2.21711907, 3.69777382, 1.79928973, 3.86750465, 1.97214202,\n",
       "        2.99975778, 3.11719279, 2.14022007, 1.71703469, 1.06630287,\n",
       "        2.78081079, 4.35751856, 3.27273062, 1.93142659, 2.94546559,\n",
       "        1.99748777, 3.62728246, 4.08511415, 3.31882566, 2.28217342,\n",
       "        3.15352829, 2.09963355, 2.7568913 , 2.17844921, 3.18122015,\n",
       "        2.42548678, 4.18670276, 2.77698054, 3.31846326, 3.33905311,\n",
       "        2.98018469, 3.2829702 , 1.34459298, 3.9790549 , 2.72170831,\n",
       "        2.0646753 , 3.1862127 , 2.03324885, 3.5634837 , 2.7590569 ,\n",
       "        2.19152192, 2.44743137, 3.07229677, 2.74541772, 3.82537044,\n",
       "        2.42393928, 4.19934664, 2.90063632, 2.16387773, 4.04625053,\n",
       "        2.34533782, 2.98294417, 3.97792633, 4.5863861 , 2.97975763,\n",
       "        2.40818941, 2.39209543, 2.19497105, 2.83420365, 3.39384586,\n",
       "        2.02087672, 3.63717534, 3.50422214, 1.95704256, 1.75059472,\n",
       "        3.98944476, 2.73260907, 2.51916481, 3.18346542, 1.12309264,\n",
       "        3.23464343, 2.15686263, 0.99114507, 2.30384375, 3.86940025,\n",
       "        2.7296541 , 1.82289102, 2.82569252, 2.87221889, 3.81090868,\n",
       "        2.12586177, 2.53627653, 3.10851502, 3.02277388, 2.54581977,\n",
       "        3.61932094, 3.00018101, 3.45172447, 2.20648856, 2.94955957,\n",
       "        1.29041312, 1.93250312, 2.59840693, 4.54124786, 2.67200327,\n",
       "        2.97426131, 2.54054787, 2.98503653, 2.81572879, 2.79808326,\n",
       "        3.06334583, 4.28884682, 2.03672702, 3.51961739, 3.01624973,\n",
       "        3.59072219, 2.89392672, 3.96398294, 2.45927697, 3.49905253,\n",
       "        1.63563507, 3.78163865, 4.4000562 , 1.56103119, 3.0770458 ,\n",
       "        1.40482848, 1.22733352, 2.89741149, 3.41239209, 3.79954543,\n",
       "        2.48379982, 2.42954517, 1.67865486, 3.03296017, 3.34424141,\n",
       "        1.38253839, 4.25954711, 3.01065949, 3.40495045, 2.40154074,\n",
       "        2.65025669, 3.52206059, 2.81973468, 2.63725575, 1.31080484,\n",
       "        2.9003781 , 2.23988365, 2.90506954, 3.05263879, 3.31277965,\n",
       "        2.37726131, 3.33127454, 3.568529  , 3.06343739, 2.03702359,\n",
       "        3.17676097, 2.16443087, 3.07851755, 1.92150217, 2.95784524,\n",
       "        1.74127798, 2.9588072 , 2.67394519, 3.24870448, 3.130313  ,\n",
       "        2.2422885 , 3.75982123, 3.18178729, 2.04205806, 2.18561975,\n",
       "        2.43086324, 2.49323714, 1.67963738, 2.33841098, 3.01586612,\n",
       "        1.96513385, 1.64066775, 2.79096674, 2.03567701, 3.53394658,\n",
       "        3.35773877, 2.16278401, 2.57484984, 3.19267345, 2.9289892 ,\n",
       "        3.28927987, 2.14943919, 2.60083948, 3.36578066, 4.12515121,\n",
       "        2.00763547, 3.07675359, 3.62739303, 2.96068079, 3.28685092,\n",
       "        2.98993765, 2.34476025, 2.96249149, 2.27319488, 3.70345678,\n",
       "        1.88681712, 3.55181577, 3.09225969, 2.55594893, 2.9549776 ,\n",
       "        3.47267472, 3.52046987, 2.95440143, 3.20766258, 1.51446741,\n",
       "        2.05897164, 3.56389932, 4.54984355, 3.28969934, 1.78801748,\n",
       "        2.0658385 , 2.1990278 , 1.35734082, 2.29228348, 3.13852314,\n",
       "        2.292552  , 2.51397943, 3.87146926, 3.06886238, 1.68483364,\n",
       "        1.7738169 , 1.84441517, 3.00138215, 2.59009418, 1.36388474,\n",
       "        1.56013737, 1.34597807, 3.14779081, 3.14475061, 2.67019324,\n",
       "        2.63066983, 2.50008073, 2.41036504, 1.37516093, 3.42113045,\n",
       "        1.58720759, 2.23147066, 2.07807361, 2.95015727, 3.2051043 ,\n",
       "        1.79468807, 2.45794884, 2.5125246 , 2.90792376, 2.17822759,\n",
       "        4.39158125, 1.86370613, 3.12784811, 2.2999507 , 2.13701594,\n",
       "        3.116302  , 3.17710604, 3.62588581, 3.2109233 , 4.0927477 ,\n",
       "        1.7709254 , 2.72054523, 2.50341456, 3.99555145, 3.37551387,\n",
       "        2.41822721, 1.90734569, 2.47312099, 2.22211254, 3.04444525,\n",
       "        1.11514189, 2.2276886 , 1.63677267, 3.67518058, 3.54982474,\n",
       "        3.81017881, 2.56419757, 2.89638086, 2.75454535, 2.8557728 ,\n",
       "        2.82793528, 2.83402268, 2.90171418, 2.1592785 , 3.08342113,\n",
       "        3.7506558 , 1.57591247, 2.42174633, 2.62591985, 1.86519536,\n",
       "        1.37450153, 4.44926269, 0.56421242, 2.60895995, 1.97162638,\n",
       "        2.71829807, 3.32081614, 2.36545257, 2.70193888, 3.42335663,\n",
       "        2.66581553, 3.77852074, 2.67526549, 1.67846008, 3.42051535,\n",
       "        3.14865866, 2.03913974, 4.19382801, 3.95278738, 1.73728453,\n",
       "        2.5488212 , 3.11065253, 1.99980298, 3.54519949, 3.29379601,\n",
       "        4.1481596 , 3.87349609, 4.07648289, 1.82562687, 2.81651988,\n",
       "        2.72581569, 2.57645326, 2.92289704, 2.88327735, 2.07692974,\n",
       "        2.64530625, 2.99638509, 3.69020172, 2.83485238, 2.04139288,\n",
       "        2.71150923, 1.56651266, 2.7233129 , 3.4268298 , 3.91500777,\n",
       "        2.85397269, 2.26072728, 3.47907102, 2.52547465, 2.90188454,\n",
       "        0.98135365, 1.62919419, 3.10438835, 3.15179918, 2.60629284,\n",
       "        2.43576812, 2.76241311, 1.57312333, 2.48307973, 2.84118135,\n",
       "        2.17650889, 2.72824642, 2.12774096, 2.60510506, 1.57146563,\n",
       "        2.39064877, 3.43992547, 2.1748451 , 2.51292519, 3.75037796,\n",
       "        2.28802847, 2.30114882, 0.66024381, 3.96559351, 3.35022591,\n",
       "        2.3588056 , 2.18249762, 3.83295775, 2.19761008, 2.01660745,\n",
       "        1.70647234, 2.06450994, 1.52389307, 1.94658291, 2.96484413,\n",
       "        2.37636785, 3.45712353, 2.81651106, 2.64839551, 3.05042061,\n",
       "        2.78495763, 2.44641983, 3.10728601, 2.71756279, 2.79483696,\n",
       "        2.19070824, 3.95213692, 3.57666802, 4.158881  , 3.08241494,\n",
       "        2.81372501, 4.16882217, 3.08303107, 2.70341637, 3.03845568,\n",
       "        3.54194811, 3.00827891, 3.03030505, 2.7462169 , 3.69184293,\n",
       "        2.70104248, 1.27292056, 3.65190713, 1.34580578, 3.1284088 ,\n",
       "        2.73137071, 3.69426392, 1.49666894, 3.32545142, 1.61548831,\n",
       "        2.79952611, 2.75852153, 2.71262158, 2.78660828, 2.81932882,\n",
       "        2.74826766, 1.7642185 , 2.4251437 , 3.66104153, 2.93150352,\n",
       "        1.76463936, 3.54314593, 3.6212872 , 2.80642759, 1.62408143,\n",
       "        2.65299697, 2.31863628, 3.33326156, 1.8036469 , 2.93414296,\n",
       "        2.02433539, 2.55269064, 3.39228657, 2.20396338, 1.55199453,\n",
       "        1.50535885, 1.92152597, 3.04814554, 2.89746555, 3.44476465,\n",
       "        2.98780305, 4.22016361, 4.7478265 , 3.07399498, 2.92350971,\n",
       "        1.88989812, 2.10665132, 3.08453657, 2.38885469, 4.22937907,\n",
       "        3.82011114, 3.43441305, 1.86772801, 3.15695034, 1.76954655,\n",
       "        2.66496126, 3.33581264, 3.4509549 , 1.75521819, 3.49366245,\n",
       "        2.23870429, 2.54749948, 2.80434881, 2.70128315, 4.55411514,\n",
       "        1.06212896, 1.87391913, 2.64600787, 2.90223107, 2.84205391,\n",
       "        2.75556492, 3.06872768, 3.3979708 , 2.92794106, 1.63637282,\n",
       "        1.90189412, 2.77122102, 3.04507185, 2.94977418, 2.51291857,\n",
       "        2.53851055, 2.82448784, 3.49641656, 3.03328201, 4.48733672,\n",
       "        2.85625683, 2.6925089 , 1.46507186, 3.54307905, 3.30603301,\n",
       "        3.97262003, 3.5282567 , 1.84602581, 1.96786022, 3.5857717 ,\n",
       "        3.7027771 , 3.98347673, 3.18159382, 2.56244901, 3.6413626 ,\n",
       "        5.52849679, 3.63261895, 3.36951012, 2.65757964, 1.69956657,\n",
       "        3.09555021, 3.25347627, 4.4481804 , 2.52693946, 1.53179288,\n",
       "        3.28143214, 3.03436429, 2.92727052, 3.47868539, 2.61032421,\n",
       "        3.50412622, 1.71389818, 3.80769603, 3.43661238, 3.20492772,\n",
       "        1.93272465, 3.12619675, 3.07447451, 2.76055579, 2.89886666,\n",
       "        3.51355534, 3.02078512, 3.44693104, 1.91139003, 2.3937938 ,\n",
       "        2.19321534, 3.17802282, 3.05307924, 2.73061414, 1.59935987,\n",
       "        3.51105769, 3.46113191, 2.06142429, 3.3411778 , 2.50972779,\n",
       "        2.03959819, 3.18745657, 3.73527624, 3.05038676, 2.14389296,\n",
       "        3.53305845, 1.95111911, 1.52114699, 2.45244619, 1.54687913,\n",
       "        2.10208208, 1.4463518 , 4.02013644, 3.81560289, 2.7344556 ,\n",
       "        0.66594072, 2.80039862, 3.588351  , 3.10434087, 3.16939503,\n",
       "        3.23072539, 3.21891055, 2.22314775, 3.41936169, 2.94582896,\n",
       "        2.68018084, 4.07395343, 3.75306393, 3.08684939, 3.63908976,\n",
       "        1.79003155, 3.85047012, 1.89809574, 2.91860535, 4.10215498,\n",
       "        3.54398256, 2.21989356, 2.02494818, 2.56198158, 4.47378772,\n",
       "        3.49988451, 2.59302228, 0.90038619, 2.13825132, 3.48443951,\n",
       "        3.85710492, 2.63466599, 3.51578   , 2.16047576, 3.56724967,\n",
       "        1.50945967, 2.5568035 , 2.83620372, 3.39320386, 1.34990666,\n",
       "        2.50777823, 3.18292152, 3.19956387, 2.451612  , 3.75574793,\n",
       "        2.12715399, 3.10695459, 2.73665577, 3.25245712, 2.90643458,\n",
       "        1.36109112, 2.74624018, 2.98877889, 3.09943311, 1.63111264,\n",
       "        0.81765549, 2.07227965, 2.88396832, 3.95708416, 2.33433833,\n",
       "        2.3954053 , 2.55204083, 1.72485794, 3.03162932, 2.61046228,\n",
       "        3.89733792, 2.94852567, 2.06352374, 3.1621158 , 2.91734955,\n",
       "        3.4841955 , 3.48280049, 2.2543486 , 2.12258602, 3.07377764,\n",
       "        1.89430988, 2.51479347, 2.30229634, 1.05439027, 1.87517506,\n",
       "        4.8843062 , 2.66921649, 1.81453945, 3.01479492, 3.41476819,\n",
       "        3.14955406, 1.87144504, 2.3049077 , 3.75255361, 2.13470699,\n",
       "        2.93363575, 3.36547968, 1.6668162 , 3.2477482 , 3.48120973,\n",
       "        2.06358999, 3.25696086, 2.01328426, 3.34709543, 2.08082297,\n",
       "        2.37156496, 2.47185408, 1.70818537, 1.7377613 , 2.64097388,\n",
       "        2.58212565, 3.58370763, 3.79548634, 5.39464845, 2.30258897,\n",
       "        1.83927789, 3.11541445, 2.43133408, 4.65561323, 2.98385845,\n",
       "        2.37562071, 1.77706268, 2.71024157, 1.95200905, 4.20635183,\n",
       "        2.02532326, 1.74964841, 3.81510707, 4.0630675 , 2.71358253,\n",
       "        1.37631771, 3.11295041, 4.53016654, 2.90616373, 3.36869978,\n",
       "        3.76969982, 2.53048421, 3.3348716 , 4.17645781, 2.98565611,\n",
       "        4.21571335, 3.4912367 , 2.63570809, 2.38804559, 2.12982899,\n",
       "        4.10321009, 4.18516413, 1.38027969, 2.43029557, 3.11930127,\n",
       "        2.1035909 , 4.48178029, 3.10044315, 2.00149776, 1.28605636,\n",
       "        2.16356044, 3.59153129, 3.16756497, 4.29368887, 3.5909665 ,\n",
       "        2.56974552, 2.33213285, 1.46737473, 2.68652686, 3.09118944,\n",
       "        1.97132802, 4.34365369, 2.50261233, 2.60665186, 1.29931863,\n",
       "        2.76467713, 3.00568318, 2.20754609, 1.96539133, 1.00866268,\n",
       "        2.87258753, 2.78846366, 2.35260428, 2.48302648, 1.69323884,\n",
       "        3.1902186 , 2.84155324, 1.74976969, 2.82528262, 3.79589399,\n",
       "        3.75095947, 2.44398347, 2.98253661, 4.1235067 , 3.74142002,\n",
       "        2.49233855, 2.75311621, 2.72491057, 2.61174748, 1.5739741 ,\n",
       "        2.12809724, 4.29561384, 2.7470174 , 3.81299914, 2.30800716,\n",
       "        2.54661401, 3.62753   , 2.52804091, 1.29593578, 3.24499322,\n",
       "        3.88769686, 2.82924732, 2.32373144, 2.39163046, 4.4059034 ,\n",
       "        2.32608935, 1.23392384, 2.0931458 , 2.74877285, 3.83711382,\n",
       "        3.81832371, 1.50700325, 2.44262126, 1.98439475, 2.06680229]])"
      ]
     },
     "execution_count": 63,
     "metadata": {},
     "output_type": "execute_result"
    }
   ],
   "source": [
    "v"
   ]
  },
  {
   "cell_type": "code",
   "execution_count": null,
   "metadata": {},
   "outputs": [],
   "source": []
  }
 ],
 "metadata": {
  "kernelspec": {
   "display_name": "Python 3",
   "language": "python",
   "name": "python3"
  },
  "language_info": {
   "codemirror_mode": {
    "name": "ipython",
    "version": 3
   },
   "file_extension": ".py",
   "mimetype": "text/x-python",
   "name": "python",
   "nbconvert_exporter": "python",
   "pygments_lexer": "ipython3",
   "version": "3.7.3"
  }
 },
 "nbformat": 4,
 "nbformat_minor": 2
}
