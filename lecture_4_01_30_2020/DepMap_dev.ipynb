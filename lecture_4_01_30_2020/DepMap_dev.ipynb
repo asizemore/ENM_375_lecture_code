{
 "cells": [
  {
   "cell_type": "code",
   "execution_count": null,
   "metadata": {},
   "outputs": [],
   "source": [
    "## Working with DepMap data"
   ]
  },
  {
   "cell_type": "code",
   "execution_count": 1,
   "metadata": {},
   "outputs": [],
   "source": [
    "import pandas as pd\n",
    "import numpy as np\n",
    "import plotly.graph_objects as go\n",
    "import cufflinks as cf\n",
    "import cufflinks as cf\n",
    "import networkx as nx\n",
    "import matplotlib.pyplot as plt\n",
    "import seaborn as sns\n",
    "import scipy as sp\n",
    "%matplotlib inline"
   ]
  },
  {
   "cell_type": "markdown",
   "metadata": {},
   "source": [
    "### Read in DepMap mutation rate and cell line info data"
   ]
  },
  {
   "cell_type": "code",
   "execution_count": 2,
   "metadata": {},
   "outputs": [
    {
     "ename": "FileNotFoundError",
     "evalue": "[Errno 2] File b'sample_info.csv' does not exist: b'sample_info.csv'",
     "output_type": "error",
     "traceback": [
      "\u001b[0;31m---------------------------------------------------------------------------\u001b[0m",
      "\u001b[0;31mFileNotFoundError\u001b[0m                         Traceback (most recent call last)",
      "\u001b[0;32m<ipython-input-2-278ebe9ee03d>\u001b[0m in \u001b[0;36m<module>\u001b[0;34m\u001b[0m\n\u001b[1;32m      1\u001b[0m \u001b[0;31m#depmap_mutations = pd.read_csv(\"CCLE_mutations.csv\", low_memory = False)\u001b[0m\u001b[0;34m\u001b[0m\u001b[0;34m\u001b[0m\u001b[0;34m\u001b[0m\u001b[0m\n\u001b[0;32m----> 2\u001b[0;31m \u001b[0mdepmap_info\u001b[0m \u001b[0;34m=\u001b[0m \u001b[0mpd\u001b[0m\u001b[0;34m.\u001b[0m\u001b[0mread_csv\u001b[0m\u001b[0;34m(\u001b[0m\u001b[0;34m\"sample_info.csv\"\u001b[0m\u001b[0;34m)\u001b[0m\u001b[0;34m\u001b[0m\u001b[0;34m\u001b[0m\u001b[0m\n\u001b[0m\u001b[1;32m      3\u001b[0m \u001b[0;31m#depmap_crispr_raw = pd.read_csv(\"Achilles_gene_effect.csv\")\u001b[0m\u001b[0;34m\u001b[0m\u001b[0;34m\u001b[0m\u001b[0;34m\u001b[0m\u001b[0m\n\u001b[1;32m      4\u001b[0m \u001b[0mdepmap_expression_raw\u001b[0m \u001b[0;34m=\u001b[0m \u001b[0mpd\u001b[0m\u001b[0;34m.\u001b[0m\u001b[0mread_csv\u001b[0m\u001b[0;34m(\u001b[0m\u001b[0;34m\"CCLE_expression.csv\"\u001b[0m\u001b[0;34m)\u001b[0m\u001b[0;34m\u001b[0m\u001b[0;34m\u001b[0m\u001b[0m\n",
      "\u001b[0;32m/opt/conda/lib/python3.7/site-packages/pandas/io/parsers.py\u001b[0m in \u001b[0;36mparser_f\u001b[0;34m(filepath_or_buffer, sep, delimiter, header, names, index_col, usecols, squeeze, prefix, mangle_dupe_cols, dtype, engine, converters, true_values, false_values, skipinitialspace, skiprows, skipfooter, nrows, na_values, keep_default_na, na_filter, verbose, skip_blank_lines, parse_dates, infer_datetime_format, keep_date_col, date_parser, dayfirst, cache_dates, iterator, chunksize, compression, thousands, decimal, lineterminator, quotechar, quoting, doublequote, escapechar, comment, encoding, dialect, error_bad_lines, warn_bad_lines, delim_whitespace, low_memory, memory_map, float_precision)\u001b[0m\n\u001b[1;32m    683\u001b[0m         )\n\u001b[1;32m    684\u001b[0m \u001b[0;34m\u001b[0m\u001b[0m\n\u001b[0;32m--> 685\u001b[0;31m         \u001b[0;32mreturn\u001b[0m \u001b[0m_read\u001b[0m\u001b[0;34m(\u001b[0m\u001b[0mfilepath_or_buffer\u001b[0m\u001b[0;34m,\u001b[0m \u001b[0mkwds\u001b[0m\u001b[0;34m)\u001b[0m\u001b[0;34m\u001b[0m\u001b[0;34m\u001b[0m\u001b[0m\n\u001b[0m\u001b[1;32m    686\u001b[0m \u001b[0;34m\u001b[0m\u001b[0m\n\u001b[1;32m    687\u001b[0m     \u001b[0mparser_f\u001b[0m\u001b[0;34m.\u001b[0m\u001b[0m__name__\u001b[0m \u001b[0;34m=\u001b[0m \u001b[0mname\u001b[0m\u001b[0;34m\u001b[0m\u001b[0;34m\u001b[0m\u001b[0m\n",
      "\u001b[0;32m/opt/conda/lib/python3.7/site-packages/pandas/io/parsers.py\u001b[0m in \u001b[0;36m_read\u001b[0;34m(filepath_or_buffer, kwds)\u001b[0m\n\u001b[1;32m    455\u001b[0m \u001b[0;34m\u001b[0m\u001b[0m\n\u001b[1;32m    456\u001b[0m     \u001b[0;31m# Create the parser.\u001b[0m\u001b[0;34m\u001b[0m\u001b[0;34m\u001b[0m\u001b[0;34m\u001b[0m\u001b[0m\n\u001b[0;32m--> 457\u001b[0;31m     \u001b[0mparser\u001b[0m \u001b[0;34m=\u001b[0m \u001b[0mTextFileReader\u001b[0m\u001b[0;34m(\u001b[0m\u001b[0mfp_or_buf\u001b[0m\u001b[0;34m,\u001b[0m \u001b[0;34m**\u001b[0m\u001b[0mkwds\u001b[0m\u001b[0;34m)\u001b[0m\u001b[0;34m\u001b[0m\u001b[0;34m\u001b[0m\u001b[0m\n\u001b[0m\u001b[1;32m    458\u001b[0m \u001b[0;34m\u001b[0m\u001b[0m\n\u001b[1;32m    459\u001b[0m     \u001b[0;32mif\u001b[0m \u001b[0mchunksize\u001b[0m \u001b[0;32mor\u001b[0m \u001b[0miterator\u001b[0m\u001b[0;34m:\u001b[0m\u001b[0;34m\u001b[0m\u001b[0;34m\u001b[0m\u001b[0m\n",
      "\u001b[0;32m/opt/conda/lib/python3.7/site-packages/pandas/io/parsers.py\u001b[0m in \u001b[0;36m__init__\u001b[0;34m(self, f, engine, **kwds)\u001b[0m\n\u001b[1;32m    893\u001b[0m             \u001b[0mself\u001b[0m\u001b[0;34m.\u001b[0m\u001b[0moptions\u001b[0m\u001b[0;34m[\u001b[0m\u001b[0;34m\"has_index_names\"\u001b[0m\u001b[0;34m]\u001b[0m \u001b[0;34m=\u001b[0m \u001b[0mkwds\u001b[0m\u001b[0;34m[\u001b[0m\u001b[0;34m\"has_index_names\"\u001b[0m\u001b[0;34m]\u001b[0m\u001b[0;34m\u001b[0m\u001b[0;34m\u001b[0m\u001b[0m\n\u001b[1;32m    894\u001b[0m \u001b[0;34m\u001b[0m\u001b[0m\n\u001b[0;32m--> 895\u001b[0;31m         \u001b[0mself\u001b[0m\u001b[0;34m.\u001b[0m\u001b[0m_make_engine\u001b[0m\u001b[0;34m(\u001b[0m\u001b[0mself\u001b[0m\u001b[0;34m.\u001b[0m\u001b[0mengine\u001b[0m\u001b[0;34m)\u001b[0m\u001b[0;34m\u001b[0m\u001b[0;34m\u001b[0m\u001b[0m\n\u001b[0m\u001b[1;32m    896\u001b[0m \u001b[0;34m\u001b[0m\u001b[0m\n\u001b[1;32m    897\u001b[0m     \u001b[0;32mdef\u001b[0m \u001b[0mclose\u001b[0m\u001b[0;34m(\u001b[0m\u001b[0mself\u001b[0m\u001b[0;34m)\u001b[0m\u001b[0;34m:\u001b[0m\u001b[0;34m\u001b[0m\u001b[0;34m\u001b[0m\u001b[0m\n",
      "\u001b[0;32m/opt/conda/lib/python3.7/site-packages/pandas/io/parsers.py\u001b[0m in \u001b[0;36m_make_engine\u001b[0;34m(self, engine)\u001b[0m\n\u001b[1;32m   1133\u001b[0m     \u001b[0;32mdef\u001b[0m \u001b[0m_make_engine\u001b[0m\u001b[0;34m(\u001b[0m\u001b[0mself\u001b[0m\u001b[0;34m,\u001b[0m \u001b[0mengine\u001b[0m\u001b[0;34m=\u001b[0m\u001b[0;34m\"c\"\u001b[0m\u001b[0;34m)\u001b[0m\u001b[0;34m:\u001b[0m\u001b[0;34m\u001b[0m\u001b[0;34m\u001b[0m\u001b[0m\n\u001b[1;32m   1134\u001b[0m         \u001b[0;32mif\u001b[0m \u001b[0mengine\u001b[0m \u001b[0;34m==\u001b[0m \u001b[0;34m\"c\"\u001b[0m\u001b[0;34m:\u001b[0m\u001b[0;34m\u001b[0m\u001b[0;34m\u001b[0m\u001b[0m\n\u001b[0;32m-> 1135\u001b[0;31m             \u001b[0mself\u001b[0m\u001b[0;34m.\u001b[0m\u001b[0m_engine\u001b[0m \u001b[0;34m=\u001b[0m \u001b[0mCParserWrapper\u001b[0m\u001b[0;34m(\u001b[0m\u001b[0mself\u001b[0m\u001b[0;34m.\u001b[0m\u001b[0mf\u001b[0m\u001b[0;34m,\u001b[0m \u001b[0;34m**\u001b[0m\u001b[0mself\u001b[0m\u001b[0;34m.\u001b[0m\u001b[0moptions\u001b[0m\u001b[0;34m)\u001b[0m\u001b[0;34m\u001b[0m\u001b[0;34m\u001b[0m\u001b[0m\n\u001b[0m\u001b[1;32m   1136\u001b[0m         \u001b[0;32melse\u001b[0m\u001b[0;34m:\u001b[0m\u001b[0;34m\u001b[0m\u001b[0;34m\u001b[0m\u001b[0m\n\u001b[1;32m   1137\u001b[0m             \u001b[0;32mif\u001b[0m \u001b[0mengine\u001b[0m \u001b[0;34m==\u001b[0m \u001b[0;34m\"python\"\u001b[0m\u001b[0;34m:\u001b[0m\u001b[0;34m\u001b[0m\u001b[0;34m\u001b[0m\u001b[0m\n",
      "\u001b[0;32m/opt/conda/lib/python3.7/site-packages/pandas/io/parsers.py\u001b[0m in \u001b[0;36m__init__\u001b[0;34m(self, src, **kwds)\u001b[0m\n\u001b[1;32m   1915\u001b[0m         \u001b[0mkwds\u001b[0m\u001b[0;34m[\u001b[0m\u001b[0;34m\"usecols\"\u001b[0m\u001b[0;34m]\u001b[0m \u001b[0;34m=\u001b[0m \u001b[0mself\u001b[0m\u001b[0;34m.\u001b[0m\u001b[0musecols\u001b[0m\u001b[0;34m\u001b[0m\u001b[0;34m\u001b[0m\u001b[0m\n\u001b[1;32m   1916\u001b[0m \u001b[0;34m\u001b[0m\u001b[0m\n\u001b[0;32m-> 1917\u001b[0;31m         \u001b[0mself\u001b[0m\u001b[0;34m.\u001b[0m\u001b[0m_reader\u001b[0m \u001b[0;34m=\u001b[0m \u001b[0mparsers\u001b[0m\u001b[0;34m.\u001b[0m\u001b[0mTextReader\u001b[0m\u001b[0;34m(\u001b[0m\u001b[0msrc\u001b[0m\u001b[0;34m,\u001b[0m \u001b[0;34m**\u001b[0m\u001b[0mkwds\u001b[0m\u001b[0;34m)\u001b[0m\u001b[0;34m\u001b[0m\u001b[0;34m\u001b[0m\u001b[0m\n\u001b[0m\u001b[1;32m   1918\u001b[0m         \u001b[0mself\u001b[0m\u001b[0;34m.\u001b[0m\u001b[0munnamed_cols\u001b[0m \u001b[0;34m=\u001b[0m \u001b[0mself\u001b[0m\u001b[0;34m.\u001b[0m\u001b[0m_reader\u001b[0m\u001b[0;34m.\u001b[0m\u001b[0munnamed_cols\u001b[0m\u001b[0;34m\u001b[0m\u001b[0;34m\u001b[0m\u001b[0m\n\u001b[1;32m   1919\u001b[0m \u001b[0;34m\u001b[0m\u001b[0m\n",
      "\u001b[0;32mpandas/_libs/parsers.pyx\u001b[0m in \u001b[0;36mpandas._libs.parsers.TextReader.__cinit__\u001b[0;34m()\u001b[0m\n",
      "\u001b[0;32mpandas/_libs/parsers.pyx\u001b[0m in \u001b[0;36mpandas._libs.parsers.TextReader._setup_parser_source\u001b[0;34m()\u001b[0m\n",
      "\u001b[0;31mFileNotFoundError\u001b[0m: [Errno 2] File b'sample_info.csv' does not exist: b'sample_info.csv'"
     ]
    }
   ],
   "source": [
    "#depmap_mutations = pd.read_csv(\"CCLE_mutations.csv\", low_memory = False)\n",
    "depmap_info = pd.read_csv(\"sample_info.csv\")\n",
    "#depmap_crispr_raw = pd.read_csv(\"Achilles_gene_effect.csv\")\n",
    "depmap_expression_raw = pd.read_csv(\"CCLE_expression.csv\")"
   ]
  },
  {
   "cell_type": "code",
   "execution_count": null,
   "metadata": {},
   "outputs": [],
   "source": [
    "depmap_mutations.head()"
   ]
  },
  {
   "cell_type": "code",
   "execution_count": null,
   "metadata": {},
   "outputs": [],
   "source": [
    "depmap_info.head()"
   ]
  },
  {
   "cell_type": "code",
   "execution_count": null,
   "metadata": {},
   "outputs": [],
   "source": [
    "depmap_crispr_raw.head()"
   ]
  },
  {
   "cell_type": "code",
   "execution_count": 3,
   "metadata": {},
   "outputs": [
    {
     "ename": "NameError",
     "evalue": "name 'depmap_crispr_raw' is not defined",
     "output_type": "error",
     "traceback": [
      "\u001b[0;31m---------------------------------------------------------------------------\u001b[0m",
      "\u001b[0;31mNameError\u001b[0m                                 Traceback (most recent call last)",
      "\u001b[0;32m<ipython-input-3-79e44cb36dce>\u001b[0m in \u001b[0;36m<module>\u001b[0;34m\u001b[0m\n\u001b[0;32m----> 1\u001b[0;31m \u001b[0mdepmap_crispr_raw\u001b[0m\u001b[0;34m.\u001b[0m\u001b[0mrename\u001b[0m\u001b[0;34m(\u001b[0m\u001b[0mcolumns\u001b[0m\u001b[0;34m=\u001b[0m\u001b[0;34m{\u001b[0m\u001b[0;34m\"Unnamed: 0\"\u001b[0m\u001b[0;34m:\u001b[0m \u001b[0;34m\"DepMap_ID\"\u001b[0m\u001b[0;34m}\u001b[0m\u001b[0;34m)\u001b[0m\u001b[0;34m\u001b[0m\u001b[0;34m\u001b[0m\u001b[0m\n\u001b[0m\u001b[1;32m      2\u001b[0m \u001b[0;34m\u001b[0m\u001b[0m\n\u001b[1;32m      3\u001b[0m \u001b[0;31m# Move DepMap_ID to last columnn\u001b[0m\u001b[0;34m\u001b[0m\u001b[0;34m\u001b[0m\u001b[0;34m\u001b[0m\u001b[0m\n\u001b[1;32m      4\u001b[0m \u001b[0mdepmap_ids\u001b[0m \u001b[0;34m=\u001b[0m \u001b[0mdepmap_crispr_raw\u001b[0m\u001b[0;34m[\u001b[0m\u001b[0;34m\"Unnamed: 0\"\u001b[0m\u001b[0;34m]\u001b[0m\u001b[0;34m\u001b[0m\u001b[0;34m\u001b[0m\u001b[0m\n\u001b[1;32m      5\u001b[0m \u001b[0;31m#df1 = depmap_crispr_raw.pop('DepMap_ID') # remove column b and store it in df1\u001b[0m\u001b[0;34m\u001b[0m\u001b[0;34m\u001b[0m\u001b[0;34m\u001b[0m\u001b[0m\n",
      "\u001b[0;31mNameError\u001b[0m: name 'depmap_crispr_raw' is not defined"
     ]
    }
   ],
   "source": [
    "depmap_crispr_raw.rename(columns={\"Unnamed: 0\": \"DepMap_ID\"})\n",
    "\n",
    "# Move DepMap_ID to last columnn\n",
    "depmap_ids = depmap_crispr_raw[\"Unnamed: 0\"]\n",
    "#df1 = depmap_crispr_raw.pop('DepMap_ID') # remove column b and store it in df1\n",
    "#depmap_crispr_raw['DepMap_ID'] = df1 # add b series as a 'new' column.\n",
    "depmap_crispr_raw['DepMap_ID'] = depmap_ids\n"
   ]
  },
  {
   "cell_type": "code",
   "execution_count": null,
   "metadata": {},
   "outputs": [],
   "source": [
    "print(len(depmap_expression_raw.columns))\n",
    "depmap_expression_cellIDs = depmap_expression_raw[\"Unnamed: 0\"]\n",
    "depmap_expression_raw.pop('Unnamed: 0')\n",
    "depmap_expression_raw['DepMap_ID'] = depmap_expression_cellIDs\n",
    "depmap_expression_raw.head()\n",
    "print(len(depmap_expression_raw.columns))\n",
    "nGenes = len(depmap_expression_raw.columns)-1"
   ]
  },
  {
   "cell_type": "markdown",
   "metadata": {},
   "source": [
    "### Retrieve cell lines of interest\n",
    "The cell line names are contained in the `depmap_info` data frame, so we need to match the cell line names with the ACH-___ ID in `depmap_X`."
   ]
  },
  {
   "cell_type": "code",
   "execution_count": null,
   "metadata": {},
   "outputs": [],
   "source": [
    "depmap_expression = pd.merge(depmap_expression_raw,depmap_info,on = \"DepMap_ID\", how= \"left\")"
   ]
  },
  {
   "cell_type": "code",
   "execution_count": null,
   "metadata": {},
   "outputs": [],
   "source": [
    "depmap_expression.head()"
   ]
  },
  {
   "cell_type": "code",
   "execution_count": null,
   "metadata": {},
   "outputs": [],
   "source": [
    "a375_all_data = depmap_expression.loc[depmap_expression[\"CCLE_Name\"] == \"A375_SKIN\", :]"
   ]
  },
  {
   "cell_type": "code",
   "execution_count": null,
   "metadata": {},
   "outputs": [],
   "source": [
    "a375_expression = a375_all_data.iloc[0, 0:nGenes]\n",
    "a375_expression"
   ]
  },
  {
   "cell_type": "code",
   "execution_count": null,
   "metadata": {},
   "outputs": [],
   "source": [
    "sns.set(style=\"whitegrid\", palette=\"dark\")\n",
    "\n",
    "mean_color = '#434d6e'\n",
    "median_color = '#0a1338'\n",
    "\n",
    "fig = sns.distplot(a375_expression, rug = False, kde = False, label = 'Gene count')\n",
    "fig.axvline(a375_expression.mean(), label = 'Mean', color = mean_color)\n",
    "fig.axvline(a375_expression.median(), label = 'Median', color = median_color, dashes = (2,1,2,1))\n",
    "fig.set(xlabel='Transcripts per million', ylabel='Frequency', title = \"A375 Gene Expression Distribution\")\n",
    "fig.legend()\n",
    "plt.show()\n",
    "print(a375_expression.mean())\n",
    "#fig.figure.savefig(\"L4_population_distribution.pdf\")"
   ]
  },
  {
   "cell_type": "code",
   "execution_count": null,
   "metadata": {},
   "outputs": [],
   "source": [
    "# Randomly sample n = 100 points from the gene expression data\n",
    "n = 10\n",
    "sample_1 = np.random.choice(a375_expression, n, replace = False)\n",
    "print(sample_1.mean())\n",
    "\n",
    "# Plot histogram\n",
    "# if we want relative frequency, set norm_hist = True\n",
    "fig_1 = sns.distplot(sample_1, rug = False, kde = False, label = 'Gene count', norm_hist = True)\n",
    "fig_1.axvline(sample_1.mean(), label = 'Mean', color = mean_color)\n",
    "#fig_1.axvline(np.median(sample_1), label = 'Median', color = median_color, dashes = (2,1,2,1))\n",
    "fig_1.set(xlabel='Transcripts per million', ylabel='Relative frequency', title = \"A375 Gene Expression Distribution\")\n",
    "fig_1.legend()\n",
    "plt.show()\n",
    "fig_1.figure.savefig(\"L4_expression_sample_n10_4.pdf\")"
   ]
  },
  {
   "cell_type": "code",
   "execution_count": null,
   "metadata": {},
   "outputs": [],
   "source": [
    "## Sample many times and plot the distribution of means\n",
    "n = 10\n",
    "n_replicates = 1000\n",
    "sample_mean_vec = np.zeros((1,n_replicates))\n",
    "\n",
    "for rep in range(n_replicates):\n",
    "    \n",
    "    # Sample randomly n points from the population\n",
    "    sample_i = np.random.choice(a375_expression, n, replace = False)\n",
    "    \n",
    "    # Compute the mean of the sample\n",
    "    sample_i_mean = np.mean(sample_i)\n",
    "    \n",
    "    # Store the mean\n",
    "    sample_mean_vec[0, rep] = sample_i_mean\n",
    "\n",
    "print(\"done with experiment\")\n",
    "    \n",
    "\n"
   ]
  },
  {
   "cell_type": "code",
   "execution_count": null,
   "metadata": {},
   "outputs": [],
   "source": [
    "# Histogram of the means\n",
    "\n",
    "fig_2 = sns.distplot(sample_mean_vec, rug = False, kde = False, label = 'Sample mean',hist_kws={\"linewidth\": 3,\n",
    "                            \"alpha\": 0.7, \"color\": mean_color})\n",
    "fig_2.axvline(a375_expression.mean(), label = 'Population mean', color = '#ff3800')\n",
    "fig_2.axvline(np.mean(sample_mean_vec), label = 'Mean of computed sample means', color = mean_color, dashes = (2,1,2,1))\n",
    "fig_2.set(xlabel='Sample mean (tpm)', ylabel='Frequency', title = \"Sampling distribution\", ylim = (0,120))\n",
    "fig_2.legend()\n",
    "#plt.legend(bbox_to_anchor=(1.05, 1), loc=2, borderaxespad=0.)\n",
    "lgd = plt.legend(loc=2, bbox_to_anchor=(1.05,1), borderaxespad = 0.0)\n",
    "plt.show()\n",
    "#fig_2.figure.savefig(\"L4_expression_distofsamplemeans_n1000.pdf\",bbox_extra_artists=(lgd,), bbox_inches='tight')"
   ]
  },
  {
   "cell_type": "code",
   "execution_count": null,
   "metadata": {},
   "outputs": [],
   "source": [
    "## Make horizontal boxplots\n",
    "n = 100\n",
    "n_replicates = 20\n",
    "sample_vec = np.zeros((n,n_replicates))\n",
    "\n",
    "for rep in range(n_replicates):\n",
    "    \n",
    "    # Sample randomly n points from the population\n",
    "    sample_i = np.random.choice(a375_expression, n, replace = False)\n",
    "     \n",
    "    # Store the sample\n",
    "    sample_vec[:, rep] = sample_i\n",
    "    \n",
    "\n",
    "print(\"done with experiment\")\n",
    "\n",
    "\n",
    "plt.plot([np.mean(sample_mean_vec), np.mean(sample_mean_vec)], [0,21], label = 'Population Mean',\n",
    "         color = \"#df5500\", dashes = (2,1,2,1))\n",
    "for rep in range(n_replicates):\n",
    "    # Calculate standard error of the mean\n",
    "    sem_sample = sp.stats.sem(sample_vec[:,rep])\n",
    "    ci_left = np.mean(sample_vec[:, rep]) - 2*sem_sample\n",
    "    ci_right = np.mean(sample_vec[:, rep]) + 2*sem_sample\n",
    "    plt.plot([ci_left, ci_right], [rep, rep], marker = '|', color = '#8989aa')\n",
    "    if rep == 0:\n",
    "        plt.plot([np.mean(sample_vec[:, rep])], rep, marker = 'o', color = '#777799', label = 'Sample Mean')\n",
    "    else:\n",
    "        plt.plot([np.mean(sample_vec[:, rep])], rep, marker = 'o', color = '#777799')\n",
    "    \n",
    "\n",
    "    \n",
    "plt.legend()\n",
    "plt.xlabel('Gene expression (tpm)')\n",
    "plt.ylabel('Sample number')\n",
    "lgd = plt.legend(loc=2, bbox_to_anchor=(1.05,1), borderaxespad = 0.0)\n",
    "plt.savefig(\"L4_uncertainty_20samples.pdf\",bbox_extra_artists=(lgd,), bbox_inches='tight')\n"
   ]
  },
  {
   "cell_type": "code",
   "execution_count": null,
   "metadata": {},
   "outputs": [],
   "source": [
    "## Plot that cool one that has the CI, SEM, standdev, etc.\n",
    "\n",
    "fig_4 = sns.stripplot(sample_vec[:, 0], jitter = 0.05, size = 4, orient = 'v', label = 'data')\n",
    "sem_sample = sp.stats.sem(sample_vec[:,0], ddof = 1)\n",
    "print(sem_sample)\n",
    "sample_mean = np.mean(sample_vec[:,0])\n",
    "print(sample_mean)\n",
    "ci_left = np.mean(sample_vec[:, 0]) - 1.96*sem_sample\n",
    "ci_right = np.mean(sample_vec[:, 0]) + 1.96*sem_sample\n",
    "stdev_sample = np.std(sample_vec[:, 0], ddof = 1)\n",
    "print(np.std(sample_vec[:, 0]))\n",
    "print(ci_left, ci_right)\n",
    "\n",
    "    \n",
    "plt.plot([1.5, 1.5], [ci_left, ci_right], label = '95% confidence interval', lw = 2, marker = '_', markersize = 12)\n",
    "plt.plot([0.5, 0.5], [sample_mean - sem_sample, sample_mean + sem_sample], label = 'pm 1 se', lw = 2, marker = '_', markersize = 12)\n",
    "plt.plot([1, 1], [sample_mean - 2*sem_sample, sample_mean + 2*sem_sample], label = 'pm 2 se', lw = 2, marker = '_', markersize = 12)\n",
    "plt.plot([2, 2], [sample_mean - stdev_sample, sample_mean + stdev_sample], label = 'pm 1 stdev', lw = 2, marker = '_', markersize = 12)\n",
    "\n",
    "# confidence interval\n",
    "\n",
    "lgd = plt.legend(loc=2, bbox_to_anchor=(1.05,1), borderaxespad = 0.0)\n",
    "plt.ylabel('Gene expression (tmp)')\n",
    "plt.xticks(np.arange(5)/2, ('Data', r'$\\pm$ 1 SE', r'$\\pm$ 2 SE', '95% CI', r'$\\pm 1 stdev'))\n",
    "plt.savefig('L4_expression_uncertainty.pdf',bbox_extra_artists=(lgd,), bbox_inches='tight')\n"
   ]
  },
  {
   "cell_type": "code",
   "execution_count": null,
   "metadata": {},
   "outputs": [],
   "source": [
    "fig_5 = sns.stripplot(a375_expression, jitter = 0.05, size = 1, orient = 'v')\n",
    "fig_5.set(xlabel='A375', ylabel='Transcripts per million', title = 'A375 gene expression')\n",
    "fig_5.figure.savefig('L4_A375_expression_all.pdf')"
   ]
  },
  {
   "cell_type": "code",
   "execution_count": null,
   "metadata": {},
   "outputs": [],
   "source": []
  }
 ],
 "metadata": {
  "kernelspec": {
   "display_name": "Python 3",
   "language": "python",
   "name": "python3"
  },
  "language_info": {
   "codemirror_mode": {
    "name": "ipython",
    "version": 3
   },
   "file_extension": ".py",
   "mimetype": "text/x-python",
   "name": "python",
   "nbconvert_exporter": "python",
   "pygments_lexer": "ipython3",
   "version": "3.7.3"
  }
 },
 "nbformat": 4,
 "nbformat_minor": 2
}
