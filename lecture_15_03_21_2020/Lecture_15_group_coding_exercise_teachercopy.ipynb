{
 "cells": [
  {
   "cell_type": "markdown",
   "metadata": {},
   "source": [
    "# In-class demo for comparing two samples\n",
    "\n",
    "In this class, we will determine and run the appropriate test to determine if the hydrogels increase the specificity of cell precision in injections."
   ]
  },
  {
   "cell_type": "code",
   "execution_count": 1,
   "metadata": {},
   "outputs": [],
   "source": [
    "# Import packages\n",
    "import sys\n",
    "import os\n",
    "import numpy as np\n",
    "import pandas as pd\n",
    "import matplotlib.pyplot as plt\n",
    "import scipy.io as sio\n",
    "from scipy import stats\n",
    "import seaborn as sns"
   ]
  },
  {
   "cell_type": "markdown",
   "metadata": {},
   "source": [
    "### The data\n",
    "\n",
    "In our hospital, we have 20 patients with the same degenerative heart disease. Our best treatment option is to inject healthy cells that will hopefully integrate with the current heart cells and cure our patients. We ran a clinical trial to test the effect of delivering healthy cells with and without hydrogel encapsulation. The data we collected are shown below."
   ]
  },
  {
   "cell_type": "code",
   "execution_count": 2,
   "metadata": {},
   "outputs": [],
   "source": [
    "# Percent improvement of patients receiving cells only.\n",
    "patients_cellsonly_improvement = [30, 25, 43, 31, 22, 56, 35, 29, 68]\n",
    "\n",
    "# Percent improvement of patients receiving cells delivered with hydrogels.\n",
    "patients_hydrogels_improvement = [38, 50, 61, 45, 67, 53, 57, 72, 44]\n"
   ]
  },
  {
   "cell_type": "code",
   "execution_count": 24,
   "metadata": {},
   "outputs": [
    {
     "data": {
      "image/png": "[encoded data removed]",
      "text/plain": [
       "<Figure size 432x288 with 1 Axes>"
      ]
     },
     "metadata": {
      "needs_background": "light"
     },
     "output_type": "display_data"
    }
   ],
   "source": [
    "## Plot the data.\n",
    "\n",
    "plt.boxplot(patients_cellsonly_improvement, positions = [1])\n",
    "plt.boxplot(patients_hydrogels_improvement, positions = [2])\n",
    "plt.xlim([0, 3])\n",
    "plt.xticks([1,2])\n",
    "plt.ylabel(\"Percent improvement following treatment\")\n",
    "axis = plt.gca()\n",
    "axis.set_xticklabels([\"Cells only\", \"With hydrogels\"]);"
   ]
  },
  {
   "cell_type": "markdown",
   "metadata": {},
   "source": [
    "### What type of test do we use?\n"
   ]
  },
  {
   "cell_type": "code",
   "execution_count": 8,
   "metadata": {},
   "outputs": [],
   "source": [
    "## In order to run our test, we need to calculate the following statistics.\n",
    "\n",
    "difference_in_means = np.mean(patients_cellsonly_improvement) - np.mean(patients_hydrogels_improvement)\n",
    "\n",
    "n_cellsonly = np.size(patients_cellsonly_improvement)\n",
    "n_hydrogels = np.size(patients_hydrogels_improvement)\n",
    "\n",
    "stdev_cellsonly = np.std(patients_cellsonly_improvement, ddof = 1)\n",
    "stdev_hydrogels = np.std(patients_hydrogels_improvement, ddof = 1)\n",
    "\n",
    "sp2 = ((n_cellsonly - 1)*stdev_cellsonly**2 + (n_hydrogels-1)*stdev_hydrogels**2)/(n_cellsonly + n_hydrogels - 2)"
   ]
  },
  {
   "cell_type": "markdown",
   "metadata": {},
   "source": [
    "## Calcuate the standard error\n"
   ]
  },
  {
   "cell_type": "code",
   "execution_count": 9,
   "metadata": {},
   "outputs": [],
   "source": [
    "## Standard error\n",
    "ster = np.sqrt((sp2/n_cellsonly) + (sp2/n_hydrogels))"
   ]
  },
  {
   "cell_type": "markdown",
   "metadata": {},
   "source": [
    "### Calculate the t-statistic"
   ]
  },
  {
   "cell_type": "code",
   "execution_count": 12,
   "metadata": {},
   "outputs": [
    {
     "name": "stdout",
     "output_type": "stream",
     "text": [
      "-2.5996938086622188\n"
     ]
    }
   ],
   "source": [
    "## t calculated from our data\n",
    "t = difference_in_means/(ster)\n",
    "print(t)"
   ]
  },
  {
   "cell_type": "code",
   "execution_count": 11,
   "metadata": {},
   "outputs": [
    {
     "data": {
      "text/plain": [
       "Ttest_indResult(statistic=-2.5996938086622188, pvalue=0.019352840769173294)"
      ]
     },
     "execution_count": 11,
     "metadata": {},
     "output_type": "execute_result"
    }
   ],
   "source": [
    "## Calculate using stats.ttest_ind\n",
    "stats.ttest_ind(patients_cellsonly_improvement,patients_hydrogels_improvement)"
   ]
  },
  {
   "cell_type": "code",
   "execution_count": null,
   "metadata": {},
   "outputs": [],
   "source": []
  }
 ],
 "metadata": {
  "kernelspec": {
   "display_name": "Python 3",
   "language": "python",
   "name": "python3"
  },
  "language_info": {
   "codemirror_mode": {
    "name": "ipython",
    "version": 3
   },
   "file_extension": ".py",
   "mimetype": "text/x-python",
   "name": "python",
   "nbconvert_exporter": "python",
   "pygments_lexer": "ipython3",
   "version": "3.7.3"
  }
 },
 "nbformat": 4,
 "nbformat_minor": 2
}
