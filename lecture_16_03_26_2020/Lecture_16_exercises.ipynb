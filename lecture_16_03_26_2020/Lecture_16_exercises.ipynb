{
 "cells": [
  {
   "cell_type": "markdown",
   "metadata": {},
   "source": [
    "# Exercises for lecture 16.\n",
    "\n",
    "We'll work through these exercises during class and then anything that has not finished will be left as the in-class exercise."
   ]
  },
  {
   "cell_type": "code",
   "execution_count": 3,
   "metadata": {},
   "outputs": [],
   "source": [
    "## Import packages\n",
    "\n",
    "import sys\n",
    "import os\n",
    "import numpy as np\n",
    "import matplotlib.pyplot as plt\n",
    "import scipy.io as sio\n",
    "from scipy import stats\n"
   ]
  },
  {
   "cell_type": "markdown",
   "metadata": {},
   "source": [
    "## Data: Address numbers"
   ]
  },
  {
   "cell_type": "code",
   "execution_count": 6,
   "metadata": {},
   "outputs": [],
   "source": [
    "first_digits = [3., 4., 9., 1., 4., 2., 5., 1., 2., 2., 7., 6., 5., 8., 6., 1., 1.,\n",
    "       9., 3., 4., 4., 3., 6., 3., 9., 1., 4., 2., 9., 1., 3., 1., 5., 6.,\n",
    "       5., 9., 1., 4., 2., 9., 1., 1., 1., 2., 1., 6., 3., 6., 8., 3., 9., 1.]\n",
    "\n"
   ]
  },
  {
   "cell_type": "markdown",
   "metadata": {},
   "source": [
    "### Transforming data\n",
    "\n",
    "Does the distribution of `first_digits` look normal? "
   ]
  },
  {
   "cell_type": "code",
   "execution_count": 7,
   "metadata": {},
   "outputs": [
    {
     "data": {
      "text/plain": [
       "Text(0, 0.5, 'Frequency')"
      ]
     },
     "execution_count": 7,
     "metadata": {},
     "output_type": "execute_result"
    },
    {
     "data": {
      "image/png": "[encoded data removed]",
      "text/plain": [
       "<Figure size 432x288 with 1 Axes>"
      ]
     },
     "metadata": {
      "needs_background": "light"
     },
     "output_type": "display_data"
    }
   ],
   "source": [
    "## Plot the distribution of first_digits as a first check\n",
    "\n",
    "plt.hist(first_digits)\n",
    "plt.title('First Digit Frequency Distribution')\n",
    "plt.xlabel('First Digit of Address')\n",
    "plt.ylabel('Frequency');"
   ]
  },
  {
   "cell_type": "code",
   "execution_count": 8,
   "metadata": {},
   "outputs": [
    {
     "data": {
      "text/plain": [
       "((array([-2.21906046, -1.85036834, -1.63307165, -1.47338453, -1.34433269,\n",
       "         -1.23445265, -1.1377432 , -1.05064606, -0.97086677, -0.89683292,\n",
       "         -0.82741562, -0.76177387, -0.69926181, -0.63937059, -0.58169027,\n",
       "         -0.52588404, -0.47167018, -0.41880907, -0.3670937 , -0.31634247,\n",
       "         -0.26639369, -0.2171012 , -0.16833095, -0.11995805, -0.0718644 ,\n",
       "         -0.02393648,  0.02393648,  0.0718644 ,  0.11995805,  0.16833095,\n",
       "          0.2171012 ,  0.26639369,  0.31634247,  0.3670937 ,  0.41880907,\n",
       "          0.47167018,  0.52588404,  0.58169027,  0.63937059,  0.69926181,\n",
       "          0.76177387,  0.82741562,  0.89683292,  0.97086677,  1.05064606,\n",
       "          1.1377432 ,  1.23445265,  1.34433269,  1.47338453,  1.63307165,\n",
       "          1.85036834,  2.21906046]),\n",
       "  array([1., 1., 1., 1., 1., 1., 1., 1., 1., 1., 1., 1., 1., 2., 2., 2., 2.,\n",
       "         2., 2., 3., 3., 3., 3., 3., 3., 3., 4., 4., 4., 4., 4., 4., 5., 5.,\n",
       "         5., 5., 6., 6., 6., 6., 6., 6., 7., 8., 8., 9., 9., 9., 9., 9., 9.,\n",
       "         9.])),\n",
       " (2.68933640736076, 4.076923076923077, 0.9461182210871988))"
      ]
     },
     "execution_count": 8,
     "metadata": {},
     "output_type": "execute_result"
    },
    {
     "data": {
      "image/png": "[encoded data removed]",
      "text/plain": [
       "<Figure size 432x288 with 1 Axes>"
      ]
     },
     "metadata": {
      "needs_background": "light"
     },
     "output_type": "display_data"
    }
   ],
   "source": [
    "## Show the normal quantile plot\n",
    "\n",
    "stats.probplot(first_digits, sparams = (0, 1), dist = \"norm\", plot = plt)\n"
   ]
  },
  {
   "cell_type": "code",
   "execution_count": 9,
   "metadata": {},
   "outputs": [
    {
     "data": {
      "text/plain": [
       "(0.8791497945785522, 7.832075789337978e-05)"
      ]
     },
     "execution_count": 9,
     "metadata": {},
     "output_type": "execute_result"
    }
   ],
   "source": [
    "## Run a Shapiro-Wilk test\n",
    "\n",
    "stats.shapiro(first_digits)\n"
   ]
  },
  {
   "cell_type": "markdown",
   "metadata": {},
   "source": [
    "### What now? Can we make the data look more normal?\n"
   ]
  },
  {
   "cell_type": "code",
   "execution_count": 16,
   "metadata": {},
   "outputs": [],
   "source": [
    "# Perform a log transform of the data\n",
    "first_digits = np.array(first_digits)\n",
    "\n",
    "digits_log = np.log(first_digits)\n",
    "\n",
    "# Perform a square root transform\n",
    "digits_sqrt = np.sqrt(first_digits + 0.5)\n",
    "\n",
    "# Perform a reciprocal transform\n",
    "digits_rcp = 1/first_digits\n",
    "\n",
    "# Pick another transform\n",
    "digits_other = np.array(first_digits)**2\n",
    "\n"
   ]
  },
  {
   "cell_type": "code",
   "execution_count": null,
   "metadata": {},
   "outputs": [],
   "source": [
    "## Plot all of the above quantile plots\n",
    "\n",
    "plt.subplot(2,2,1)\n",
    "\n",
    "plt.title(\"Log transform\")\n",
    "\n",
    "plt.subplot(2,2,2)\n",
    "\n",
    "plt.title(\"Sqrt transform\")\n",
    "\n",
    "plt.subplot(2,2,3)\n",
    "\n",
    "plt.title(\"Reciprocal transform\")\n",
    "\n",
    "plt.subplot(2,2,4)\n",
    "\n",
    "plt.title(\"Other transform\")"
   ]
  },
  {
   "cell_type": "markdown",
   "metadata": {},
   "source": [
    "### Which transform performs the best?"
   ]
  },
  {
   "cell_type": "markdown",
   "metadata": {},
   "source": [
    "-----\n",
    "## Do jumping jacks improve with age?\n",
    "---\n",
    "\n",
    "Perform a one-sample t-test to see if Tyler is significantly better at jumping jacks."
   ]
  },
  {
   "cell_type": "code",
   "execution_count": 17,
   "metadata": {},
   "outputs": [],
   "source": [
    "jumping_jacks = [35., 26., 39., 33., 60., 35., 34., 21., 39., 43., 65., 42., 43.,\n",
    "       38., 39., 37., 30., 32., 41., 35., 38., 35., 29., 30., 32., 32.,\n",
    "       42., 37., 32., 48., 25., 42., 25., 78., 44., 51., 32., 34., 15.,\n",
    "       37., 35., 45., 44., 45., 44., 31., 35., 20., 36., 31., 45.]\n",
    "\n"
   ]
  },
  {
   "cell_type": "code",
   "execution_count": 18,
   "metadata": {
    "scrolled": true
   },
   "outputs": [
    {
     "data": {
      "text/plain": [
       "(array([ 3.,  3., 11., 17., 12.,  2.,  0.,  2.,  0.,  1.]),\n",
       " array([15. , 21.3, 27.6, 33.9, 40.2, 46.5, 52.8, 59.1, 65.4, 71.7, 78. ]),\n",
       " <a list of 10 Patch objects>)"
      ]
     },
     "execution_count": 18,
     "metadata": {},
     "output_type": "execute_result"
    },
    {
     "data": {
      "image/png": "[encoded data removed]",
      "text/plain": [
       "<Figure size 432x288 with 1 Axes>"
      ]
     },
     "metadata": {
      "needs_background": "light"
     },
     "output_type": "display_data"
    }
   ],
   "source": [
    "## Is the jumping_jack data normal?\n",
    "# How should we check?\n",
    "\n",
    "plt.hist(jumping_jacks)"
   ]
  },
  {
   "cell_type": "markdown",
   "metadata": {},
   "source": [
    "We want to test the hypothesis that those close to their \"prime\" are significantly more athletic. More specifically, let's test if Tyler (age 27) can do significantly more jumping jacks."
   ]
  },
  {
   "cell_type": "code",
   "execution_count": null,
   "metadata": {},
   "outputs": [],
   "source": [
    "tyler_count = 47\n"
   ]
  },
  {
   "cell_type": "markdown",
   "metadata": {},
   "source": [
    "But the one-sample t-test requires data to be normally distributed! Let's transform our data so it will be more normal..."
   ]
  },
  {
   "cell_type": "code",
   "execution_count": null,
   "metadata": {},
   "outputs": [],
   "source": [
    "## Pick 2 data transformations and plot their histograms and quantile plots.\n",
    "\n"
   ]
  },
  {
   "cell_type": "markdown",
   "metadata": {},
   "source": [
    "Which was the best? Call this variable `jumping_jacks_transform`."
   ]
  },
  {
   "cell_type": "code",
   "execution_count": null,
   "metadata": {},
   "outputs": [],
   "source": [
    "jumping_jacks_transform = "
   ]
  },
  {
   "cell_type": "markdown",
   "metadata": {},
   "source": [
    "Perform a one-sample t-test using Tyler's count and the class data."
   ]
  },
  {
   "cell_type": "code",
   "execution_count": null,
   "metadata": {},
   "outputs": [],
   "source": []
  },
  {
   "cell_type": "markdown",
   "metadata": {},
   "source": [
    "## Report the best transform found for the jumping jacks data, and the p-value and test statistic for the one-sample t-test on Canvas."
   ]
  },
  {
   "cell_type": "code",
   "execution_count": null,
   "metadata": {},
   "outputs": [],
   "source": []
  }
 ],
 "metadata": {
  "kernelspec": {
   "display_name": "Python 3",
   "language": "python",
   "name": "python3"
  },
  "language_info": {
   "codemirror_mode": {
    "name": "ipython",
    "version": 3
   },
   "file_extension": ".py",
   "mimetype": "text/x-python",
   "name": "python",
   "nbconvert_exporter": "python",
   "pygments_lexer": "ipython3",
   "version": "3.7.3"
  }
 },
 "nbformat": 4,
 "nbformat_minor": 2
}
