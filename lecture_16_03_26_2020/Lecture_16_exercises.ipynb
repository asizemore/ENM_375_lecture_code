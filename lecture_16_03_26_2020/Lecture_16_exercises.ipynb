{
 "cells": [
  {
   "cell_type": "markdown",
   "metadata": {},
   "source": [
    "# Exercises for lecture 16.\n",
    "\n",
    "We'll work through these exercises during class and then anything that has not finished will be left as the in-class exercise."
   ]
  },
  {
   "cell_type": "code",
   "execution_count": 7,
   "metadata": {},
   "outputs": [],
   "source": [
    "## Import packages\n",
    "\n",
    "import sys\n",
    "import os\n",
    "import numpy as np\n",
    "import pandas as pd\n",
    "import matplotlib.pyplot as plt\n",
    "import scipy.io as sio\n",
    "from scipy import stats\n",
    "import seaborn as sns\n"
   ]
  },
  {
   "cell_type": "markdown",
   "metadata": {},
   "source": [
    "## Data: Address numbers"
   ]
  },
  {
   "cell_type": "code",
   "execution_count": 8,
   "metadata": {},
   "outputs": [],
   "source": [
    "first_digits = [1., 1., 5., 6., 2., 1., 4., 3., 1., 6., 6., 1., 9., 9., 4., 3., 3.,\n",
    "       6., 5., 3., 6., 2., 4., 4., 2., 1., 1., 1., 3., 8., 2., 4., 5., 2.,\n",
    "       2., 1., 9., 1., 8., 1.]\n"
   ]
  },
  {
   "cell_type": "markdown",
   "metadata": {},
   "source": [
    "### Transforming data\n",
    "\n",
    "Does the distribution of `first_digits` look normal? "
   ]
  },
  {
   "cell_type": "code",
   "execution_count": 13,
   "metadata": {},
   "outputs": [],
   "source": [
    "## Plot the distribution of first_digits as a first check\n"
   ]
  },
  {
   "cell_type": "code",
   "execution_count": 12,
   "metadata": {},
   "outputs": [],
   "source": [
    "## Show the normal quantile plot\n",
    "\n"
   ]
  },
  {
   "cell_type": "code",
   "execution_count": null,
   "metadata": {},
   "outputs": [],
   "source": [
    "## Run a Shapiro-Wilk test\n"
   ]
  },
  {
   "cell_type": "markdown",
   "metadata": {},
   "source": [
    "### What now? Can we make the data look more normal?\n"
   ]
  },
  {
   "cell_type": "code",
   "execution_count": null,
   "metadata": {},
   "outputs": [],
   "source": [
    "# Perform a log transform of the data\n",
    "digits_log = \n",
    "\n",
    "# Perform a square root transform\n",
    "digits_sqrt = \n",
    "\n",
    "# Perform a reciprocal transform\n",
    "digits_rcp = \n",
    "\n",
    "# Pick another transform\n",
    "digits_other = \n",
    "\n"
   ]
  },
  {
   "cell_type": "code",
   "execution_count": null,
   "metadata": {},
   "outputs": [],
   "source": [
    "## Plot all of the above quantile plots\n",
    "\n",
    "plt.subplot(2,2,1)\n",
    "\n",
    "plt.title(\"Log transform\")\n",
    "\n",
    "plt.subplot(2,2,2)\n",
    "\n",
    "plt.title(\"Sqrt transform\")\n",
    "\n",
    "plt.subplot(2,2,3)\n",
    "\n",
    "plt.title(\"Reciprocal transform\")\n",
    "\n",
    "plt.subplot(2,2,4)\n",
    "\n",
    "plt.title(\"Other transform\")"
   ]
  },
  {
   "cell_type": "markdown",
   "metadata": {},
   "source": [
    "### Which transform performs the best?"
   ]
  },
  {
   "cell_type": "markdown",
   "metadata": {},
   "source": [
    "-----\n",
    "## Do jumping jacks improve with age?\n",
    "---\n",
    "\n",
    "Perform a one-sample t-test to see if Tyler is significantly better at jumping jacks."
   ]
  },
  {
   "cell_type": "code",
   "execution_count": 15,
   "metadata": {},
   "outputs": [],
   "source": [
    "jumping_jacks = [32., 21., 43., 15., 60., 43., 33., 35., 32., 42., 51., 36., 34.,\n",
    "       32., 20., 48., 35., 29., 35., 32., 25., 45., 65., 38., 39., 44.,\n",
    "       44., 30., 42., 35., 37., 32., 34., 26., 35., 39., 37., 35., 25.,\n",
    "       44.]\n",
    "\n"
   ]
  },
  {
   "cell_type": "code",
   "execution_count": 21,
   "metadata": {},
   "outputs": [],
   "source": [
    "## Is the jumping_jack data normal?\n",
    "# How should we check?\n"
   ]
  },
  {
   "cell_type": "markdown",
   "metadata": {},
   "source": [
    "We want to test the hypothesis that those close to their \"prime\" are significantly more athletic. More specifically, let's test if Tyler (age 27) can do significantly more jumping jacks."
   ]
  },
  {
   "cell_type": "code",
   "execution_count": 22,
   "metadata": {},
   "outputs": [],
   "source": [
    "tyler_count = 47\n"
   ]
  },
  {
   "cell_type": "markdown",
   "metadata": {},
   "source": [
    "But the one-sample t-test requires data to be normally distributed! Let's transform our data so it will be more normal..."
   ]
  },
  {
   "cell_type": "code",
   "execution_count": 24,
   "metadata": {},
   "outputs": [],
   "source": [
    "## Pick 2 data transformations and plot their histograms and quantile plots.\n",
    "\n"
   ]
  },
  {
   "cell_type": "markdown",
   "metadata": {},
   "source": [
    "Which was the best? Call this variable `jumping_jacks_transform`."
   ]
  },
  {
   "cell_type": "code",
   "execution_count": null,
   "metadata": {},
   "outputs": [],
   "source": [
    "jumping_jacks_transform = "
   ]
  },
  {
   "cell_type": "markdown",
   "metadata": {},
   "source": [
    "Perform a one-sample t-test using Tyler's count and the class data."
   ]
  },
  {
   "cell_type": "code",
   "execution_count": null,
   "metadata": {},
   "outputs": [],
   "source": []
  },
  {
   "cell_type": "markdown",
   "metadata": {},
   "source": [
    "## Report the best transform found for the jumping jacks data, and the p-value and test statistic for the one-sample t-test on Canvas."
   ]
  },
  {
   "cell_type": "code",
   "execution_count": null,
   "metadata": {},
   "outputs": [],
   "source": []
  }
 ],
 "metadata": {
  "kernelspec": {
   "display_name": "Python 3",
   "language": "python",
   "name": "python3"
  },
  "language_info": {
   "codemirror_mode": {
    "name": "ipython",
    "version": 3
   },
   "file_extension": ".py",
   "mimetype": "text/x-python",
   "name": "python",
   "nbconvert_exporter": "python",
   "pygments_lexer": "ipython3",
   "version": "3.7.3"
  }
 },
 "nbformat": 4,
 "nbformat_minor": 2
}
