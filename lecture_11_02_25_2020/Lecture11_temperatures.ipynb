{
 "cells": [
  {
   "cell_type": "code",
   "execution_count": null,
   "metadata": {},
   "outputs": [],
   "source": [
    "# Import packages\n",
    "\n",
    "import sys\n",
    "import os\n",
    "import numpy as np\n",
    "import pandas as pd\n",
    "import matplotlib.pyplot as plt\n",
    "import scipy.io as sio\n",
    "from scipy import stats\n",
    "import seaborn as sns"
   ]
  },
  {
   "cell_type": "code",
   "execution_count": null,
   "metadata": {},
   "outputs": [],
   "source": [
    "# Use pandas to read the data\n",
    "\n",
    "temp = pd.read_csv('data/combined_data.csv')\n",
    "temp.head()"
   ]
  },
  {
   "cell_type": "code",
   "execution_count": null,
   "metadata": {},
   "outputs": [],
   "source": [
    "# Keep all the recordings from only the 2000's (earlier than that was biased)\n",
    "\n",
    "temp_recent = temp[temp['exam_year']> 2000]\n",
    "temp_recent.head()"
   ]
  },
  {
   "cell_type": "code",
   "execution_count": null,
   "metadata": {},
   "outputs": [],
   "source": [
    "# Plot histogram\n",
    "\n",
    "temp_recent['temp'].hist()\n",
    "plt.title('Distribution of body temperatures')\n",
    "plt.xlabel('Temperature (degrees F)')\n",
    "plt.ylabel('Frequency');"
   ]
  },
  {
   "cell_type": "markdown",
   "metadata": {},
   "source": [
    "# 1-sample t-test\n",
    "\n",
    "## H_0: The mean temperature is 98.6\n",
    "## H_A: The mean temperature is not 98.6"
   ]
  },
  {
   "cell_type": "code",
   "execution_count": null,
   "metadata": {},
   "outputs": [],
   "source": [
    "# Let's start with a sample of size n\n",
    "\n",
    "n = 10\n",
    "patient_sample = np.random.choice(temp_recent['temp'], n)\n"
   ]
  },
  {
   "cell_type": "code",
   "execution_count": null,
   "metadata": {},
   "outputs": [],
   "source": [
    "# Calculate the sample mean, standard error, and set mu.\n",
    "\n",
    "mean_temp = patient_sample.mean()\n",
    "sterr_temp = np.std(patient_sample, ddof = 1)/np.sqrt(n)\n",
    "mu = 98.6 # From our assumption"
   ]
  },
  {
   "cell_type": "code",
   "execution_count": null,
   "metadata": {},
   "outputs": [],
   "source": [
    "# Calculate the t-statistic\n",
    "t = (mean_temp - mu)/sterr_temp\n",
    "\n",
    "print(f'The t-statistic for our sample is {t}')"
   ]
  },
  {
   "cell_type": "code",
   "execution_count": null,
   "metadata": {},
   "outputs": [],
   "source": [
    "# How many degrees of freedom?\n",
    "df = n-1\n",
    "\n",
    "# Should our test be one or two-tailed?\n",
    "\n",
    "print(f'There are {df} degrees of freedom')\n",
    "# Look up in a table the p-value\n",
    "#p_val_table = "
   ]
  },
  {
   "cell_type": "code",
   "execution_count": null,
   "metadata": {},
   "outputs": [],
   "source": [
    "# Or we can compute it directly with scipy\n",
    "stats.ttest_1samp(patient_sample, mu)"
   ]
  },
  {
   "cell_type": "code",
   "execution_count": null,
   "metadata": {},
   "outputs": [],
   "source": [
    "# Who got a significant p-value?"
   ]
  },
  {
   "cell_type": "code",
   "execution_count": null,
   "metadata": {},
   "outputs": [],
   "source": []
  },
  {
   "cell_type": "code",
   "execution_count": null,
   "metadata": {},
   "outputs": [],
   "source": [
    "# If we take our whole dataset as the sample (which is reasonable), what do we find?\n",
    "#stats.ttest_1samp(temp_recent['temp'], 98.6)"
   ]
  },
  {
   "cell_type": "code",
   "execution_count": null,
   "metadata": {},
   "outputs": [],
   "source": []
  }
 ],
 "metadata": {
  "kernelspec": {
   "display_name": "Python 3",
   "language": "python",
   "name": "python3"
  },
  "language_info": {
   "codemirror_mode": {
    "name": "ipython",
    "version": 3
   },
   "file_extension": ".py",
   "mimetype": "text/x-python",
   "name": "python",
   "nbconvert_exporter": "python",
   "pygments_lexer": "ipython3",
   "version": "3.7.3"
  }
 },
 "nbformat": 4,
 "nbformat_minor": 2
}
