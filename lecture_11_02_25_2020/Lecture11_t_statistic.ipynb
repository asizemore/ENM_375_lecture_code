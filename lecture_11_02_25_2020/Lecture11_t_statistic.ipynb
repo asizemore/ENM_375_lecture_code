{
 "cells": [
  {
   "cell_type": "markdown",
   "metadata": {},
   "source": [
    "# Lecture 11\n",
    "## From last class we learned about the Z-score or standard normal deviate.\n",
    "## Let's investigate what happens (if anything) when we estimate the standard error"
   ]
  },
  {
   "cell_type": "code",
   "execution_count": null,
   "metadata": {},
   "outputs": [],
   "source": [
    "# Import packages\n",
    "\n",
    "import sys\n",
    "import os\n",
    "import numpy as np\n",
    "import pandas as pd\n",
    "import matplotlib.pyplot as plt\n",
    "import scipy.io as sio\n",
    "from scipy import stats\n",
    "import seaborn as sns"
   ]
  },
  {
   "cell_type": "markdown",
   "metadata": {},
   "source": [
    "## Starting off like last week, let's define from the beginning the population parameters $\\mu$ and $\\sigma$.\n",
    "\n",
    "Also define the population size (pick any large number). We can use `np.random.normal` to make a population that is normally distributed. Specifically all values in our population will be drawn from the normal distribution with our specified $\\mu$ and $\\sigma$ values."
   ]
  },
  {
   "cell_type": "code",
   "execution_count": null,
   "metadata": {},
   "outputs": [],
   "source": [
    "# Population parameters\n",
    "mu = 3\n",
    "sigma = 2\n",
    "\n",
    "population_size = 50000\n",
    "population = np.random.normal(mu, sigma, population_size)"
   ]
  },
  {
   "cell_type": "code",
   "execution_count": null,
   "metadata": {},
   "outputs": [],
   "source": [
    "# We said the population values are normally distributed. Let's make a histogram to check by eye.\n",
    "\n",
    "sns.set(font_scale = 2)\n",
    "fig_0 = sns.distplot(population, kde = True)\n",
    "fig_0.set(xlabel = 'Y', ylabel = 'Probability density');"
   ]
  },
  {
   "cell_type": "code",
   "execution_count": null,
   "metadata": {},
   "outputs": [],
   "source": [
    "# Looks good. Pretty normal."
   ]
  },
  {
   "cell_type": "markdown",
   "metadata": {},
   "source": [
    "## Step 2. Sampling distribution of the mean.\n",
    "\n",
    "Draw random samples of size `n` using the `np.random.choice` function. Specifcy the variable `n_samples` to determine the total number of random samples you would like to draw. Make sure `n_samples` is quite large so that we can safely assume we have sampled the population thoroughly. \n",
    "\n",
    "For each sample, calculate the sample mean $\\bar{Y}$."
   ]
  },
  {
   "cell_type": "code",
   "execution_count": null,
   "metadata": {},
   "outputs": [],
   "source": [
    "# Set a sample size n\n",
    "n = 10\n",
    "\n",
    "# Draw the sampling distribution of Ybar\n",
    "n_samples = 10000   # How many different samples of size n exist?\n",
    "Ybar_vec = np.zeros((n_samples))\n",
    "for rep in range(n_samples):\n",
    "    sample_from_population = np.random.choice(population, n)\n",
    "    Ybar_vec[rep] = sample_from_population.mean()\n",
    "\n",
    "print('Done drawing samples')    "
   ]
  },
  {
   "cell_type": "markdown",
   "metadata": {},
   "source": [
    "## The distribution of Ybar is normal, right?\n",
    "\n",
    "Draw a histogram to check by eye."
   ]
  },
  {
   "cell_type": "code",
   "execution_count": null,
   "metadata": {},
   "outputs": [],
   "source": [
    "# The distribution of Ybar is normal, right?\n",
    "fig_1 = sns.distplot(Ybar_vec, label = 'Ybar')\n",
    "fig_1.set(xlim = (-6.0,12.5), xlabel = 'Ybar', ylabel = 'Relative frequency')\n",
    "\n",
    "# What normal distribution should Ybar have? mu = mu, and then what is the standard deviation? \n",
    "# sigma_Ybar = sigma/np.sqrt(n)\n",
    "\n",
    "# Draw on top a normal distribution with these values\n",
    "norm_estimate_for_Ybar = stats.norm.pdf(Ybar_vec, loc = mu, scale = sigma/np.sqrt(n))\n",
    "sns.lineplot(Ybar_vec, norm_estimate_for_Ybar, label = 'Normal mu, sigma/sqrt(n)')\n",
    "lgd = plt.legend(loc=2, bbox_to_anchor=(1.05,1), borderaxespad = 0.0)\n"
   ]
  },
  {
   "cell_type": "markdown",
   "metadata": {},
   "source": [
    "## Convert our sampling distribution to the standard normal distribution\n",
    "\n",
    "Just like last time. \n",
    "\n",
    "$$ Z = \\frac{\\bar{Y}_i - \\mu}{\\sigma_{\\bar{Y}}}$$\n",
    "\n",
    "What assumptions must we make in order to appropriately perform this transformation?"
   ]
  },
  {
   "cell_type": "code",
   "execution_count": null,
   "metadata": {},
   "outputs": [],
   "source": [
    "# Convert to standard normal\n",
    "Z_from_Ybar = (Ybar_vec - mu)/(sigma/np.sqrt(n))\n",
    "\n",
    "# Plot distribution\n",
    "fig_2 = sns.distplot(Z_from_Ybar)\n",
    "\n",
    "# Does this match the standard normal exactly?\n",
    "norm_estimate_for_Z = stats.norm.pdf(Z_from_Ybar, loc = 0, scale = 1)\n",
    "sns.lineplot(Z_from_Ybar, norm_estimate_for_Z, label = 'Normal 1, 0')\n",
    "plt.xlabel('Z (transformed Ybar)')\n",
    "plt.ylabel('Relative frequency')\n",
    "lgd = plt.legend(loc=2, bbox_to_anchor=(1.05,1), borderaxespad = 0.0)\n"
   ]
  },
  {
   "cell_type": "markdown",
   "metadata": {},
   "source": [
    "## Likely we will not know or even have a good guess of $\\sigma$. Often we know the mean, but the standard deviation? Unlikely. \n",
    "\n",
    "What do we do if we don't know $\\sigma$? Estimate it from our data of course! \n",
    "Repeat the proceedure of drawing random samples of size `n` from the population, but this time compute the sample standard error of the mean. Do you think the final standardized distribution will be the same?"
   ]
  },
  {
   "cell_type": "code",
   "execution_count": null,
   "metadata": {},
   "outputs": [],
   "source": [
    "## Realistically, we might have an idea of what the population mean is but the standard deviation? Unlikely.\n",
    "## Let's see what happens when we have to actually estimate the standard deviation from the samples we draw...\n",
    "\n",
    "# Same as above but now compute the sample standard error each time.\n",
    "# Set a sample size n\n",
    "n = 5\n",
    "\n",
    "# Draw the sampling distribution of Ybar\n",
    "n_samples = 10000\n",
    "Ybar_vec = np.zeros((n_samples))\n",
    "SE_vec = np.zeros((n_samples))\n",
    "for rep in range(n_samples):\n",
    "    sample_from_population = np.random.choice(population, n)\n",
    "    Ybar_vec[rep] = sample_from_population.mean()\n",
    "    SE_vec[rep] = np.std(sample_from_population, ddof = 1)/np.sqrt(n)\n",
    "\n",
    "print('Done drawing samples')    "
   ]
  },
  {
   "cell_type": "code",
   "execution_count": null,
   "metadata": {},
   "outputs": [],
   "source": [
    "# The distribution of Ybar is normal, right? Let's plot again to check by eye.\n",
    "fig_3 = sns.distplot(Ybar_vec, label = 'Ybar')\n",
    "fig_3.set(xlim = (-6.0,12.5), xlabel = 'Ybar', ylabel = 'Relative frequency')\n",
    "\n",
    "# What normal distribution should Ybar have? \n",
    "# Draw on top a normal distribution with the appropriate parameters\n",
    "norm_estimate_for_Ybar = stats.norm.pdf(Ybar_vec, loc = mu, scale = sigma/np.sqrt(n))\n",
    "sns.lineplot(Ybar_vec, norm_estimate_for_Ybar, label = 'Normal mu, sigma/sqrt(n)')\n",
    "lgd = plt.legend(loc=2, bbox_to_anchor=(1.05,1), borderaxespad = 0.0)\n"
   ]
  },
  {
   "cell_type": "markdown",
   "metadata": {},
   "source": [
    "## Now let's do the conversion to the standard normal like before but we'll use the sample standard error instead of the population standard deviation value.\n",
    "\n",
    "So the transformation is...\n",
    "$$\\frac{\\bar{Y} - \\mu}{SE_{\\bar{Y}}}$$\n",
    "\n",
    "this time. We'll call the transformed values `Z_from_Ybar_est`. Let's see what the distribution looks like."
   ]
  },
  {
   "cell_type": "code",
   "execution_count": null,
   "metadata": {},
   "outputs": [],
   "source": [
    "## Then we can convert to a standard normal distribution -- right? \n",
    "## Now we need to use our estimated standard errors instead of the true standard error.\n",
    "Z_from_Ybar_est = (Ybar_vec - mu)/SE_vec\n",
    "\n",
    "# Plot!\n",
    "plt.figure(figsize=(20,5))\n",
    "fig_4 = sns.distplot(Z_from_Ybar_est, label = 'Transformed Ybar variables')\n",
    "\n",
    "# Does this match the standard normal exactly?\n",
    "norm_estimate_for_Z_est = stats.norm.pdf(Z_from_Ybar_est, loc = 0, scale =1)\n",
    "sns.lineplot(Z_from_Ybar_est, norm_estimate_for_Z_est, label = 'Normal 1, 0')\n",
    "fig_4.set(xlim = (-5,5), xlabel = 'Transformed Ybar', ylabel = 'Relative frequency')\n",
    "lgd = plt.legend(loc=2, bbox_to_anchor=(1.05,1), borderaxespad = 0.0)\n"
   ]
  },
  {
   "cell_type": "code",
   "execution_count": null,
   "metadata": {},
   "outputs": [],
   "source": []
  }
 ],
 "metadata": {
  "kernelspec": {
   "display_name": "Python 3",
   "language": "python",
   "name": "python3"
  },
  "language_info": {
   "codemirror_mode": {
    "name": "ipython",
    "version": 3
   },
   "file_extension": ".py",
   "mimetype": "text/x-python",
   "name": "python",
   "nbconvert_exporter": "python",
   "pygments_lexer": "ipython3",
   "version": "3.7.3"
  }
 },
 "nbformat": 4,
 "nbformat_minor": 2
}
