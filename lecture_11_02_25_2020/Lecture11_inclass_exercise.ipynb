{
 "cells": [
  {
   "cell_type": "markdown",
   "metadata": {},
   "source": [
    "# In-class exercise for Lecture 11.\n",
    "\n",
    "Data from https://arxiv.org/pdf/1403.6034.pdf"
   ]
  },
  {
   "cell_type": "code",
   "execution_count": null,
   "metadata": {},
   "outputs": [],
   "source": [
    "import sys\n",
    "import os\n",
    "import numpy as np\n",
    "import pandas as pd\n",
    "import matplotlib.pyplot as plt\n",
    "import scipy.io as sio\n",
    "from scipy import stats\n",
    "import seaborn as sns\n",
    "import networkx as nx\n",
    "import scipy\n"
   ]
  },
  {
   "cell_type": "code",
   "execution_count": null,
   "metadata": {},
   "outputs": [],
   "source": [
    "# Load in the data\n",
    "\n",
    "region_names_and_coordinates = pd.read_csv('data/region_names_and_coordinates.csv',\n",
    "                                           header = None,\n",
    "                                           names = ['num','hemisphere','region_name','x','y','z'])\n",
    "region_names_and_coordinates.head()"
   ]
  },
  {
   "cell_type": "code",
   "execution_count": null,
   "metadata": {},
   "outputs": [],
   "source": [
    "# Let's keep just the region names for now\n",
    "region_names = region_names_and_coordinates['region_name']"
   ]
  },
  {
   "cell_type": "code",
   "execution_count": null,
   "metadata": {},
   "outputs": [],
   "source": [
    "print(os.listdir('./data'))\n",
    "\n",
    "\n",
    "n_individuals = 10\n",
    "n_nodes = 112\n",
    "brain_array = np.zeros((n_nodes, n_nodes, n_individuals))\n",
    "\n",
    "for i in range(n_individuals):\n",
    "    brain_i = np.genfromtxt(f'data/Abootstrap{i+1}.csv', delimiter = ',')\n",
    "    np.fill_diagonal(brain_i, 0)\n",
    "    brain_array[:, :, i] = brain_i\n",
    "    \n",
    "print('\\n done loading brains :)')\n",
    "\n",
    "# Plot just one as a heatmap\n",
    "example_number = 1\n",
    "fig_0 = sns.heatmap(brain_array[:, :, example_number])\n",
    "fig_0.set(xlabel = 'Nodes', ylabel = 'Nodes', title = f'fMRI adjacency matrix for individual {example_number}');"
   ]
  },
  {
   "cell_type": "code",
   "execution_count": null,
   "metadata": {},
   "outputs": [],
   "source": [
    "# For fun, let's draw a BIG heatmap with all of the region names\n",
    "\n",
    "plt.figure(figsize = (20,20))\n",
    "fig_1 = sns.heatmap(brain_array[:, :, example_number], xticklabels = region_names, yticklabels = region_names)\n",
    "fig_1.set(xlabel = 'Regions', ylabel = 'Regions', title = f'fMRI adjacency matrix for individual {example_number}');"
   ]
  },
  {
   "cell_type": "markdown",
   "metadata": {},
   "source": [
    "## t-test"
   ]
  },
  {
   "cell_type": "markdown",
   "metadata": {},
   "source": [
    "With the region names, we can now ask more specific questions about particular regions and their function in motor skill learning. Consider the superior temporal gyrus (posterior) in both the left and right hemispheres. These areas are also referred to as the primary auditory cortex of the brain, and as one might imagine, are involved in processing sound (including music, language, etc.). We are curious to know whether the auditory cortex plays an important role in the network as participants play the finger sequences. "
   ]
  },
  {
   "cell_type": "code",
   "execution_count": null,
   "metadata": {},
   "outputs": [],
   "source": [
    "np.where(region_names == 'Superior temporal gyrus, posterior')[0]\n",
    "\n",
    "# The first is from the left hemisphere, the second from the right."
   ]
  },
  {
   "cell_type": "markdown",
   "metadata": {},
   "source": [
    "## Question: is the mean strength of connections emanating from the left superior frontal gyrus in one individual equal to the global mean of that individual's edges?"
   ]
  },
  {
   "cell_type": "code",
   "execution_count": null,
   "metadata": {},
   "outputs": [],
   "source": [
    "my_individual = 9\n",
    "\n",
    "adj = brain_array[:, :, my_individual]\n"
   ]
  },
  {
   "cell_type": "code",
   "execution_count": null,
   "metadata": {},
   "outputs": [],
   "source": [
    "# Step 1: Turn the adjacency matrix into a graph.\n",
    "\n",
    "G = nx.from_numpy_array(adj, parallel_edges = False)"
   ]
  },
  {
   "cell_type": "code",
   "execution_count": null,
   "metadata": {},
   "outputs": [],
   "source": [
    "# Step 2: Get the edge weights of all edges\n",
    "\n",
    "\n",
    "# print(G.edges(data = True)) to see all of the edge data in G\n",
    "edge_weights = np.array([d['weight'] for u,v,d in G.edges(data = True)])\n"
   ]
  },
  {
   "cell_type": "code",
   "execution_count": null,
   "metadata": {},
   "outputs": [],
   "source": [
    "# Step 3: Calculate the mean of the edge weights\n",
    "\n",
    "edge_weights_mean = "
   ]
  },
  {
   "cell_type": "code",
   "execution_count": null,
   "metadata": {},
   "outputs": [],
   "source": [
    "# Step 4: Calculate the mean of the edge weights from the left superior temporal gyrus\n",
    "\n",
    "stg_index_left = np.where(region_names == 'Superior temporal gyrus, posterior')[0][0]\n",
    "stg_left_edge_weights = adj[stg_index_left, :]\n",
    "\n",
    "stg_left_edge_weights_mean = "
   ]
  },
  {
   "cell_type": "code",
   "execution_count": null,
   "metadata": {},
   "outputs": [],
   "source": [
    "# Step 5: Compute the standard error of the mean.\n",
    "\n",
    "n_edges = \n",
    "edge_weights_stdev = \n",
    "\n",
    "edge_weights_sterr = \n"
   ]
  },
  {
   "cell_type": "code",
   "execution_count": null,
   "metadata": {},
   "outputs": [],
   "source": [
    "# Step 6: Compute the t-statistic\n",
    "\n",
    "# What is Ybar here? What is mu? \n",
    "t_stat = \n"
   ]
  },
  {
   "cell_type": "code",
   "execution_count": null,
   "metadata": {},
   "outputs": [],
   "source": [
    "# Step 7: Use a Student's t-distribution table to find the critical values\n",
    "\n",
    "# How many degrees of freedom do we have?"
   ]
  },
  {
   "cell_type": "code",
   "execution_count": null,
   "metadata": {},
   "outputs": [],
   "source": [
    "# Step 8: Do we reject the hypothesis?\n"
   ]
  },
  {
   "cell_type": "markdown",
   "metadata": {},
   "source": [
    "# Don't forget to submit your individual number (`my_individual`), t-statistic, p-value, and conclusion to Canvas!"
   ]
  },
  {
   "cell_type": "code",
   "execution_count": null,
   "metadata": {},
   "outputs": [],
   "source": []
  }
 ],
 "metadata": {
  "kernelspec": {
   "display_name": "Python 3",
   "language": "python",
   "name": "python3"
  },
  "language_info": {
   "codemirror_mode": {
    "name": "ipython",
    "version": 3
   },
   "file_extension": ".py",
   "mimetype": "text/x-python",
   "name": "python",
   "nbconvert_exporter": "python",
   "pygments_lexer": "ipython3",
   "version": "3.7.3"
  }
 },
 "nbformat": 4,
 "nbformat_minor": 2
}
