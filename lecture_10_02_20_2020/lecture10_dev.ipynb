{
 "cells": [
  {
   "cell_type": "markdown",
   "metadata": {},
   "source": [
    "## Lecture 10 dev"
   ]
  },
  {
   "cell_type": "code",
   "execution_count": 1,
   "metadata": {},
   "outputs": [
    {
     "name": "stdout",
     "output_type": "stream",
     "text": [
      "1.3.4\n"
     ]
    }
   ],
   "source": [
    "## Normal distributions and bokeh\n",
    "\n",
    "import sys\n",
    "import os\n",
    "import numpy as np\n",
    "import pandas as pd\n",
    "import matplotlib.pyplot as plt\n",
    "import scipy.io as sio\n",
    "from scipy import stats\n",
    "import seaborn as sns\n",
    "import bokeh as bk\n",
    "\n",
    "print(bk.__version__)"
   ]
  },
  {
   "cell_type": "code",
   "execution_count": 2,
   "metadata": {},
   "outputs": [],
   "source": [
    "x_axis = np.arange(100)\n",
    "\n",
    "mu_values = [25, 30, 50, 60, 70]\n",
    "sigma_values = [5, 10, 30, 10, 5]\n",
    "\n",
    "\n",
    "vals = stats.norm.ppf([0.001, 0.5, 0.999])\n",
    "norm_1 = stats.norm.pdf(x_axis, loc = mu_values[2], scale = sigma_values[2])\n"
   ]
  },
  {
   "cell_type": "code",
   "execution_count": 108,
   "metadata": {},
   "outputs": [
    {
     "name": "stdout",
     "output_type": "stream",
     "text": [
      "#393b79\n",
      "#5254a3\n",
      "#6b6ecf\n",
      "#9c9ede\n",
      "#637939\n"
     ]
    },
    {
     "data": {
      "image/png": "[encoded data removed]",
      "text/plain": [
       "<Figure size 432x288 with 1 Axes>"
      ]
     },
     "metadata": {
      "needs_background": "light"
     },
     "output_type": "display_data"
    }
   ],
   "source": [
    "for mu, sigma, color in zip(mu_values, sigma_values, Category20b[5]):\n",
    "    norm_data = stats.norm.pdf(x_axis, loc = mu, scale = sigma)\n",
    "    print(color)\n",
    "    plt.plot(x_axis, norm_data, linewidth=2, color= color, alpha=0.8, label = f'mu={mu}, sigma={sigma}')\n",
    "\n",
    "plt.savefig('normal.pdf')"
   ]
  },
  {
   "cell_type": "code",
   "execution_count": 104,
   "metadata": {},
   "outputs": [
    {
     "data": {
      "text/html": [
       "\n",
       "    <div class=\"bk-root\">\n",
       "        <a href=\"https://bokeh.pydata.org\" target=\"_blank\" class=\"bk-logo bk-logo-small bk-logo-notebook\"></a>\n",
       "        <span id=\"1240\">Loading BokehJS ...</span>\n",
       "    </div>"
      ]
     },
     "metadata": {},
     "output_type": "display_data"
    },
    {
     "data": {
      "application/javascript": [
       "\n",
       "(function(root) {\n",
       "  function now() {\n",
       "    return new Date();\n",
       "  }\n",
       "\n",
       "  var force = true;\n",
       "\n",
       "  if (typeof root._bokeh_onload_callbacks === \"undefined\" || force === true) {\n",
       "    root._bokeh_onload_callbacks = [];\n",
       "    root._bokeh_is_loading = undefined;\n",
       "  }\n",
       "\n",
       "  var JS_MIME_TYPE = 'application/javascript';\n",
       "  var HTML_MIME_TYPE = 'text/html';\n",
       "  var EXEC_MIME_TYPE = 'application/vnd.bokehjs_exec.v0+json';\n",
       "  var CLASS_NAME = 'output_bokeh rendered_html';\n",
       "\n",
       "  /**\n",
       "   * Render data to the DOM node\n",
       "   */\n",
       "  function render(props, node) {\n",
       "    var script = document.createElement(\"script\");\n",
       "    node.appendChild(script);\n",
       "  }\n",
       "\n",
       "  /**\n",
       "   * Handle when an output is cleared or removed\n",
       "   */\n",
       "  function handleClearOutput(event, handle) {\n",
       "    var cell = handle.cell;\n",
       "\n",
       "    var id = cell.output_area._bokeh_element_id;\n",
       "    var server_id = cell.output_area._bokeh_server_id;\n",
       "    // Clean up Bokeh references\n",
       "    if (id != null && id in Bokeh.index) {\n",
       "      Bokeh.index[id].model.document.clear();\n",
       "      delete Bokeh.index[id];\n",
       "    }\n",
       "\n",
       "    if (server_id !== undefined) {\n",
       "      // Clean up Bokeh references\n",
       "      var cmd = \"from bokeh.io.state import curstate; print(curstate().uuid_to_server['\" + server_id + \"'].get_sessions()[0].document.roots[0]._id)\";\n",
       "      cell.notebook.kernel.execute(cmd, {\n",
       "        iopub: {\n",
       "          output: function(msg) {\n",
       "            var id = msg.content.text.trim();\n",
       "            if (id in Bokeh.index) {\n",
       "              Bokeh.index[id].model.document.clear();\n",
       "              delete Bokeh.index[id];\n",
       "            }\n",
       "          }\n",
       "        }\n",
       "      });\n",
       "      // Destroy server and session\n",
       "      var cmd = \"import bokeh.io.notebook as ion; ion.destroy_server('\" + server_id + \"')\";\n",
       "      cell.notebook.kernel.execute(cmd);\n",
       "    }\n",
       "  }\n",
       "\n",
       "  /**\n",
       "   * Handle when a new output is added\n",
       "   */\n",
       "  function handleAddOutput(event, handle) {\n",
       "    var output_area = handle.output_area;\n",
       "    var output = handle.output;\n",
       "\n",
       "    // limit handleAddOutput to display_data with EXEC_MIME_TYPE content only\n",
       "    if ((output.output_type != \"display_data\") || (!output.data.hasOwnProperty(EXEC_MIME_TYPE))) {\n",
       "      return\n",
       "    }\n",
       "\n",
       "    var toinsert = output_area.element.find(\".\" + CLASS_NAME.split(' ')[0]);\n",
       "\n",
       "    if (output.metadata[EXEC_MIME_TYPE][\"id\"] !== undefined) {\n",
       "      toinsert[toinsert.length - 1].firstChild.textContent = output.data[JS_MIME_TYPE];\n",
       "      // store reference to embed id on output_area\n",
       "      output_area._bokeh_element_id = output.metadata[EXEC_MIME_TYPE][\"id\"];\n",
       "    }\n",
       "    if (output.metadata[EXEC_MIME_TYPE][\"server_id\"] !== undefined) {\n",
       "      var bk_div = document.createElement(\"div\");\n",
       "      bk_div.innerHTML = output.data[HTML_MIME_TYPE];\n",
       "      var script_attrs = bk_div.children[0].attributes;\n",
       "      for (var i = 0; i < script_attrs.length; i++) {\n",
       "        toinsert[toinsert.length - 1].firstChild.setAttribute(script_attrs[i].name, script_attrs[i].value);\n",
       "      }\n",
       "      // store reference to server id on output_area\n",
       "      output_area._bokeh_server_id = output.metadata[EXEC_MIME_TYPE][\"server_id\"];\n",
       "    }\n",
       "  }\n",
       "\n",
       "  function register_renderer(events, OutputArea) {\n",
       "\n",
       "    function append_mime(data, metadata, element) {\n",
       "      // create a DOM node to render to\n",
       "      var toinsert = this.create_output_subarea(\n",
       "        metadata,\n",
       "        CLASS_NAME,\n",
       "        EXEC_MIME_TYPE\n",
       "      );\n",
       "      this.keyboard_manager.register_events(toinsert);\n",
       "      // Render to node\n",
       "      var props = {data: data, metadata: metadata[EXEC_MIME_TYPE]};\n",
       "      render(props, toinsert[toinsert.length - 1]);\n",
       "      element.append(toinsert);\n",
       "      return toinsert\n",
       "    }\n",
       "\n",
       "    /* Handle when an output is cleared or removed */\n",
       "    events.on('clear_output.CodeCell', handleClearOutput);\n",
       "    events.on('delete.Cell', handleClearOutput);\n",
       "\n",
       "    /* Handle when a new output is added */\n",
       "    events.on('output_added.OutputArea', handleAddOutput);\n",
       "\n",
       "    /**\n",
       "     * Register the mime type and append_mime function with output_area\n",
       "     */\n",
       "    OutputArea.prototype.register_mime_type(EXEC_MIME_TYPE, append_mime, {\n",
       "      /* Is output safe? */\n",
       "      safe: true,\n",
       "      /* Index of renderer in `output_area.display_order` */\n",
       "      index: 0\n",
       "    });\n",
       "  }\n",
       "\n",
       "  // register the mime type if in Jupyter Notebook environment and previously unregistered\n",
       "  if (root.Jupyter !== undefined) {\n",
       "    var events = require('base/js/events');\n",
       "    var OutputArea = require('notebook/js/outputarea').OutputArea;\n",
       "\n",
       "    if (OutputArea.prototype.mime_types().indexOf(EXEC_MIME_TYPE) == -1) {\n",
       "      register_renderer(events, OutputArea);\n",
       "    }\n",
       "  }\n",
       "\n",
       "  \n",
       "  if (typeof (root._bokeh_timeout) === \"undefined\" || force === true) {\n",
       "    root._bokeh_timeout = Date.now() + 5000;\n",
       "    root._bokeh_failed_load = false;\n",
       "  }\n",
       "\n",
       "  var NB_LOAD_WARNING = {'data': {'text/html':\n",
       "     \"<div style='background-color: #fdd'>\\n\"+\n",
       "     \"<p>\\n\"+\n",
       "     \"BokehJS does not appear to have successfully loaded. If loading BokehJS from CDN, this \\n\"+\n",
       "     \"may be due to a slow or bad network connection. Possible fixes:\\n\"+\n",
       "     \"</p>\\n\"+\n",
       "     \"<ul>\\n\"+\n",
       "     \"<li>re-rerun `output_notebook()` to attempt to load from CDN again, or</li>\\n\"+\n",
       "     \"<li>use INLINE resources instead, as so:</li>\\n\"+\n",
       "     \"</ul>\\n\"+\n",
       "     \"<code>\\n\"+\n",
       "     \"from bokeh.resources import INLINE\\n\"+\n",
       "     \"output_notebook(resources=INLINE)\\n\"+\n",
       "     \"</code>\\n\"+\n",
       "     \"</div>\"}};\n",
       "\n",
       "  function display_loaded() {\n",
       "    var el = document.getElementById(\"1240\");\n",
       "    if (el != null) {\n",
       "      el.textContent = \"BokehJS is loading...\";\n",
       "    }\n",
       "    if (root.Bokeh !== undefined) {\n",
       "      if (el != null) {\n",
       "        el.textContent = \"BokehJS \" + root.Bokeh.version + \" successfully loaded.\";\n",
       "      }\n",
       "    } else if (Date.now() < root._bokeh_timeout) {\n",
       "      setTimeout(display_loaded, 100)\n",
       "    }\n",
       "  }\n",
       "\n",
       "\n",
       "  function run_callbacks() {\n",
       "    try {\n",
       "      root._bokeh_onload_callbacks.forEach(function(callback) {\n",
       "        if (callback != null)\n",
       "          callback();\n",
       "      });\n",
       "    } finally {\n",
       "      delete root._bokeh_onload_callbacks\n",
       "    }\n",
       "    console.debug(\"Bokeh: all callbacks have finished\");\n",
       "  }\n",
       "\n",
       "  function load_libs(css_urls, js_urls, callback) {\n",
       "    if (css_urls == null) css_urls = [];\n",
       "    if (js_urls == null) js_urls = [];\n",
       "\n",
       "    root._bokeh_onload_callbacks.push(callback);\n",
       "    if (root._bokeh_is_loading > 0) {\n",
       "      console.debug(\"Bokeh: BokehJS is being loaded, scheduling callback at\", now());\n",
       "      return null;\n",
       "    }\n",
       "    if (js_urls == null || js_urls.length === 0) {\n",
       "      run_callbacks();\n",
       "      return null;\n",
       "    }\n",
       "    console.debug(\"Bokeh: BokehJS not loaded, scheduling load and callback at\", now());\n",
       "    root._bokeh_is_loading = css_urls.length + js_urls.length;\n",
       "\n",
       "    function on_load() {\n",
       "      root._bokeh_is_loading--;\n",
       "      if (root._bokeh_is_loading === 0) {\n",
       "        console.debug(\"Bokeh: all BokehJS libraries/stylesheets loaded\");\n",
       "        run_callbacks()\n",
       "      }\n",
       "    }\n",
       "\n",
       "    function on_error() {\n",
       "      console.error(\"failed to load \" + url);\n",
       "    }\n",
       "\n",
       "    for (var i = 0; i < css_urls.length; i++) {\n",
       "      var url = css_urls[i];\n",
       "      const element = document.createElement(\"link\");\n",
       "      element.onload = on_load;\n",
       "      element.onerror = on_error;\n",
       "      element.rel = \"stylesheet\";\n",
       "      element.type = \"text/css\";\n",
       "      element.href = url;\n",
       "      console.debug(\"Bokeh: injecting link tag for BokehJS stylesheet: \", url);\n",
       "      document.body.appendChild(element);\n",
       "    }\n",
       "\n",
       "    for (var i = 0; i < js_urls.length; i++) {\n",
       "      var url = js_urls[i];\n",
       "      var element = document.createElement('script');\n",
       "      element.onload = on_load;\n",
       "      element.onerror = on_error;\n",
       "      element.async = false;\n",
       "      element.src = url;\n",
       "      console.debug(\"Bokeh: injecting script tag for BokehJS library: \", url);\n",
       "      document.head.appendChild(element);\n",
       "    }\n",
       "  };var element = document.getElementById(\"1240\");\n",
       "  if (element == null) {\n",
       "    console.error(\"Bokeh: ERROR: autoload.js configured with elementid '1240' but no matching script tag was found. \")\n",
       "    return false;\n",
       "  }\n",
       "\n",
       "  function inject_raw_css(css) {\n",
       "    const element = document.createElement(\"style\");\n",
       "    element.appendChild(document.createTextNode(css));\n",
       "    document.body.appendChild(element);\n",
       "  }\n",
       "\n",
       "  var js_urls = [\"https://cdn.pydata.org/bokeh/release/bokeh-1.3.4.min.js\", \"https://cdn.pydata.org/bokeh/release/bokeh-widgets-1.3.4.min.js\", \"https://cdn.pydata.org/bokeh/release/bokeh-tables-1.3.4.min.js\", \"https://cdn.pydata.org/bokeh/release/bokeh-gl-1.3.4.min.js\"];\n",
       "  var css_urls = [];\n",
       "\n",
       "  var inline_js = [\n",
       "    function(Bokeh) {\n",
       "      Bokeh.set_log_level(\"info\");\n",
       "    },\n",
       "    \n",
       "    function(Bokeh) {\n",
       "      \n",
       "    },\n",
       "    function(Bokeh) {} // ensure no trailing comma for IE\n",
       "  ];\n",
       "\n",
       "  function run_inline_js() {\n",
       "    \n",
       "    if ((root.Bokeh !== undefined) || (force === true)) {\n",
       "      for (var i = 0; i < inline_js.length; i++) {\n",
       "        inline_js[i].call(root, root.Bokeh);\n",
       "      }if (force === true) {\n",
       "        display_loaded();\n",
       "      }} else if (Date.now() < root._bokeh_timeout) {\n",
       "      setTimeout(run_inline_js, 100);\n",
       "    } else if (!root._bokeh_failed_load) {\n",
       "      console.log(\"Bokeh: BokehJS failed to load within specified timeout.\");\n",
       "      root._bokeh_failed_load = true;\n",
       "    } else if (force !== true) {\n",
       "      var cell = $(document.getElementById(\"1240\")).parents('.cell').data().cell;\n",
       "      cell.output_area.append_execute_result(NB_LOAD_WARNING)\n",
       "    }\n",
       "\n",
       "  }\n",
       "\n",
       "  if (root._bokeh_is_loading === 0) {\n",
       "    console.debug(\"Bokeh: BokehJS loaded, going straight to plotting\");\n",
       "    run_inline_js();\n",
       "  } else {\n",
       "    load_libs(css_urls, js_urls, function() {\n",
       "      console.debug(\"Bokeh: BokehJS plotting callback run at\", now());\n",
       "      run_inline_js();\n",
       "    });\n",
       "  }\n",
       "}(window));"
      ],
      "application/vnd.bokehjs_load.v0+json": "\n(function(root) {\n  function now() {\n    return new Date();\n  }\n\n  var force = true;\n\n  if (typeof root._bokeh_onload_callbacks === \"undefined\" || force === true) {\n    root._bokeh_onload_callbacks = [];\n    root._bokeh_is_loading = undefined;\n  }\n\n  \n\n  \n  if (typeof (root._bokeh_timeout) === \"undefined\" || force === true) {\n    root._bokeh_timeout = Date.now() + 5000;\n    root._bokeh_failed_load = false;\n  }\n\n  var NB_LOAD_WARNING = {'data': {'text/html':\n     \"<div style='background-color: #fdd'>\\n\"+\n     \"<p>\\n\"+\n     \"BokehJS does not appear to have successfully loaded. If loading BokehJS from CDN, this \\n\"+\n     \"may be due to a slow or bad network connection. Possible fixes:\\n\"+\n     \"</p>\\n\"+\n     \"<ul>\\n\"+\n     \"<li>re-rerun `output_notebook()` to attempt to load from CDN again, or</li>\\n\"+\n     \"<li>use INLINE resources instead, as so:</li>\\n\"+\n     \"</ul>\\n\"+\n     \"<code>\\n\"+\n     \"from bokeh.resources import INLINE\\n\"+\n     \"output_notebook(resources=INLINE)\\n\"+\n     \"</code>\\n\"+\n     \"</div>\"}};\n\n  function display_loaded() {\n    var el = document.getElementById(\"1240\");\n    if (el != null) {\n      el.textContent = \"BokehJS is loading...\";\n    }\n    if (root.Bokeh !== undefined) {\n      if (el != null) {\n        el.textContent = \"BokehJS \" + root.Bokeh.version + \" successfully loaded.\";\n      }\n    } else if (Date.now() < root._bokeh_timeout) {\n      setTimeout(display_loaded, 100)\n    }\n  }\n\n\n  function run_callbacks() {\n    try {\n      root._bokeh_onload_callbacks.forEach(function(callback) {\n        if (callback != null)\n          callback();\n      });\n    } finally {\n      delete root._bokeh_onload_callbacks\n    }\n    console.debug(\"Bokeh: all callbacks have finished\");\n  }\n\n  function load_libs(css_urls, js_urls, callback) {\n    if (css_urls == null) css_urls = [];\n    if (js_urls == null) js_urls = [];\n\n    root._bokeh_onload_callbacks.push(callback);\n    if (root._bokeh_is_loading > 0) {\n      console.debug(\"Bokeh: BokehJS is being loaded, scheduling callback at\", now());\n      return null;\n    }\n    if (js_urls == null || js_urls.length === 0) {\n      run_callbacks();\n      return null;\n    }\n    console.debug(\"Bokeh: BokehJS not loaded, scheduling load and callback at\", now());\n    root._bokeh_is_loading = css_urls.length + js_urls.length;\n\n    function on_load() {\n      root._bokeh_is_loading--;\n      if (root._bokeh_is_loading === 0) {\n        console.debug(\"Bokeh: all BokehJS libraries/stylesheets loaded\");\n        run_callbacks()\n      }\n    }\n\n    function on_error() {\n      console.error(\"failed to load \" + url);\n    }\n\n    for (var i = 0; i < css_urls.length; i++) {\n      var url = css_urls[i];\n      const element = document.createElement(\"link\");\n      element.onload = on_load;\n      element.onerror = on_error;\n      element.rel = \"stylesheet\";\n      element.type = \"text/css\";\n      element.href = url;\n      console.debug(\"Bokeh: injecting link tag for BokehJS stylesheet: \", url);\n      document.body.appendChild(element);\n    }\n\n    for (var i = 0; i < js_urls.length; i++) {\n      var url = js_urls[i];\n      var element = document.createElement('script');\n      element.onload = on_load;\n      element.onerror = on_error;\n      element.async = false;\n      element.src = url;\n      console.debug(\"Bokeh: injecting script tag for BokehJS library: \", url);\n      document.head.appendChild(element);\n    }\n  };var element = document.getElementById(\"1240\");\n  if (element == null) {\n    console.error(\"Bokeh: ERROR: autoload.js configured with elementid '1240' but no matching script tag was found. \")\n    return false;\n  }\n\n  function inject_raw_css(css) {\n    const element = document.createElement(\"style\");\n    element.appendChild(document.createTextNode(css));\n    document.body.appendChild(element);\n  }\n\n  var js_urls = [\"https://cdn.pydata.org/bokeh/release/bokeh-1.3.4.min.js\", \"https://cdn.pydata.org/bokeh/release/bokeh-widgets-1.3.4.min.js\", \"https://cdn.pydata.org/bokeh/release/bokeh-tables-1.3.4.min.js\", \"https://cdn.pydata.org/bokeh/release/bokeh-gl-1.3.4.min.js\"];\n  var css_urls = [];\n\n  var inline_js = [\n    function(Bokeh) {\n      Bokeh.set_log_level(\"info\");\n    },\n    \n    function(Bokeh) {\n      \n    },\n    function(Bokeh) {} // ensure no trailing comma for IE\n  ];\n\n  function run_inline_js() {\n    \n    if ((root.Bokeh !== undefined) || (force === true)) {\n      for (var i = 0; i < inline_js.length; i++) {\n        inline_js[i].call(root, root.Bokeh);\n      }if (force === true) {\n        display_loaded();\n      }} else if (Date.now() < root._bokeh_timeout) {\n      setTimeout(run_inline_js, 100);\n    } else if (!root._bokeh_failed_load) {\n      console.log(\"Bokeh: BokehJS failed to load within specified timeout.\");\n      root._bokeh_failed_load = true;\n    } else if (force !== true) {\n      var cell = $(document.getElementById(\"1240\")).parents('.cell').data().cell;\n      cell.output_area.append_execute_result(NB_LOAD_WARNING)\n    }\n\n  }\n\n  if (root._bokeh_is_loading === 0) {\n    console.debug(\"Bokeh: BokehJS loaded, going straight to plotting\");\n    run_inline_js();\n  } else {\n    load_libs(css_urls, js_urls, function() {\n      console.debug(\"Bokeh: BokehJS plotting callback run at\", now());\n      run_inline_js();\n    });\n  }\n}(window));"
     },
     "metadata": {},
     "output_type": "display_data"
    },
    {
     "name": "stdout",
     "output_type": "stream",
     "text": [
      "#393b79\n",
      "#5254a3\n",
      "#6b6ecf\n",
      "#9c9ede\n",
      "#637939\n"
     ]
    },
    {
     "data": {
      "text/html": [
       "\n",
       "\n",
       "\n",
       "\n",
       "\n",
       "\n",
       "  <div class=\"bk-root\" id=\"4e0a464a-58d9-4524-b433-b7cb25dd0778\" data-root-id=\"1241\"></div>\n"
      ]
     },
     "metadata": {},
     "output_type": "display_data"
    },
    {
     "data": {
      "application/javascript": [
       "(function(root) {\n",
       "  function embed_document(root) {\n",
       "    \n",
       "  var docs_json = {\"dc7882cd-fbec-4b20-b653-a57d32631459\":{\"roots\":{\"references\":[{\"attributes\":{\"below\":[{\"id\":\"1250\",\"type\":\"LinearAxis\"}],\"center\":[{\"id\":\"1254\",\"type\":\"Grid\"},{\"id\":\"1259\",\"type\":\"Grid\"},{\"id\":\"1286\",\"type\":\"Legend\"}],\"left\":[{\"id\":\"1255\",\"type\":\"LinearAxis\"}],\"plot_height\":500,\"plot_width\":800,\"renderers\":[{\"id\":\"1277\",\"type\":\"GlyphRenderer\"},{\"id\":\"1291\",\"type\":\"GlyphRenderer\"},{\"id\":\"1306\",\"type\":\"GlyphRenderer\"},{\"id\":\"1323\",\"type\":\"GlyphRenderer\"},{\"id\":\"1342\",\"type\":\"GlyphRenderer\"}],\"title\":{\"id\":\"1273\",\"type\":\"Title\"},\"toolbar\":{\"id\":\"1266\",\"type\":\"Toolbar\"},\"x_range\":{\"id\":\"1242\",\"type\":\"DataRange1d\"},\"x_scale\":{\"id\":\"1246\",\"type\":\"LinearScale\"},\"y_range\":{\"id\":\"1244\",\"type\":\"DataRange1d\"},\"y_scale\":{\"id\":\"1248\",\"type\":\"LinearScale\"}},\"id\":\"1241\",\"subtype\":\"Figure\",\"type\":\"Plot\"},{\"attributes\":{\"callback\":null},\"id\":\"1242\",\"type\":\"DataRange1d\"},{\"attributes\":{\"callback\":null,\"data\":{\"x\":[0,1,2,3,4,5,6,7,8,9,10,11,12,13,14,15,16,17,18,19,20,21,22,23,24,25,26,27,28,29,30,31,32,33,34,35,36,37,38,39,40,41,42,43,44,45,46,47,48,49,50,51,52,53,54,55,56,57,58,59,60,61,62,63,64,65,66,67,68,69,70,71,72,73,74,75,76,77,78,79,80,81,82,83,84,85,86,87,88,89,90,91,92,93,94,95,96,97,98,99],\"y\":{\"__ndarray__\":\"pdT7HnZN3zbAZ/pvEokfN8NMt7w4hl43PY8CWBhjnDd7vbDgR13ZNyS/vI5exhU4RNYNkNv1UTgQ//xQaneMOOIOKEmurMU4pYxYa0i2/zielWYTEUo2OZD08eKvGm45s/0tEE+Iozn6OkHEP1rYOXMURq3rKw06kC762nnJQDreBPc9GZByOkpPL03FuKM6Xzqc0qMh1DraRdK0ab4DO65EKtK5mjI7ynf0YObXYDvimc0DXE2NO5oi1YMpfbg7xixHUu6p4zsqXfdjLVcOPOhS6+BHfTY88ViWlSYEYDxb5gSZAOuFPA4M71iA0aw892wHyOUz0jwnA9Uy5hf2PG6s1PScwxk9EO0iLt/dPD1yUtJJHxNfPT30So/pEYA9izaFzDLwnz1OPkp7UH6+PbLl7rvr+Ns9lwFs6FCn+D1kBtovZ+AUPq0J5f8r/DA+Am4X9tyNSj4a9nA0evFjPmovnZ8myHw+msqgUFT0kz7KwsHDdZWqPlFa5Xl2A8E+SRFG3Frs1D5OxZm19rjoPiIhAZ70EPw+Y6Nc/+OcDj8XMeOCZwogP2asvTSkJjA/crHUK6w/Pz91iiVmaAtNPzuuukj271k/lNRNNxxBZj9a1rgweVhyP5UpkLOPD30/q8i5+Fwdhj9uRVUWQyuQPwUl6j1yt5Y/eCWTBgiqnj+eZTKOeOKjP5MSXAsex6g/2uQDGheqrT9iHVQ6pA+xP5c9vYn92rI/upJkjHkFtD/akXYpBG20P7qSZIx5BbQ/lz29if3asj9iHVQ6pA+xP9rkAxoXqq0/kxJcCx7HqD+eZTKOeOKjP3glkwYIqp4/BSXqPXK3lj9uRVUWQyuQP6vIufhcHYY/lSmQs48PfT9a1rgweVhyP5TUTTccQWY/O666SPbvWT91iiVmaAtNP3Kx1CusPz8/Zqy9NKQmMD8XMeOCZwogP2OjXP/jnA4/IiEBnvQQ/D5OxZm19rjoPkkRRtxa7NQ+UVrleXYDwT7KwsHDdZWqPprKoFBU9JM+ai+dnybIfD4a9nA0evFjPgJuF/bcjUo+rQnl/yv8MD4=\",\"dtype\":\"float64\",\"shape\":[100]}},\"selected\":{\"id\":\"1392\",\"type\":\"Selection\"},\"selection_policy\":{\"id\":\"1393\",\"type\":\"UnionRenderers\"}},\"id\":\"1339\",\"type\":\"ColumnDataSource\"},{\"attributes\":{\"source\":{\"id\":\"1339\",\"type\":\"ColumnDataSource\"}},\"id\":\"1343\",\"type\":\"CDSView\"},{\"attributes\":{\"bottom_units\":\"screen\",\"fill_alpha\":{\"value\":0.5},\"fill_color\":{\"value\":\"lightgrey\"},\"left_units\":\"screen\",\"level\":\"overlay\",\"line_alpha\":{\"value\":1.0},\"line_color\":{\"value\":\"black\"},\"line_dash\":[4,4],\"line_width\":{\"value\":2},\"render_mode\":\"css\",\"right_units\":\"screen\",\"top_units\":\"screen\"},\"id\":\"1285\",\"type\":\"BoxAnnotation\"},{\"attributes\":{},\"id\":\"1263\",\"type\":\"SaveTool\"},{\"attributes\":{\"data_source\":{\"id\":\"1274\",\"type\":\"ColumnDataSource\"},\"glyph\":{\"id\":\"1275\",\"type\":\"Line\"},\"hover_glyph\":null,\"muted_glyph\":null,\"nonselection_glyph\":{\"id\":\"1276\",\"type\":\"Line\"},\"selection_glyph\":null,\"view\":{\"id\":\"1278\",\"type\":\"CDSView\"}},\"id\":\"1277\",\"type\":\"GlyphRenderer\"},{\"attributes\":{},\"id\":\"1357\",\"type\":\"Selection\"},{\"attributes\":{},\"id\":\"1260\",\"type\":\"PanTool\"},{\"attributes\":{\"callback\":null},\"id\":\"1244\",\"type\":\"DataRange1d\"},{\"attributes\":{\"data_source\":{\"id\":\"1339\",\"type\":\"ColumnDataSource\"},\"glyph\":{\"id\":\"1340\",\"type\":\"Line\"},\"hover_glyph\":null,\"muted_glyph\":null,\"nonselection_glyph\":{\"id\":\"1341\",\"type\":\"Line\"},\"selection_glyph\":null,\"view\":{\"id\":\"1343\",\"type\":\"CDSView\"}},\"id\":\"1342\",\"type\":\"GlyphRenderer\"},{\"attributes\":{},\"id\":\"1318\",\"type\":\"UnionRenderers\"},{\"attributes\":{\"callback\":null,\"data\":{\"x\":[0,1,2,3,4,5,6,7,8,9,10,11,12,13,14,15,16,17,18,19,20,21,22,23,24,25,26,27,28,29,30,31,32,33,34,35,36,37,38,39,40,41,42,43,44,45,46,47,48,49,50,51,52,53,54,55,56,57,58,59,60,61,62,63,64,65,66,67,68,69,70,71,72,73,74,75,76,77,78,79,80,81,82,83,84,85,86,87,88,89,90,91,92,93,94,95,96,97,98,99],\"y\":{\"__ndarray__\":\"ZAbaL2fgBD6/ZVC5yOwSPq0J5f8r/CA+FlJh20QvLj4Cbhf23I06PpEHhPq8IEc+GvZwNHrxUz4JZgNPqwZhPmovnZ8myGw+FgaKfM8VeD6ayqBQVPSDPl7PqEcaXpA+ysLBw3WVmj56RsZeo1+lPlFa5Xl2A7E+o9+U6/bQuj5JEUbcWuzEPi9TI2yvKdA+TsWZtfa42D4iSPDfMrjiPiIhAZ70EOw+zPUlAZ7U9D5jo1z/45z+PstVYOVNRQY/FzHjgmcKED/mhDl0eeAWP2asvTSkJiA/4Yagc/uTJj9ysdQrrD8vPxAu0BnQaDU/dYolZmgLPT+qSoOaWIFDPzuuukj270k/U9IEW9sSUT+U1E03HEFWP1gdMu/mt1w/Wta4MHlYYj8FfTdCnDRnP5UpkLOPD20/owITqgMEcj+ryLn4XB12P4A0sR1R4Ho/bkVVFkMrgD9a/j1Z4UKDPwUl6j1yt4Y/ov0cvnOGij94JZMGCKqOP8vdXCdTjJE/nmUyjnjikz8mcUk23U6WP5MSXAsex5g/cFiB4kM/mz/a5AMaF6qdP/I3vqyM+Z8/Yh1UOqQPoT8k0uY0lwaiP5c9vYn92qI/zS/mJu2Goz+6kmSMeQWkP35B5bnvUqQ/2pF2KQRtpD9+QeW571KkP7qSZIx5BaQ/zS/mJu2Goz+XPb2J/dqiPyTS5jSXBqI/Yh1UOqQPoT/yN76sjPmfP9rkAxoXqp0/cFiB4kM/mz+TElwLHseYPyZxSTbdTpY/nmUyjnjikz/L3VwnU4yRP3glkwYIqo4/ov0cvnOGij8FJeo9creGP1r+PVnhQoM/bkVVFkMrgD+ANLEdUeB6P6vIufhcHXY/owITqgMEcj+VKZCzjw9tPwV9N0KcNGc/Wta4MHlYYj9YHTLv5rdcP5TUTTccQVY/U9IEW9sSUT87rrpI9u9JP6pKg5pYgUM/dYolZmgLPT8QLtAZ0Gg1P3Kx1CusPy8/4Yagc/uTJj9mrL00pCYgP+aEOXR54BY/FzHjgmcKED/LVWDlTUUGP2OjXP/jnP4+zPUlAZ7U9D4=\",\"dtype\":\"float64\",\"shape\":[100]}},\"selected\":{\"id\":\"1357\",\"type\":\"Selection\"},\"selection_policy\":{\"id\":\"1358\",\"type\":\"UnionRenderers\"}},\"id\":\"1320\",\"type\":\"ColumnDataSource\"},{\"attributes\":{},\"id\":\"1358\",\"type\":\"UnionRenderers\"},{\"attributes\":{},\"id\":\"1246\",\"type\":\"LinearScale\"},{\"attributes\":{\"dimension\":1,\"ticker\":{\"id\":\"1256\",\"type\":\"BasicTicker\"}},\"id\":\"1259\",\"type\":\"Grid\"},{\"attributes\":{\"label\":{\"value\":\"mu=70, sigma=5\"},\"renderers\":[{\"id\":\"1342\",\"type\":\"GlyphRenderer\"}]},\"id\":\"1359\",\"type\":\"LegendItem\"},{\"attributes\":{\"source\":{\"id\":\"1288\",\"type\":\"ColumnDataSource\"}},\"id\":\"1292\",\"type\":\"CDSView\"},{\"attributes\":{},\"id\":\"1283\",\"type\":\"BasicTickFormatter\"},{\"attributes\":{\"label\":{\"value\":\"mu=50, sigma=30\"},\"renderers\":[{\"id\":\"1306\",\"type\":\"GlyphRenderer\"}]},\"id\":\"1319\",\"type\":\"LegendItem\"},{\"attributes\":{\"text\":\"Click on legend entries to hide the corresponding lines\"},\"id\":\"1273\",\"type\":\"Title\"},{\"attributes\":{},\"id\":\"1281\",\"type\":\"BasicTickFormatter\"},{\"attributes\":{\"source\":{\"id\":\"1320\",\"type\":\"ColumnDataSource\"}},\"id\":\"1324\",\"type\":\"CDSView\"},{\"attributes\":{\"label\":{\"value\":\"mu=25, sigma=5\"},\"renderers\":[{\"id\":\"1277\",\"type\":\"GlyphRenderer\"}]},\"id\":\"1287\",\"type\":\"LegendItem\"},{\"attributes\":{},\"id\":\"1300\",\"type\":\"Selection\"},{\"attributes\":{},\"id\":\"1392\",\"type\":\"Selection\"},{\"attributes\":{\"line_alpha\":0.1,\"line_color\":\"#1f77b4\",\"line_width\":2,\"x\":{\"field\":\"x\"},\"y\":{\"field\":\"y\"}},\"id\":\"1322\",\"type\":\"Line\"},{\"attributes\":{},\"id\":\"1261\",\"type\":\"WheelZoomTool\"},{\"attributes\":{\"line_alpha\":0.8,\"line_color\":\"#6b6ecf\",\"line_width\":2,\"x\":{\"field\":\"x\"},\"y\":{\"field\":\"y\"}},\"id\":\"1304\",\"type\":\"Line\"},{\"attributes\":{},\"id\":\"1248\",\"type\":\"LinearScale\"},{\"attributes\":{\"data_source\":{\"id\":\"1288\",\"type\":\"ColumnDataSource\"},\"glyph\":{\"id\":\"1289\",\"type\":\"Line\"},\"hover_glyph\":null,\"muted_glyph\":null,\"nonselection_glyph\":{\"id\":\"1290\",\"type\":\"Line\"},\"selection_glyph\":null,\"view\":{\"id\":\"1292\",\"type\":\"CDSView\"}},\"id\":\"1291\",\"type\":\"GlyphRenderer\"},{\"attributes\":{\"line_alpha\":0.1,\"line_color\":\"#1f77b4\",\"line_width\":2,\"x\":{\"field\":\"x\"},\"y\":{\"field\":\"y\"}},\"id\":\"1290\",\"type\":\"Line\"},{\"attributes\":{},\"id\":\"1265\",\"type\":\"HelpTool\"},{\"attributes\":{},\"id\":\"1337\",\"type\":\"UnionRenderers\"},{\"attributes\":{\"line_alpha\":0.1,\"line_color\":\"#1f77b4\",\"line_width\":2,\"x\":{\"field\":\"x\"},\"y\":{\"field\":\"y\"}},\"id\":\"1305\",\"type\":\"Line\"},{\"attributes\":{\"source\":{\"id\":\"1274\",\"type\":\"ColumnDataSource\"}},\"id\":\"1278\",\"type\":\"CDSView\"},{\"attributes\":{\"label\":{\"value\":\"mu=60, sigma=10\"},\"renderers\":[{\"id\":\"1323\",\"type\":\"GlyphRenderer\"}]},\"id\":\"1338\",\"type\":\"LegendItem\"},{\"attributes\":{\"callback\":null,\"data\":{\"x\":[0,1,2,3,4,5,6,7,8,9,10,11,12,13,14,15,16,17,18,19,20,21,22,23,24,25,26,27,28,29,30,31,32,33,34,35,36,37,38,39,40,41,42,43,44,45,46,47,48,49,50,51,52,53,54,55,56,57,58,59,60,61,62,63,64,65,66,67,68,69,70,71,72,73,74,75,76,77,78,79,80,81,82,83,84,85,86,87,88,89,90,91,92,93,94,95,96,97,98,99],\"y\":{\"__ndarray__\":\"dYolZmgLPT+qSoOaWIFDPzuuukj270k/U9IEW9sSUT+U1E03HEFWP1gdMu/mt1w/Wta4MHlYYj8FfTdCnDRnP5UpkLOPD20/owITqgMEcj+ryLn4XB12P4A0sR1R4Ho/bkVVFkMrgD9a/j1Z4UKDPwUl6j1yt4Y/ov0cvnOGij94JZMGCKqOP8vdXCdTjJE/nmUyjnjikz8mcUk23U6WP5MSXAsex5g/cFiB4kM/mz/a5AMaF6qdP/I3vqyM+Z8/Yh1UOqQPoT8k0uY0lwaiP5c9vYn92qI/zS/mJu2Goz+6kmSMeQWkP35B5bnvUqQ/2pF2KQRtpD9+QeW571KkP7qSZIx5BaQ/zS/mJu2Goz+XPb2J/dqiPyTS5jSXBqI/Yh1UOqQPoT/yN76sjPmfP9rkAxoXqp0/cFiB4kM/mz+TElwLHseYPyZxSTbdTpY/nmUyjnjikz/L3VwnU4yRP3glkwYIqo4/ov0cvnOGij8FJeo9creGP1r+PVnhQoM/bkVVFkMrgD+ANLEdUeB6P6vIufhcHXY/owITqgMEcj+VKZCzjw9tPwV9N0KcNGc/Wta4MHlYYj9YHTLv5rdcP5TUTTccQVY/U9IEW9sSUT87rrpI9u9JP6pKg5pYgUM/dYolZmgLPT8QLtAZ0Gg1P3Kx1CusPy8/4Yagc/uTJj9mrL00pCYgP+aEOXR54BY/FzHjgmcKED/LVWDlTUUGP2OjXP/jnP4+zPUlAZ7U9D4iIQGe9BDsPiJI8N8yuOI+TsWZtfa42D4vUyNsrynQPkkRRtxa7MQ+o9+U6/bQuj5RWuV5dgOxPnpGxl6jX6U+ysLBw3WVmj5ez6hHGl6QPprKoFBU9IM+FgaKfM8VeD5qL52fJshsPglmA0+rBmE+GvZwNHrxUz6RB4T6vCBHPgJuF/bcjTo+FlJh20QvLj6tCeX/K/wgPr9lULnI7BI+ZAbaL2fgBD6PDms54sz2PZcBbOhQp+g9O6xOeGhk2j2y5e676/jLPVvKoEQiWr09Tj5Ke1B+rj1AazxjKV2fPYs2hcwy8I894zTRr4oZgD0=\",\"dtype\":\"float64\",\"shape\":[100]}},\"selected\":{\"id\":\"1317\",\"type\":\"Selection\"},\"selection_policy\":{\"id\":\"1318\",\"type\":\"UnionRenderers\"}},\"id\":\"1288\",\"type\":\"ColumnDataSource\"},{\"attributes\":{\"click_policy\":\"hide\",\"items\":[{\"id\":\"1287\",\"type\":\"LegendItem\"},{\"id\":\"1302\",\"type\":\"LegendItem\"},{\"id\":\"1319\",\"type\":\"LegendItem\"},{\"id\":\"1338\",\"type\":\"LegendItem\"},{\"id\":\"1359\",\"type\":\"LegendItem\"}]},\"id\":\"1286\",\"type\":\"Legend\"},{\"attributes\":{\"line_alpha\":0.8,\"line_color\":\"#393b79\",\"line_width\":2,\"x\":{\"field\":\"x\"},\"y\":{\"field\":\"y\"}},\"id\":\"1275\",\"type\":\"Line\"},{\"attributes\":{\"active_drag\":\"auto\",\"active_inspect\":\"auto\",\"active_multi\":null,\"active_scroll\":\"auto\",\"active_tap\":\"auto\",\"tools\":[{\"id\":\"1260\",\"type\":\"PanTool\"},{\"id\":\"1261\",\"type\":\"WheelZoomTool\"},{\"id\":\"1262\",\"type\":\"BoxZoomTool\"},{\"id\":\"1263\",\"type\":\"SaveTool\"},{\"id\":\"1264\",\"type\":\"ResetTool\"},{\"id\":\"1265\",\"type\":\"HelpTool\"}]},\"id\":\"1266\",\"type\":\"Toolbar\"},{\"attributes\":{\"line_alpha\":0.1,\"line_color\":\"#1f77b4\",\"line_width\":2,\"x\":{\"field\":\"x\"},\"y\":{\"field\":\"y\"}},\"id\":\"1276\",\"type\":\"Line\"},{\"attributes\":{\"label\":{\"value\":\"mu=30, sigma=10\"},\"renderers\":[{\"id\":\"1291\",\"type\":\"GlyphRenderer\"}]},\"id\":\"1302\",\"type\":\"LegendItem\"},{\"attributes\":{\"callback\":null,\"data\":{\"x\":[0,1,2,3,4,5,6,7,8,9,10,11,12,13,14,15,16,17,18,19,20,21,22,23,24,25,26,27,28,29,30,31,32,33,34,35,36,37,38,39,40,41,42,43,44,45,46,47,48,49,50,51,52,53,54,55,56,57,58,59,60,61,62,63,64,65,66,67,68,69,70,71,72,73,74,75,76,77,78,79,80,81,82,83,84,85,86,87,88,89,90,91,92,93,94,95,96,97,98,99],\"y\":{\"__ndarray__\":\"EjervfQpaz+Np0IQI7NsPwbc4qftSW4/d3wqvSfubz+E5Rcoy89wP8FTE9T3rnE/7WzPcG2Ucj/e0nPG939zP6XDDK9acXQ/k1ob+FFodT++SV9OkWR2P2TSezTEZXc//2ILBY5reD9c3aQAinV5PycyQ2hLg3o//NBrpF2Uez/ehlp5RKh8PzPsYUh8vn0/SaaWXnrWfj9SrsFQre9/P7dhPbK+hIA/RzAYg6YRgT/RIuOlPJ6BP0uQq0EtKoI/vbfEZiK1gj/wzWVhxD6DP+btVxG6xoM/rfFCRqlMhD+GlxsgN9CEP6F6KXMIUYU/kHIQL8LOhT8ZBD/ICUmGP9fRGqOFv4Y/rYg8gN0xhz/+tgbpup+HP4Vt3pvJCIg/uohJ97dsiD8DIzVjN8uIP8r8prf8I4k/XaceoMB2iT+n9O76P8OJPxGV3TM8CYo/zN5dmXtIij97asSryYCKP01u22X3sYo/gnVLftvbij+CI1mhUv6KP/4Bh6I/GYs/P8W5pYssiz/s1I0/JjiLP84XnowFPIs/7NSNPyY4iz8/xbmliyyLP/4Bh6I/GYs/giNZoVL+ij+CdUt+29uKP01u22X3sYo/e2rEq8mAij/M3l2Ze0iKPxGV3TM8CYo/p/Tu+j/DiT9dpx6gwHaJP8r8prf8I4k/AyM1YzfLiD+6iEn3t2yIP4Vt3pvJCIg//rYG6bqfhz+tiDyA3TGHP9fRGqOFv4Y/GQQ/yAlJhj+QchAvws6FP6F6KXMIUYU/hpcbIDfQhD+t8UJGqUyEP+btVxG6xoM/8M1lYcQ+gz+9t8RmIrWCP0uQq0EtKoI/0SLjpTyegT9HMBiDphGBP7dhPbK+hIA/Uq7BUK3vfz9JppZeetZ+PzPsYUh8vn0/3oZaeUSofD/80GukXZR7PycyQ2hLg3o/XN2kAIp1eT//YgsFjmt4P2TSezTEZXc/vklfTpFkdj+TWhv4UWh1P6XDDK9acXQ/3tJzxvd/cz/tbM9wbZRyP8FTE9T3rnE/hOUXKMvPcD93fCq9J+5vPwbc4qftSW4/jadCECOzbD8=\",\"dtype\":\"float64\",\"shape\":[100]}},\"selected\":{\"id\":\"1336\",\"type\":\"Selection\"},\"selection_policy\":{\"id\":\"1337\",\"type\":\"UnionRenderers\"}},\"id\":\"1303\",\"type\":\"ColumnDataSource\"},{\"attributes\":{\"data_source\":{\"id\":\"1303\",\"type\":\"ColumnDataSource\"},\"glyph\":{\"id\":\"1304\",\"type\":\"Line\"},\"hover_glyph\":null,\"muted_glyph\":null,\"nonselection_glyph\":{\"id\":\"1305\",\"type\":\"Line\"},\"selection_glyph\":null,\"view\":{\"id\":\"1307\",\"type\":\"CDSView\"}},\"id\":\"1306\",\"type\":\"GlyphRenderer\"},{\"attributes\":{\"callback\":null,\"data\":{\"x\":[0,1,2,3,4,5,6,7,8,9,10,11,12,13,14,15,16,17,18,19,20,21,22,23,24,25,26,27,28,29,30,31,32,33,34,35,36,37,38,39,40,41,42,43,44,45,46,47,48,49,50,51,52,53,54,55,56,57,58,59,60,61,62,63,64,65,66,67,68,69,70,71,72,73,74,75,76,77,78,79,80,81,82,83,84,85,86,87,88,89,90,91,92,93,94,95,96,97,98,99],\"y\":{\"__ndarray__\":\"msqgUFT0kz7KwsHDdZWqPlFa5Xl2A8E+SRFG3Frs1D5OxZm19rjoPiIhAZ70EPw+Y6Nc/+OcDj8XMeOCZwogP2asvTSkJjA/crHUK6w/Pz91iiVmaAtNPzuuukj271k/lNRNNxxBZj9a1rgweVhyP5UpkLOPD30/q8i5+Fwdhj9uRVUWQyuQPwUl6j1yt5Y/eCWTBgiqnj+eZTKOeOKjP5MSXAsex6g/2uQDGheqrT9iHVQ6pA+xP5c9vYn92rI/upJkjHkFtD/akXYpBG20P7qSZIx5BbQ/lz29if3asj9iHVQ6pA+xP9rkAxoXqq0/kxJcCx7HqD+eZTKOeOKjP3glkwYIqp4/BSXqPXK3lj9uRVUWQyuQP6vIufhcHYY/lSmQs48PfT9a1rgweVhyP5TUTTccQWY/O666SPbvWT91iiVmaAtNP3Kx1CusPz8/Zqy9NKQmMD8XMeOCZwogP2OjXP/jnA4/IiEBnvQQ/D5OxZm19rjoPkkRRtxa7NQ+UVrleXYDwT7KwsHDdZWqPprKoFBU9JM+ai+dnybIfD4a9nA0evFjPgJuF/bcjUo+rQnl/yv8MD5kBtovZ+AUPpcBbOhQp/g9suXuu+v42z1OPkp7UH6+PYs2hcwy8J89PfRKj+kRgD1yUtJJHxNfPRDtIi7f3Tw9bqzU9JzDGT0nA9Uy5hf2PPdsB8jlM9I8DgzvWIDRrDxb5gSZAOuFPPFYlpUmBGA86FLr4Ed9NjwqXfdjLVcOPMYsR1LuqeM7miLVgyl9uDvimc0DXE2NO8p39GDm12A7rkQq0rmaMjvaRdK0ab4DO186nNKjIdQ6Sk8vTcW4ozreBPc9GZByOpAu+tp5yUA6cxRGresrDTr6OkHEP1rYObP9LRBPiKM5kPTx4q8abjmelWYTEUo2OaWMWGtItv844g4oSa6sxTgQ//xQaneMOETWDZDb9VE4JL+8jl7GFTh7vbDgR13ZNz2PAlgYY5w3w0y3vDiGXjfAZ/pvEokfN6XU+x52Td82kpBRFGbanTZynLsxu1pbNmcg8VABFRg2mb9wCa5e1DU=\",\"dtype\":\"float64\",\"shape\":[100]}},\"selected\":{\"id\":\"1300\",\"type\":\"Selection\"},\"selection_policy\":{\"id\":\"1301\",\"type\":\"UnionRenderers\"}},\"id\":\"1274\",\"type\":\"ColumnDataSource\"},{\"attributes\":{},\"id\":\"1393\",\"type\":\"UnionRenderers\"},{\"attributes\":{},\"id\":\"1336\",\"type\":\"Selection\"},{\"attributes\":{},\"id\":\"1251\",\"type\":\"BasicTicker\"},{\"attributes\":{\"data_source\":{\"id\":\"1320\",\"type\":\"ColumnDataSource\"},\"glyph\":{\"id\":\"1321\",\"type\":\"Line\"},\"hover_glyph\":null,\"muted_glyph\":null,\"nonselection_glyph\":{\"id\":\"1322\",\"type\":\"Line\"},\"selection_glyph\":null,\"view\":{\"id\":\"1324\",\"type\":\"CDSView\"}},\"id\":\"1323\",\"type\":\"GlyphRenderer\"},{\"attributes\":{},\"id\":\"1256\",\"type\":\"BasicTicker\"},{\"attributes\":{\"line_alpha\":0.8,\"line_color\":\"#5254a3\",\"line_width\":2,\"x\":{\"field\":\"x\"},\"y\":{\"field\":\"y\"}},\"id\":\"1289\",\"type\":\"Line\"},{\"attributes\":{\"line_alpha\":0.1,\"line_color\":\"#1f77b4\",\"line_width\":2,\"x\":{\"field\":\"x\"},\"y\":{\"field\":\"y\"}},\"id\":\"1341\",\"type\":\"Line\"},{\"attributes\":{\"formatter\":{\"id\":\"1283\",\"type\":\"BasicTickFormatter\"},\"ticker\":{\"id\":\"1256\",\"type\":\"BasicTicker\"}},\"id\":\"1255\",\"type\":\"LinearAxis\"},{\"attributes\":{\"line_alpha\":0.8,\"line_color\":\"#9c9ede\",\"line_width\":2,\"x\":{\"field\":\"x\"},\"y\":{\"field\":\"y\"}},\"id\":\"1321\",\"type\":\"Line\"},{\"attributes\":{\"ticker\":{\"id\":\"1251\",\"type\":\"BasicTicker\"}},\"id\":\"1254\",\"type\":\"Grid\"},{\"attributes\":{\"line_alpha\":0.8,\"line_color\":\"#637939\",\"line_width\":2,\"x\":{\"field\":\"x\"},\"y\":{\"field\":\"y\"}},\"id\":\"1340\",\"type\":\"Line\"},{\"attributes\":{\"source\":{\"id\":\"1303\",\"type\":\"ColumnDataSource\"}},\"id\":\"1307\",\"type\":\"CDSView\"},{\"attributes\":{\"overlay\":{\"id\":\"1285\",\"type\":\"BoxAnnotation\"}},\"id\":\"1262\",\"type\":\"BoxZoomTool\"},{\"attributes\":{},\"id\":\"1317\",\"type\":\"Selection\"},{\"attributes\":{},\"id\":\"1264\",\"type\":\"ResetTool\"},{\"attributes\":{\"formatter\":{\"id\":\"1281\",\"type\":\"BasicTickFormatter\"},\"ticker\":{\"id\":\"1251\",\"type\":\"BasicTicker\"}},\"id\":\"1250\",\"type\":\"LinearAxis\"},{\"attributes\":{},\"id\":\"1301\",\"type\":\"UnionRenderers\"}],\"root_ids\":[\"1241\"]},\"title\":\"Bokeh Application\",\"version\":\"1.3.4\"}};\n",
       "  var render_items = [{\"docid\":\"dc7882cd-fbec-4b20-b653-a57d32631459\",\"roots\":{\"1241\":\"4e0a464a-58d9-4524-b433-b7cb25dd0778\"}}];\n",
       "  root.Bokeh.embed.embed_items_notebook(docs_json, render_items);\n",
       "\n",
       "  }\n",
       "  if (root.Bokeh !== undefined) {\n",
       "    embed_document(root);\n",
       "  } else {\n",
       "    var attempts = 0;\n",
       "    var timer = setInterval(function(root) {\n",
       "      if (root.Bokeh !== undefined) {\n",
       "        embed_document(root);\n",
       "        clearInterval(timer);\n",
       "      }\n",
       "      attempts++;\n",
       "      if (attempts > 100) {\n",
       "        console.log(\"Bokeh: ERROR: Unable to run BokehJS code because BokehJS library is missing\");\n",
       "        clearInterval(timer);\n",
       "      }\n",
       "    }, 10, root)\n",
       "  }\n",
       "})(window);"
      ],
      "application/vnd.bokehjs_exec.v0+json": ""
     },
     "metadata": {
      "application/vnd.bokehjs_exec.v0+json": {
       "id": "1241"
      }
     },
     "output_type": "display_data"
    },
    {
     "data": {
      "text/plain": [
       "<Figure size 432x288 with 0 Axes>"
      ]
     },
     "metadata": {},
     "output_type": "display_data"
    }
   ],
   "source": [
    "from bokeh.palettes import Category20b\n",
    "from bokeh.plotting import figure, output_file, show\n",
    "from bokeh.io import output_notebook\n",
    "output_notebook()\n",
    "\n",
    "p = figure(plot_width=800, plot_height=500)\n",
    "p.title.text = 'Click on legend entries to hide the corresponding lines'\n",
    "\n",
    "for mu, sigma, color in zip(mu_values, sigma_values, Category20b[5]):\n",
    "    norm_data = stats.norm.pdf(x_axis, loc = mu, scale = sigma)\n",
    "    print(color)\n",
    "    p.line(x_axis, norm_data, line_width=2, color= color, alpha=0.8, legend = f'mu={mu}, sigma={sigma}')\n",
    "\n",
    "p.legend.location = \"top_right\"\n",
    "p.legend.click_policy=\"hide\"\n",
    "\n",
    "#output_file(\"interactive_legend.html\", title=\"interactive_legend.py example\")\n",
    "\n",
    "show(p)\n",
    "plt.savefig('normal.pdf')"
   ]
  },
  {
   "cell_type": "code",
   "execution_count": null,
   "metadata": {},
   "outputs": [],
   "source": []
  },
  {
   "cell_type": "code",
   "execution_count": 30,
   "metadata": {},
   "outputs": [
    {
     "data": {
      "text/html": [
       "<div>\n",
       "<style scoped>\n",
       "    .dataframe tbody tr th:only-of-type {\n",
       "        vertical-align: middle;\n",
       "    }\n",
       "\n",
       "    .dataframe tbody tr th {\n",
       "        vertical-align: top;\n",
       "    }\n",
       "\n",
       "    .dataframe thead th {\n",
       "        text-align: right;\n",
       "    }\n",
       "</style>\n",
       "<table border=\"1\" class=\"dataframe\">\n",
       "  <thead>\n",
       "    <tr style=\"text-align: right;\">\n",
       "      <th></th>\n",
       "      <th>Country</th>\n",
       "      <th>ISO</th>\n",
       "      <th>Sex</th>\n",
       "      <th>Year of birth</th>\n",
       "      <th>Mean height (cm)</th>\n",
       "      <th>Mean height lower 95% uncertainty interval (cm)</th>\n",
       "      <th>Mean height upper 95% uncertainty interval (cm)</th>\n",
       "    </tr>\n",
       "  </thead>\n",
       "  <tbody>\n",
       "    <tr>\n",
       "      <th>0</th>\n",
       "      <td>Afghanistan</td>\n",
       "      <td>AFG</td>\n",
       "      <td>Men</td>\n",
       "      <td>1896</td>\n",
       "      <td>161.164095</td>\n",
       "      <td>154.484285</td>\n",
       "      <td>167.754033</td>\n",
       "    </tr>\n",
       "    <tr>\n",
       "      <th>1</th>\n",
       "      <td>Afghanistan</td>\n",
       "      <td>AFG</td>\n",
       "      <td>Men</td>\n",
       "      <td>1897</td>\n",
       "      <td>161.196286</td>\n",
       "      <td>154.571603</td>\n",
       "      <td>167.659618</td>\n",
       "    </tr>\n",
       "    <tr>\n",
       "      <th>2</th>\n",
       "      <td>Afghanistan</td>\n",
       "      <td>AFG</td>\n",
       "      <td>Men</td>\n",
       "      <td>1898</td>\n",
       "      <td>161.228297</td>\n",
       "      <td>154.707340</td>\n",
       "      <td>167.602576</td>\n",
       "    </tr>\n",
       "    <tr>\n",
       "      <th>3</th>\n",
       "      <td>Afghanistan</td>\n",
       "      <td>AFG</td>\n",
       "      <td>Men</td>\n",
       "      <td>1899</td>\n",
       "      <td>161.260727</td>\n",
       "      <td>154.835644</td>\n",
       "      <td>167.528113</td>\n",
       "    </tr>\n",
       "    <tr>\n",
       "      <th>4</th>\n",
       "      <td>Afghanistan</td>\n",
       "      <td>AFG</td>\n",
       "      <td>Men</td>\n",
       "      <td>1900</td>\n",
       "      <td>161.293068</td>\n",
       "      <td>154.959540</td>\n",
       "      <td>167.508077</td>\n",
       "    </tr>\n",
       "  </tbody>\n",
       "</table>\n",
       "</div>"
      ],
      "text/plain": [
       "       Country  ISO  Sex  Year of birth  Mean height (cm)  \\\n",
       "0  Afghanistan  AFG  Men           1896        161.164095   \n",
       "1  Afghanistan  AFG  Men           1897        161.196286   \n",
       "2  Afghanistan  AFG  Men           1898        161.228297   \n",
       "3  Afghanistan  AFG  Men           1899        161.260727   \n",
       "4  Afghanistan  AFG  Men           1900        161.293068   \n",
       "\n",
       "   Mean height lower 95% uncertainty interval (cm)  \\\n",
       "0                                       154.484285   \n",
       "1                                       154.571603   \n",
       "2                                       154.707340   \n",
       "3                                       154.835644   \n",
       "4                                       154.959540   \n",
       "\n",
       "   Mean height upper 95% uncertainty interval (cm)  \n",
       "0                                       167.754033  \n",
       "1                                       167.659618  \n",
       "2                                       167.602576  \n",
       "3                                       167.528113  \n",
       "4                                       167.508077  "
      ]
     },
     "execution_count": 30,
     "metadata": {},
     "output_type": "execute_result"
    }
   ],
   "source": [
    "# load in sunniness data\n",
    "height_world_data = pd.read_csv('data/NCD_RisC_eLife_2016_height_age18_countries.txt', sep = \",\")\n",
    "height_world_data.head()"
   ]
  },
  {
   "cell_type": "code",
   "execution_count": 99,
   "metadata": {},
   "outputs": [
    {
     "data": {
      "text/plain": [
       "<matplotlib.axes._subplots.AxesSubplot at 0x7fdb5f3596a0>"
      ]
     },
     "execution_count": 99,
     "metadata": {},
     "output_type": "execute_result"
    },
    {
     "data": {
      "image/png": "[encoded data removed]",
      "text/plain": [
       "<Figure size 432x288 with 1 Axes>"
      ]
     },
     "metadata": {
      "needs_background": "light"
     },
     "output_type": "display_data"
    }
   ],
   "source": [
    "#height_world_data['Mean height (cm)'].hist(bins = 70)\n",
    "height_world_data_1900 = height_world_data[height_world_data['Year of birth'] == 1939]\n",
    "\n",
    "height_world_data_women = height_world_data_1900[height_world_data_1900['Sex'] == 'Women']\n",
    "height_world_data_men = height_world_data_1900[height_world_data_1900['Sex'] == 'Men']\n",
    "#height_world_data_women['Mean height (cm)'].hist()\n",
    "\n",
    "sns.distplot(height_world_data_women['Mean height (cm)'])\n",
    "sns.distplot(height_world_data_men['Mean height (cm)'])"
   ]
  },
  {
   "cell_type": "code",
   "execution_count": 48,
   "metadata": {},
   "outputs": [],
   "source": [
    "height_usa = height_world_data[height_world_data['Country'] == 'Zimbabwe']\n",
    "height_usa_men = height_usa[height_usa['Sex'] == 'Women']"
   ]
  },
  {
   "cell_type": "code",
   "execution_count": 49,
   "metadata": {},
   "outputs": [
    {
     "data": {
      "text/plain": [
       "<bound method IndexOpsMixin.value_counts of 0        Afghanistan\n",
       "1        Afghanistan\n",
       "2        Afghanistan\n",
       "3        Afghanistan\n",
       "4        Afghanistan\n",
       "            ...     \n",
       "40395       Zimbabwe\n",
       "40396       Zimbabwe\n",
       "40397       Zimbabwe\n",
       "40398       Zimbabwe\n",
       "40399       Zimbabwe\n",
       "Name: Country, Length: 40400, dtype: object>"
      ]
     },
     "execution_count": 49,
     "metadata": {},
     "output_type": "execute_result"
    }
   ],
   "source": [
    "height_world_data['Country'].value_counts"
   ]
  },
  {
   "cell_type": "code",
   "execution_count": 50,
   "metadata": {},
   "outputs": [
    {
     "data": {
      "text/plain": [
       "<matplotlib.axes._subplots.AxesSubplot at 0x7fdb667571d0>"
      ]
     },
     "execution_count": 50,
     "metadata": {},
     "output_type": "execute_result"
    },
    {
     "data": {
      "image/png": "[encoded data removed]",
      "text/plain": [
       "<Figure size 432x288 with 1 Axes>"
      ]
     },
     "metadata": {
      "needs_background": "light"
     },
     "output_type": "display_data"
    }
   ],
   "source": [
    "height_usa_men['Mean height (cm)'].hist()"
   ]
  },
  {
   "cell_type": "code",
   "execution_count": 51,
   "metadata": {
    "scrolled": false
   },
   "outputs": [
    {
     "data": {
      "text/html": [
       "<div>\n",
       "<style scoped>\n",
       "    .dataframe tbody tr th:only-of-type {\n",
       "        vertical-align: middle;\n",
       "    }\n",
       "\n",
       "    .dataframe tbody tr th {\n",
       "        vertical-align: top;\n",
       "    }\n",
       "\n",
       "    .dataframe thead th {\n",
       "        text-align: right;\n",
       "    }\n",
       "</style>\n",
       "<table border=\"1\" class=\"dataframe\">\n",
       "  <thead>\n",
       "    <tr style=\"text-align: right;\">\n",
       "      <th></th>\n",
       "      <th>Country</th>\n",
       "      <th>ISO</th>\n",
       "      <th>Sex</th>\n",
       "      <th>Year of birth</th>\n",
       "      <th>Mean height (cm)</th>\n",
       "      <th>Mean height lower 95% uncertainty interval (cm)</th>\n",
       "      <th>Mean height upper 95% uncertainty interval (cm)</th>\n",
       "    </tr>\n",
       "  </thead>\n",
       "  <tbody>\n",
       "    <tr>\n",
       "      <th>40299</th>\n",
       "      <td>Zimbabwe</td>\n",
       "      <td>ZWE</td>\n",
       "      <td>Women</td>\n",
       "      <td>1896</td>\n",
       "      <td>155.301529</td>\n",
       "      <td>150.328372</td>\n",
       "      <td>160.348702</td>\n",
       "    </tr>\n",
       "    <tr>\n",
       "      <th>40300</th>\n",
       "      <td>Zimbabwe</td>\n",
       "      <td>ZWE</td>\n",
       "      <td>Women</td>\n",
       "      <td>1897</td>\n",
       "      <td>155.417132</td>\n",
       "      <td>150.565326</td>\n",
       "      <td>160.332171</td>\n",
       "    </tr>\n",
       "    <tr>\n",
       "      <th>40301</th>\n",
       "      <td>Zimbabwe</td>\n",
       "      <td>ZWE</td>\n",
       "      <td>Women</td>\n",
       "      <td>1898</td>\n",
       "      <td>155.533202</td>\n",
       "      <td>150.838396</td>\n",
       "      <td>160.284234</td>\n",
       "    </tr>\n",
       "    <tr>\n",
       "      <th>40302</th>\n",
       "      <td>Zimbabwe</td>\n",
       "      <td>ZWE</td>\n",
       "      <td>Women</td>\n",
       "      <td>1899</td>\n",
       "      <td>155.649413</td>\n",
       "      <td>151.111059</td>\n",
       "      <td>160.293737</td>\n",
       "    </tr>\n",
       "    <tr>\n",
       "      <th>40303</th>\n",
       "      <td>Zimbabwe</td>\n",
       "      <td>ZWE</td>\n",
       "      <td>Women</td>\n",
       "      <td>1900</td>\n",
       "      <td>155.765198</td>\n",
       "      <td>151.367476</td>\n",
       "      <td>160.255881</td>\n",
       "    </tr>\n",
       "    <tr>\n",
       "      <th>...</th>\n",
       "      <td>...</td>\n",
       "      <td>...</td>\n",
       "      <td>...</td>\n",
       "      <td>...</td>\n",
       "      <td>...</td>\n",
       "      <td>...</td>\n",
       "      <td>...</td>\n",
       "    </tr>\n",
       "    <tr>\n",
       "      <th>40395</th>\n",
       "      <td>Zimbabwe</td>\n",
       "      <td>ZWE</td>\n",
       "      <td>Women</td>\n",
       "      <td>1992</td>\n",
       "      <td>158.583941</td>\n",
       "      <td>157.616103</td>\n",
       "      <td>159.567100</td>\n",
       "    </tr>\n",
       "    <tr>\n",
       "      <th>40396</th>\n",
       "      <td>Zimbabwe</td>\n",
       "      <td>ZWE</td>\n",
       "      <td>Women</td>\n",
       "      <td>1993</td>\n",
       "      <td>158.492266</td>\n",
       "      <td>157.484493</td>\n",
       "      <td>159.514718</td>\n",
       "    </tr>\n",
       "    <tr>\n",
       "      <th>40397</th>\n",
       "      <td>Zimbabwe</td>\n",
       "      <td>ZWE</td>\n",
       "      <td>Women</td>\n",
       "      <td>1994</td>\n",
       "      <td>158.400025</td>\n",
       "      <td>157.344074</td>\n",
       "      <td>159.477240</td>\n",
       "    </tr>\n",
       "    <tr>\n",
       "      <th>40398</th>\n",
       "      <td>Zimbabwe</td>\n",
       "      <td>ZWE</td>\n",
       "      <td>Women</td>\n",
       "      <td>1995</td>\n",
       "      <td>158.307779</td>\n",
       "      <td>157.202394</td>\n",
       "      <td>159.446416</td>\n",
       "    </tr>\n",
       "    <tr>\n",
       "      <th>40399</th>\n",
       "      <td>Zimbabwe</td>\n",
       "      <td>ZWE</td>\n",
       "      <td>Women</td>\n",
       "      <td>1996</td>\n",
       "      <td>158.215186</td>\n",
       "      <td>157.061202</td>\n",
       "      <td>159.414703</td>\n",
       "    </tr>\n",
       "  </tbody>\n",
       "</table>\n",
       "<p>101 rows × 7 columns</p>\n",
       "</div>"
      ],
      "text/plain": [
       "        Country  ISO    Sex  Year of birth  Mean height (cm)  \\\n",
       "40299  Zimbabwe  ZWE  Women           1896        155.301529   \n",
       "40300  Zimbabwe  ZWE  Women           1897        155.417132   \n",
       "40301  Zimbabwe  ZWE  Women           1898        155.533202   \n",
       "40302  Zimbabwe  ZWE  Women           1899        155.649413   \n",
       "40303  Zimbabwe  ZWE  Women           1900        155.765198   \n",
       "...         ...  ...    ...            ...               ...   \n",
       "40395  Zimbabwe  ZWE  Women           1992        158.583941   \n",
       "40396  Zimbabwe  ZWE  Women           1993        158.492266   \n",
       "40397  Zimbabwe  ZWE  Women           1994        158.400025   \n",
       "40398  Zimbabwe  ZWE  Women           1995        158.307779   \n",
       "40399  Zimbabwe  ZWE  Women           1996        158.215186   \n",
       "\n",
       "       Mean height lower 95% uncertainty interval (cm)  \\\n",
       "40299                                       150.328372   \n",
       "40300                                       150.565326   \n",
       "40301                                       150.838396   \n",
       "40302                                       151.111059   \n",
       "40303                                       151.367476   \n",
       "...                                                ...   \n",
       "40395                                       157.616103   \n",
       "40396                                       157.484493   \n",
       "40397                                       157.344074   \n",
       "40398                                       157.202394   \n",
       "40399                                       157.061202   \n",
       "\n",
       "       Mean height upper 95% uncertainty interval (cm)  \n",
       "40299                                       160.348702  \n",
       "40300                                       160.332171  \n",
       "40301                                       160.284234  \n",
       "40302                                       160.293737  \n",
       "40303                                       160.255881  \n",
       "...                                                ...  \n",
       "40395                                       159.567100  \n",
       "40396                                       159.514718  \n",
       "40397                                       159.477240  \n",
       "40398                                       159.446416  \n",
       "40399                                       159.414703  \n",
       "\n",
       "[101 rows x 7 columns]"
      ]
     },
     "execution_count": 51,
     "metadata": {},
     "output_type": "execute_result"
    }
   ],
   "source": [
    "height_usa_men"
   ]
  },
  {
   "cell_type": "code",
   "execution_count": 64,
   "metadata": {},
   "outputs": [
    {
     "data": {
      "text/plain": [
       "<matplotlib.axes._subplots.AxesSubplot at 0x7fdb6a0ada20>"
      ]
     },
     "execution_count": 64,
     "metadata": {},
     "output_type": "execute_result"
    },
    {
     "data": {
      "image/png": "[encoded data removed]",
      "text/plain": [
       "<Figure size 432x288 with 1 Axes>"
      ]
     },
     "metadata": {
      "needs_background": "light"
     },
     "output_type": "display_data"
    }
   ],
   "source": [
    "a = height_world_data.groupby('Country').mean()\n",
    "a['Mean height (cm)'].hist(bins = 14)"
   ]
  },
  {
   "cell_type": "code",
   "execution_count": 66,
   "metadata": {},
   "outputs": [
    {
     "data": {
      "text/plain": [
       "A1BG (1)            0.104825\n",
       "A1CF (29974)        0.064463\n",
       "A2M (2)            -0.063120\n",
       "A2ML1 (144568)      0.176577\n",
       "A3GALT2 (127550)   -0.052651\n",
       "                      ...   \n",
       "ZYG11A (440590)     0.073279\n",
       "ZYG11B (79699)     -0.190963\n",
       "ZYX (7791)          0.129997\n",
       "ZZEF1 (23140)      -0.175642\n",
       "ZZZ3 (26009)       -0.382715\n",
       "Length: 18333, dtype: float64"
      ]
     },
     "execution_count": 66,
     "metadata": {},
     "output_type": "execute_result"
    }
   ],
   "source": [
    "achilles_crispr = pd.read_csv('data/Achilles_gene_effect.csv')\n",
    "achilles_crispr.mean()"
   ]
  },
  {
   "cell_type": "code",
   "execution_count": 109,
   "metadata": {},
   "outputs": [
    {
     "data": {
      "text/plain": [
       "<matplotlib.axes._subplots.AxesSubplot at 0x7fdb5ef45a90>"
      ]
     },
     "execution_count": 109,
     "metadata": {},
     "output_type": "execute_result"
    },
    {
     "data": {
      "image/png": "[encoded data removed]",
      "text/plain": [
       "<Figure size 432x288 with 1 Axes>"
      ]
     },
     "metadata": {
      "needs_background": "light"
     },
     "output_type": "display_data"
    }
   ],
   "source": [
    "sns.distplot(achilles_crispr.mean())"
   ]
  },
  {
   "cell_type": "code",
   "execution_count": 81,
   "metadata": {},
   "outputs": [
    {
     "data": {
      "text/plain": [
       "<matplotlib.axes._subplots.AxesSubplot at 0x7fdb62541b00>"
      ]
     },
     "execution_count": 81,
     "metadata": {},
     "output_type": "execute_result"
    },
    {
     "data": {
      "image/png": "[encoded data removed]",
      "text/plain": [
       "<Figure size 432x288 with 1 Axes>"
      ]
     },
     "metadata": {
      "needs_background": "light"
     },
     "output_type": "display_data"
    }
   ],
   "source": [
    "import matplotlib.pyplot as plt\n",
    "from networkx import nx\n",
    "\n",
    "n = 10000\n",
    "m = 120000\n",
    "\n",
    "\n",
    "G = nx.gnm_random_graph(n, m)\n",
    "deg_vec = [G.degree[i] for i in range(n)]\n",
    "\n",
    "sns.distplot(deg_vec)\n"
   ]
  },
  {
   "cell_type": "code",
   "execution_count": 73,
   "metadata": {},
   "outputs": [],
   "source": [
    "deg_vec = [G.degree[i] for i in range(n)]"
   ]
  },
  {
   "cell_type": "code",
   "execution_count": 74,
   "metadata": {},
   "outputs": [
    {
     "data": {
      "text/plain": [
       "[24,\n",
       " 24,\n",
       " 23,\n",
       " 18,\n",
       " 17,\n",
       " 21,\n",
       " 31,\n",
       " 17,\n",
       " 25,\n",
       " 18,\n",
       " 21,\n",
       " 20,\n",
       " 28,\n",
       " 21,\n",
       " 31,\n",
       " 25,\n",
       " 22,\n",
       " 23,\n",
       " 25,\n",
       " 25,\n",
       " 22,\n",
       " 17,\n",
       " 27,\n",
       " 21,\n",
       " 24,\n",
       " 20,\n",
       " 26,\n",
       " 26,\n",
       " 32,\n",
       " 19,\n",
       " 29,\n",
       " 24,\n",
       " 20,\n",
       " 24,\n",
       " 27,\n",
       " 31,\n",
       " 22,\n",
       " 22,\n",
       " 25,\n",
       " 28,\n",
       " 34,\n",
       " 25,\n",
       " 29,\n",
       " 24,\n",
       " 22,\n",
       " 27,\n",
       " 26,\n",
       " 25,\n",
       " 26,\n",
       " 32,\n",
       " 19,\n",
       " 13,\n",
       " 23,\n",
       " 21,\n",
       " 28,\n",
       " 24,\n",
       " 31,\n",
       " 24,\n",
       " 22,\n",
       " 25,\n",
       " 18,\n",
       " 24,\n",
       " 23,\n",
       " 31,\n",
       " 26,\n",
       " 39,\n",
       " 24,\n",
       " 21,\n",
       " 22,\n",
       " 21,\n",
       " 21,\n",
       " 16,\n",
       " 27,\n",
       " 34,\n",
       " 28,\n",
       " 25,\n",
       " 18,\n",
       " 19,\n",
       " 30,\n",
       " 23,\n",
       " 25,\n",
       " 20,\n",
       " 27,\n",
       " 23,\n",
       " 30,\n",
       " 21,\n",
       " 27,\n",
       " 20,\n",
       " 26,\n",
       " 25,\n",
       " 10,\n",
       " 21,\n",
       " 22,\n",
       " 25,\n",
       " 26,\n",
       " 26,\n",
       " 21,\n",
       " 25,\n",
       " 24,\n",
       " 21]"
      ]
     },
     "execution_count": 74,
     "metadata": {},
     "output_type": "execute_result"
    }
   ],
   "source": [
    "deg_vec"
   ]
  },
  {
   "cell_type": "code",
   "execution_count": 4,
   "metadata": {},
   "outputs": [
    {
     "data": {
      "text/plain": [
       "array([[0.78166295, 0.99290989, 0.01456345, 0.09316254, 0.58392369,\n",
       "        0.86294883, 0.12998716, 0.70074057, 0.23801117, 0.02487038,\n",
       "        0.59210619, 0.93560607, 0.92496935, 0.10973291, 0.54785982,\n",
       "        0.82787444, 0.72101888, 0.85254405, 0.8101658 , 0.56432565,\n",
       "        0.38933069, 0.40280729, 0.05259941, 0.43083518, 0.34891153,\n",
       "        0.63115472, 0.14179977, 0.04892124, 0.51860631, 0.26244487,\n",
       "        0.69804093, 0.76613145, 0.48881106, 0.50061439, 0.59815836,\n",
       "        0.48591475, 0.45310191, 0.69117336, 0.19520111, 0.17608022,\n",
       "        0.83467833, 0.95382677, 0.71759532, 0.88902154, 0.01524513,\n",
       "        0.60133056, 0.90373444, 0.67994685, 0.96403081, 0.93416437]])"
      ]
     },
     "execution_count": 4,
     "metadata": {},
     "output_type": "execute_result"
    }
   ],
   "source": [
    "## p-hacking\n",
    "# %Part 1\n",
    "# h = [];\n",
    "# p = [];\n",
    "# for n=1:10000\n",
    "#     x = randn(1,50)+30;\n",
    "#     y = randn(1,50)+30;\n",
    "#     [h(n),p(n)]=ttest2(x,y);\n",
    "# end\n",
    "# ['t-test: fraction of p-values < 0.05 = ' num2str(sum(p<0.05)/size(p,2))]\n",
    "# ['t-test: fraction of p-values < 0.001 = ' num2str(sum(p<0.001)/size(p,2))]\n",
    "\n",
    "# %Part 2\n",
    "\n",
    "# r = [];\n",
    "# p1 = [];\n",
    "# for n=1:10000\n",
    "#     x = rand(1,50); \n",
    "#     y = rand(1,50);\n",
    "#     [r(n),p1(n)]=corr(x',y');\n",
    "# end\n",
    "# ['Correlation: fraction of p-values < 0.05 = ' num2str(sum(p1<0.05)/size(p1,2))]\n",
    "# ['Correlation: fraction of p-values < 0.001 = ' num2str(sum(p1<0.001)/size(p1,2))]\n",
    "np.random.random((1,50))"
   ]
  },
  {
   "cell_type": "code",
   "execution_count": 18,
   "metadata": {},
   "outputs": [
    {
     "name": "stdout",
     "output_type": "stream",
     "text": [
      "Ttest_indResult(statistic=0.6114064872998188, pvalue=0.5423462020443732)\n",
      "Ttest_indResult(statistic=0.22127458529712965, pvalue=0.8253390341876564)\n",
      "Ttest_indResult(statistic=-1.5961705582765207, pvalue=0.11367054213885047)\n",
      "Ttest_indResult(statistic=-0.6502594250716036, pvalue=0.5170461747576099)\n",
      "Ttest_indResult(statistic=0.5654849342982282, pvalue=0.5730363798206817)\n",
      "Ttest_indResult(statistic=-0.47560130038991855, pvalue=0.6354168785115575)\n",
      "Ttest_indResult(statistic=0.9517824960148177, pvalue=0.34354885667577284)\n",
      "Ttest_indResult(statistic=1.3584827273781228, pvalue=0.1774294615298633)\n",
      "Ttest_indResult(statistic=-0.6041102732171512, pvalue=0.5471662936405345)\n",
      "Ttest_indResult(statistic=0.14947724253527844, pvalue=0.8814842533615195)\n"
     ]
    },
    {
     "data": {
      "text/plain": [
       "array([30.22997739, 30.00266299, 30.92487431, 30.62557139, 30.12210857,\n",
       "       30.33804076, 30.15485538, 30.96720582, 30.6097807 , 30.78592664,\n",
       "       30.42620971, 30.58414878, 30.56268682, 30.12246186, 30.5161942 ,\n",
       "       30.65999141, 30.4852633 , 30.44568096, 30.77091895, 30.16421324,\n",
       "       30.56236057, 30.06846994, 30.90141777, 30.80369371, 30.05675894,\n",
       "       30.84044247, 30.92057961, 30.43542606, 30.98671654, 30.79546842,\n",
       "       30.0201267 , 30.66141904, 30.85046069, 30.22471863, 30.66909012,\n",
       "       30.68960013, 30.69183006, 30.94535271, 30.79483618, 30.152289  ,\n",
       "       30.10290411, 30.58512279, 30.86692249, 30.24716772, 30.39454447,\n",
       "       30.68075928, 30.75630766, 30.69931157, 30.18802716, 30.82182418])"
      ]
     },
     "execution_count": 18,
     "metadata": {},
     "output_type": "execute_result"
    }
   ],
   "source": [
    "for n in np.arange(10):\n",
    "    x = np.random.random((50)) + 30\n",
    "    y = np.random.random((50)) + 30\n",
    "    print(stats.ttest_ind(x,y))\n",
    "\n",
    "x"
   ]
  },
  {
   "cell_type": "code",
   "execution_count": null,
   "metadata": {},
   "outputs": [],
   "source": []
  }
 ],
 "metadata": {
  "kernelspec": {
   "display_name": "Python 3",
   "language": "python",
   "name": "python3"
  },
  "language_info": {
   "codemirror_mode": {
    "name": "ipython",
    "version": 3
   },
   "file_extension": ".py",
   "mimetype": "text/x-python",
   "name": "python",
   "nbconvert_exporter": "python",
   "pygments_lexer": "ipython3",
   "version": "3.7.3"
  }
 },
 "nbformat": 4,
 "nbformat_minor": 2
}
