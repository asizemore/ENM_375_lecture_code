{
 "cells": [
  {
   "cell_type": "markdown",
   "metadata": {},
   "source": [
    "# In-class demo for comparing two samples\n",
    "\n",
    "In this class, we will determine and run the appropriate test to determine if the hydrogels increase the specificity of cell precision in injections."
   ]
  },
  {
   "cell_type": "code",
   "execution_count": 1,
   "metadata": {},
   "outputs": [],
   "source": [
    "# Import packages\n",
    "import sys\n",
    "import os\n",
    "import numpy as np\n",
    "import pandas as pd\n",
    "import matplotlib.pyplot as plt\n",
    "import scipy.io as sio\n",
    "from scipy import stats\n",
    "import seaborn as sns"
   ]
  },
  {
   "cell_type": "markdown",
   "metadata": {},
   "source": [
    "### The data\n",
    "\n",
    "In our hospital, we have 20 patients with the same degenerative heart disease. Our best treatment option is to inject healthy cells that will hopefully integrate with the current heart cells and cure our patients. We ran a clinical trial to test the effect of delivering healthy cells with and without hydrogel encapsulation. The data we collected are shown below."
   ]
  },
  {
   "cell_type": "code",
   "execution_count": 3,
   "metadata": {},
   "outputs": [],
   "source": [
    "# Percent improvement of patients receiving cells only.\n",
    "patients_cellsonly_improvement = [30, 25, 43, 31, 22, 56, 35, 29, 68]\n",
    "\n",
    "# Percent improvement of patients receiving cells delivered with hydrogels.\n",
    "patients_hydrogels_improvement = [38, 50, 61, 45, 67, 53, 57, 72, 44]\n"
   ]
  },
  {
   "cell_type": "code",
   "execution_count": 5,
   "metadata": {},
   "outputs": [
    {
     "data": {
      "text/plain": [
       "Text(0, 0.5, 'Percent improvement')"
      ]
     },
     "execution_count": 5,
     "metadata": {},
     "output_type": "execute_result"
    },
    {
     "data": {
      "image/png": "[encoded data removed]",
      "text/plain": [
       "<Figure size 432x288 with 1 Axes>"
      ]
     },
     "metadata": {
      "needs_background": "light"
     },
     "output_type": "display_data"
    }
   ],
   "source": [
    "## Plot the data\n",
    "\n",
    "plt.boxplot([patients_cellsonly_improvement, patients_hydrogels_improvement])\n",
    "plt.xlabel(\"Group\")\n",
    "plt.ylabel(\"Percent improvement\")"
   ]
  },
  {
   "cell_type": "markdown",
   "metadata": {},
   "source": [
    "### What type of test do we use?\n"
   ]
  },
  {
   "cell_type": "code",
   "execution_count": 12,
   "metadata": {},
   "outputs": [
    {
     "name": "stdout",
     "output_type": "stream",
     "text": [
      "-16.44444444444445\n",
      "180.05555555555557\n"
     ]
    }
   ],
   "source": [
    "## In order to run our test, we need to calculate the following statistics.\n",
    "## This is a two-sample design!!\n",
    "## Let's run a two-sample t-test :)\n",
    "\n",
    "#H_0: The difference between group 1 (cells only) and group 2 (hydrogels) is 0.\n",
    "#H_A: The difference between group 1 and group 2 is not 0.\n",
    "\n",
    "\n",
    "patients_cellsonly_mean = np.mean(patients_cellsonly_improvement)\n",
    "patients_hydrogels_mean = np.mean(patients_hydrogels_improvement)\n",
    "difference_means = patients_cellsonly_mean - patients_hydrogels_mean\n",
    "print(difference_means)\n",
    "\n",
    "# Diff = np.mean(patients_cellsonly…) - np.mean(patients_hydrogels…)\n",
    "\n",
    "## Calculate the pooled sample variance.\n",
    "n1 = len(patients_hydrogels_improvement)\n",
    "n2 = len(patients_cellsonly_improvement)\n",
    "\n",
    "\n",
    "\n",
    "s1 = np.std(patients_hydrogels_improvement, ddof = 1)\n",
    "s2 = np.std(patients_cellsonly_improvement, ddof = 1)\n",
    "\n",
    "\n",
    "sp2 = ((n1-1)*s1**2 + (n2-1)*s2**2)/(n1+n2-2)\n",
    "print(sp2)\n",
    "\n"
   ]
  },
  {
   "cell_type": "markdown",
   "metadata": {},
   "source": [
    "### Calcuate the standard error\n"
   ]
  },
  {
   "cell_type": "code",
   "execution_count": 13,
   "metadata": {},
   "outputs": [
    {
     "name": "stdout",
     "output_type": "stream",
     "text": [
      "6.325531256662348\n"
     ]
    }
   ],
   "source": [
    "## Standard error\n",
    "\n",
    "st_err = np.sqrt((sp2/n1)+(sp2/n2))\n",
    "print(st_err)"
   ]
  },
  {
   "cell_type": "markdown",
   "metadata": {},
   "source": [
    "### Calculate the t-statistic"
   ]
  },
  {
   "cell_type": "code",
   "execution_count": 14,
   "metadata": {},
   "outputs": [
    {
     "name": "stdout",
     "output_type": "stream",
     "text": [
      "-2.5996938086622188\n"
     ]
    }
   ],
   "source": [
    "## t calculated from our data\n",
    "\n",
    "t = difference_means/st_err\n",
    "print(t)"
   ]
  },
  {
   "cell_type": "code",
   "execution_count": 7,
   "metadata": {},
   "outputs": [],
   "source": [
    "## Calculate using a scipy function to double check our calculations\n"
   ]
  }
 ],
 "metadata": {
  "kernelspec": {
   "display_name": "Python 3",
   "language": "python",
   "name": "python3"
  },
  "language_info": {
   "codemirror_mode": {
    "name": "ipython",
    "version": 3
   },
   "file_extension": ".py",
   "mimetype": "text/x-python",
   "name": "python",
   "nbconvert_exporter": "python",
   "pygments_lexer": "ipython3",
   "version": "3.7.3"
  }
 },
 "nbformat": 4,
 "nbformat_minor": 2
}
