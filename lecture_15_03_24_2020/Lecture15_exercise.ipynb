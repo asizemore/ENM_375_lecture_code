{
 "cells": [
  {
   "cell_type": "markdown",
   "metadata": {},
   "source": [
    "# In class exercise: Coffee spilling\n",
    "\n",
    "Inspired by [this paper](https://www.sciencedirect.com/science/article/pii/S2078152015300377), we ran an experiment to see how much coffee individuals would spill while walking normally (forward) versus walking backward with their coffee. The goal for this exercise is to see if our experiment agrees with the paper's findings that walking backwards will result in less coffee spillage than walking forward."
   ]
  },
  {
   "cell_type": "code",
   "execution_count": 1,
   "metadata": {},
   "outputs": [],
   "source": [
    "# Import packages\n",
    "import sys\n",
    "import os\n",
    "import numpy as np\n",
    "import pandas as pd\n",
    "import matplotlib.pyplot as plt\n",
    "import scipy.io as sio\n",
    "from scipy import stats\n",
    "import seaborn as sns\n"
   ]
  },
  {
   "cell_type": "markdown",
   "metadata": {},
   "source": [
    "### The data.\n",
    "\n",
    "We asked each person to fill up their coffee mug, hold the mug by the handle, and walk 5 meters forward. The individual then reported the amount of coffee spilled in mL (results in the `forward_spilled_ml` list). Next, the individual refilled their coffee to the original height, and walked 5 meters backwards while holding the mug in the same way as in the forward condition. The individual then reported the amount of coffee spilled in mL during the backwards walking trial (results in the `backward_spilled_mL` list)."
   ]
  },
  {
   "cell_type": "code",
   "execution_count": 2,
   "metadata": {},
   "outputs": [],
   "source": [
    "# Data - recorded from friends and family.\n",
    "forward_spilled_mL = [0, 0, 0, 0, 8, 0, 0, 0]\n",
    "backward_spilled_mL = [0, 0, 2, 2.46, 3, 0, 3, 5]"
   ]
  },
  {
   "cell_type": "code",
   "execution_count": 3,
   "metadata": {},
   "outputs": [],
   "source": [
    "# Plot the data"
   ]
  },
  {
   "cell_type": "markdown",
   "metadata": {},
   "source": [
    "### What type of test do we use?"
   ]
  },
  {
   "cell_type": "code",
   "execution_count": 4,
   "metadata": {},
   "outputs": [],
   "source": [
    "# In order to run our test, we need to calculate the following statistics."
   ]
  },
  {
   "cell_type": "markdown",
   "metadata": {},
   "source": [
    "### Calculate the standard error"
   ]
  },
  {
   "cell_type": "code",
   "execution_count": 7,
   "metadata": {},
   "outputs": [],
   "source": [
    "# Standard error"
   ]
  },
  {
   "cell_type": "markdown",
   "metadata": {},
   "source": [
    "### Calculate the t statistic"
   ]
  },
  {
   "cell_type": "code",
   "execution_count": 8,
   "metadata": {},
   "outputs": [],
   "source": [
    "# t statistic"
   ]
  },
  {
   "cell_type": "code",
   "execution_count": 9,
   "metadata": {},
   "outputs": [],
   "source": [
    "# Calculate using a scipy function to double check our calculations"
   ]
  },
  {
   "cell_type": "markdown",
   "metadata": {},
   "source": [
    "### Enter your calculated t-statistic, conclusion, and whether or not the data fit the assumptions of your test on the Canvas submission site."
   ]
  },
  {
   "cell_type": "code",
   "execution_count": null,
   "metadata": {},
   "outputs": [],
   "source": []
  }
 ],
 "metadata": {
  "kernelspec": {
   "display_name": "Python 3",
   "language": "python",
   "name": "python3"
  },
  "language_info": {
   "codemirror_mode": {
    "name": "ipython",
    "version": 3
   },
   "file_extension": ".py",
   "mimetype": "text/x-python",
   "name": "python",
   "nbconvert_exporter": "python",
   "pygments_lexer": "ipython3",
   "version": "3.7.3"
  }
 },
 "nbformat": 4,
 "nbformat_minor": 2
}
