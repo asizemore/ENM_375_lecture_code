{
 "cells": [
  {
   "cell_type": "markdown",
   "metadata": {},
   "source": [
    "# Lecture 21 - Linear Regression Part 2\n",
    "\n",
    "Today we'll work through more properties and ideas surrounding linear regression. As with previous lectures, we will explore concepts mainly in this notebook, but you can also refer to the slides for a more concise presentation."
   ]
  },
  {
   "cell_type": "code",
   "execution_count": 1,
   "metadata": {},
   "outputs": [
    {
     "name": "stdout",
     "output_type": "stream",
     "text": [
      "Done importing packages :)\n"
     ]
    }
   ],
   "source": [
    "## Import packages\n",
    "\n",
    "import sys\n",
    "import os\n",
    "import numpy as np\n",
    "import pandas as pd\n",
    "import matplotlib.pyplot as plt\n",
    "import scipy.io as sio\n",
    "from scipy import stats\n",
    "import seaborn as sns\n",
    "\n",
    "print(\"Done importing packages :)\")"
   ]
  },
  {
   "cell_type": "code",
   "execution_count": 2,
   "metadata": {},
   "outputs": [
    {
     "data": {
      "text/html": [
       "<div>\n",
       "<style scoped>\n",
       "    .dataframe tbody tr th:only-of-type {\n",
       "        vertical-align: middle;\n",
       "    }\n",
       "\n",
       "    .dataframe tbody tr th {\n",
       "        vertical-align: top;\n",
       "    }\n",
       "\n",
       "    .dataframe thead th {\n",
       "        text-align: right;\n",
       "    }\n",
       "</style>\n",
       "<table border=\"1\" class=\"dataframe\">\n",
       "  <thead>\n",
       "    <tr style=\"text-align: right;\">\n",
       "      <th></th>\n",
       "      <th>mRNA copy number average [molecules/cell]</th>\n",
       "      <th>Protein copy number average [molecules/cell]</th>\n",
       "    </tr>\n",
       "  </thead>\n",
       "  <tbody>\n",
       "    <tr>\n",
       "      <th>2</th>\n",
       "      <td>2187.76</td>\n",
       "      <td>1.201244e+08</td>\n",
       "    </tr>\n",
       "    <tr>\n",
       "      <th>5</th>\n",
       "      <td>12.79</td>\n",
       "      <td>3.395867e+07</td>\n",
       "    </tr>\n",
       "    <tr>\n",
       "      <th>6</th>\n",
       "      <td>3229.54</td>\n",
       "      <td>3.563218e+07</td>\n",
       "    </tr>\n",
       "    <tr>\n",
       "      <th>7</th>\n",
       "      <td>1825.51</td>\n",
       "      <td>2.437155e+07</td>\n",
       "    </tr>\n",
       "    <tr>\n",
       "      <th>8</th>\n",
       "      <td>2247.05</td>\n",
       "      <td>2.419042e+07</td>\n",
       "    </tr>\n",
       "    <tr>\n",
       "      <th>...</th>\n",
       "      <td>...</td>\n",
       "      <td>...</td>\n",
       "    </tr>\n",
       "    <tr>\n",
       "      <th>5022</th>\n",
       "      <td>11.04</td>\n",
       "      <td>1.205260e+03</td>\n",
       "    </tr>\n",
       "    <tr>\n",
       "      <th>5023</th>\n",
       "      <td>2.59</td>\n",
       "      <td>6.137000e+01</td>\n",
       "    </tr>\n",
       "    <tr>\n",
       "      <th>5024</th>\n",
       "      <td>11.87</td>\n",
       "      <td>2.653200e+02</td>\n",
       "    </tr>\n",
       "    <tr>\n",
       "      <th>5025</th>\n",
       "      <td>5.36</td>\n",
       "      <td>2.126900e+02</td>\n",
       "    </tr>\n",
       "    <tr>\n",
       "      <th>5027</th>\n",
       "      <td>7.84</td>\n",
       "      <td>2.158700e+02</td>\n",
       "    </tr>\n",
       "  </tbody>\n",
       "</table>\n",
       "<p>4309 rows × 2 columns</p>\n",
       "</div>"
      ],
      "text/plain": [
       "      mRNA copy number average [molecules/cell]  \\\n",
       "2                                       2187.76   \n",
       "5                                         12.79   \n",
       "6                                       3229.54   \n",
       "7                                       1825.51   \n",
       "8                                       2247.05   \n",
       "...                                         ...   \n",
       "5022                                      11.04   \n",
       "5023                                       2.59   \n",
       "5024                                      11.87   \n",
       "5025                                       5.36   \n",
       "5027                                       7.84   \n",
       "\n",
       "      Protein copy number average [molecules/cell]  \n",
       "2                                     1.201244e+08  \n",
       "5                                     3.395867e+07  \n",
       "6                                     3.563218e+07  \n",
       "7                                     2.437155e+07  \n",
       "8                                     2.419042e+07  \n",
       "...                                            ...  \n",
       "5022                                  1.205260e+03  \n",
       "5023                                  6.137000e+01  \n",
       "5024                                  2.653200e+02  \n",
       "5025                                  2.126900e+02  \n",
       "5027                                  2.158700e+02  \n",
       "\n",
       "[4309 rows x 2 columns]"
      ]
     },
     "execution_count": 2,
     "metadata": {},
     "output_type": "execute_result"
    }
   ],
   "source": [
    "## To start we use protein expression v mrna\n",
    "data1 = pd.read_excel(\"data/41586_2011_BFnature10098_MOESM304_ESM.xls\")\n",
    "\n",
    "# Drop rows with NA values\n",
    "#df.apply (pd.to_numeric, errors='coerce')\n",
    "#data1.dropnan()\n",
    "data2 = data1.filter([\"mRNA copy number average [molecules/cell]\",\"Protein copy number average [molecules/cell]\"])\n",
    "data2.apply(pd.to_numeric, errors='coerce')\n",
    "data2.dropna()"
   ]
  },
  {
   "cell_type": "code",
   "execution_count": 3,
   "metadata": {},
   "outputs": [],
   "source": [
    "\n",
    "## Randomly sample 30 genes and plot scatter plot\n",
    "rna_protein_data = np.array(data2.dropna().sample(30))"
   ]
  },
  {
   "cell_type": "code",
   "execution_count": 4,
   "metadata": {},
   "outputs": [
    {
     "data": {
      "text/plain": [
       "<matplotlib.collections.PathCollection at 0x7f0b13804e10>"
      ]
     },
     "execution_count": 4,
     "metadata": {},
     "output_type": "execute_result"
    },
    {
     "data": {
      "image/png": "[encoded data removed]",
      "text/plain": [
       "<Figure size 432x288 with 1 Axes>"
      ]
     },
     "metadata": {
      "needs_background": "light"
     },
     "output_type": "display_data"
    }
   ],
   "source": [
    "plt.scatter(rna_protein_data[:, 0], rna_protein_data[:, 1])"
   ]
  },
  {
   "cell_type": "code",
   "execution_count": 5,
   "metadata": {},
   "outputs": [
    {
     "data": {
      "text/plain": [
       "<matplotlib.collections.PathCollection at 0x7f0b112f53c8>"
      ]
     },
     "execution_count": 5,
     "metadata": {},
     "output_type": "execute_result"
    },
    {
     "data": {
      "image/png": "[encoded data removed]",
      "text/plain": [
       "<Figure size 432x288 with 1 Axes>"
      ]
     },
     "metadata": {
      "needs_background": "light"
     },
     "output_type": "display_data"
    }
   ],
   "source": [
    "# Transform?\n",
    "plt.scatter(np.log(rna_protein_data[:, 0]),np.log(rna_protein_data[:, 1]))"
   ]
  },
  {
   "cell_type": "code",
   "execution_count": 6,
   "metadata": {},
   "outputs": [
    {
     "data": {
      "text/plain": [
       "array([ 97.36, 131.92,  17.9 ,  11.26, 116.53, 172.49,  18.06,  30.97,\n",
       "        20.85,   4.55,  15.33,   8.02,  30.93,  10.01,   5.36,  18.18,\n",
       "         5.46,  45.07,  26.73,  25.88,  24.23,  13.69, 169.6 ,  10.3 ,\n",
       "         6.89,  21.79,  10.92,   5.48,  98.87,   6.34])"
      ]
     },
     "execution_count": 6,
     "metadata": {},
     "output_type": "execute_result"
    }
   ],
   "source": [
    "rna_protein_data[:, 0]"
   ]
  },
  {
   "cell_type": "code",
   "execution_count": 7,
   "metadata": {},
   "outputs": [
    {
     "data": {
      "text/plain": [
       "Timestamp                                                                                                                                                                                                                                                                                                     2020-04-09 10:07:00.296000\n",
       "What is your height in inches? Ex. 67                                                                                                                                                                                                                                                                                                 69\n",
       "Standing long jump: How far can you jump from a standing position? Measure from your toes at standing to the back of your heels when you land. Take one practice jump. Okay now do a real jump. Record your jump distance in inches. (fyi, the record is held by Byron Jones for a jump of 146.75 inches.)                          50.2\n",
       "Do a second real jump just like in the previous question. Record your jump distance in inches.                                                                                                                                                                                                                                      57.4\n",
       "Do you like these at-home data collection examples? Your name and email are not being collected in this form.                                                                                                                                                                                                                        Yes\n",
       "Name: 0, dtype: object"
      ]
     },
     "execution_count": 7,
     "metadata": {},
     "output_type": "execute_result"
    }
   ],
   "source": [
    "jump_data = pd.read_excel(\"data/student_data.xlsx\")\n",
    "height = np.array(jump_data[\"What is your height in inches? Ex. 67\"])\n",
    "jump1 = np.array(jump_data[\"Standing long jump: How far can you jump from a standing position? Measure from your toes at standing to the back of your heels when you land. Take one practice jump. Okay now do a real jump. Record your jump distance in inches. (fyi, the record is held by Byron Jones for a jump of 146.75 inches.)\"])\n",
    "jump2 = np.array(jump_data[\"Do a second real jump just like in the previous question. Record your jump distance in inches.\"])\n",
    "\n",
    "\n",
    "jump_data.iloc[0]\n"
   ]
  },
  {
   "cell_type": "code",
   "execution_count": 12,
   "metadata": {},
   "outputs": [
    {
     "data": {
      "text/plain": [
       "array([69. , 63. , 71. , 66. , 71. , 61. , 67. , 65. , 64. , 66. , 74. ,\n",
       "       68. , 67. , 68. , 67. , 73. , 62. , 75. , 68. , 66. , 64. , 67. ,\n",
       "       69. , 67. , 69. , 75. , 67. , 60. , 72. , 63. , 75.5, 68. , 66. ,\n",
       "       61. , 70. , 62. , 62. , 63. , 65. , 68. , 63.5, 69. , 52. , 69. ,\n",
       "       71.5, 73. , 70. , 65. , 64. , 64. ])"
      ]
     },
     "execution_count": 12,
     "metadata": {},
     "output_type": "execute_result"
    }
   ],
   "source": [
    "height"
   ]
  },
  {
   "cell_type": "code",
   "execution_count": null,
   "metadata": {},
   "outputs": [],
   "source": []
  },
  {
   "cell_type": "code",
   "execution_count": null,
   "metadata": {},
   "outputs": [],
   "source": []
  }
 ],
 "metadata": {
  "kernelspec": {
   "display_name": "Python 3",
   "language": "python",
   "name": "python3"
  },
  "language_info": {
   "codemirror_mode": {
    "name": "ipython",
    "version": 3
   },
   "file_extension": ".py",
   "mimetype": "text/x-python",
   "name": "python",
   "nbconvert_exporter": "python",
   "pygments_lexer": "ipython3",
   "version": "3.7.3"
  }
 },
 "nbformat": 4,
 "nbformat_minor": 2
}
