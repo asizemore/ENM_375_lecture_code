{
 "cells": [
  {
   "cell_type": "markdown",
   "metadata": {},
   "source": [
    "# Lecture 21 - Linear Regression Part 2\n",
    "\n",
    "Today we'll work through more properties and ideas surrounding linear regression. As with previous lectures, we will explore concepts mainly in this notebook, but you can also refer to the slides for a more concise presentation."
   ]
  },
  {
   "cell_type": "code",
   "execution_count": null,
   "metadata": {},
   "outputs": [],
   "source": [
    "## Import packages\n",
    "\n",
    "import sys\n",
    "import os\n",
    "import numpy as np\n",
    "import pandas as pd\n",
    "import matplotlib.pyplot as plt\n",
    "import scipy.io as sio\n",
    "from scipy import stats\n",
    "import seaborn as sns\n",
    "\n",
    "# Set size of font for matplotplib\n",
    "plt.rc('font', size=12) \n",
    "\n",
    "print(\"Done importing packages :)\")"
   ]
  },
  {
   "cell_type": "code",
   "execution_count": null,
   "metadata": {},
   "outputs": [],
   "source": [
    "def lin_reg_t_test(x,y,df):\n",
    "\n",
    "    regr = linear_model.LinearRegression()\n",
    "    regr.fit(x.reshape(-1,1), y.reshape(-1,1))\n",
    "\n",
    "\n",
    "    a = regr.intercept_\n",
    "    b = regr.coef_[0][0]\n",
    "\n",
    "    print(a,b)\n",
    "\n",
    "    y_hats = a + b*x\n",
    "    \n",
    "    # Calculate the MS_residual numerator\n",
    "    # MS_residual_num = ??\n",
    "    \n",
    "    MS_residual_den = df\n",
    "    MS_resid = MS_residual_num/MS_residual_den\n",
    "\n",
    "    print(f\"MS_resid={MS_resid}\")\n",
    "\n",
    "    SS_X = np.sum((x-x.mean())**2)\n",
    "    SE_b = np.sqrt(MS_resid/SS_X)\n",
    "\n",
    "    print(f\"SE_b = {SE_b}\")\n",
    "\n",
    "    B_0 = 0\n",
    "#     t = ???\n",
    "\n",
    "    print(f\"t={t}\")\n",
    "\n",
    "\n",
    "    pval = stats.t.sf(np.abs(t), df)*2\n",
    "    print(f\"two-sided p-value={pval}\")\n",
    "    \n",
    "    return pval\n",
    "\n",
    "def standard_error_b(x,y,df):\n",
    "    \n",
    "    regr = linear_model.LinearRegression()\n",
    "    regr.fit(x.reshape(-1,1), y.reshape(-1,1))\n",
    "\n",
    "\n",
    "    a = regr.intercept_\n",
    "    b = regr.coef_[0][0]\n",
    "\n",
    "    print(a,b)\n",
    "\n",
    "    y_hats = a + b*x\n",
    "\n",
    "#     MS_residual_num = ???\n",
    "\n",
    "    MS_residual_den = df\n",
    "    MS_resid = MS_residual_num/MS_residual_den\n",
    "\n",
    "    print(f\"MS_resid={MS_resid}\")\n",
    "\n",
    "    SS_X = np.sum((x-x.mean())**2)\n",
    "    SE_b = np.sqrt(MS_resid/SS_X)\n",
    "    \n",
    "    return SE_b\n",
    "\n",
    "\n",
    "    \n",
    "\n",
    "print(\"Done defining functions :)\")"
   ]
  },
  {
   "cell_type": "markdown",
   "metadata": {},
   "source": [
    "--------\n",
    "## RNA and Protein relationship (slide 10)\n",
    "The central dogma tells us that DNA is transcribed to RNA which is translated into a protein. Proteins are difficult to observe in the cell, but RNA is quite 'easy'. So often we record the amount of RNA for gene X and assume that we can use the RNA count to estimate the protein count. Is this a good assumption?\n",
    "\n",
    "If yes, we should see a highly correlated, very linear relationship between the RNA and protein counts.\n",
    "\n",
    "Below we'll investigate using 30 randomly sampled genes from the data in [Schwanhäusser et al., 2011](https://www-nature-com.proxy.library.upenn.edu/articles/nature10098)"
   ]
  },
  {
   "cell_type": "code",
   "execution_count": null,
   "metadata": {},
   "outputs": [],
   "source": [
    "# RNA molecules/cell in the first column, matched protein molecules/cell in the second column.\n",
    "rna_protein=np.array([[4.81300000e+01, 7.59187000e+04],\n",
    "       [1.04500000e+01, 4.71734900e+04],\n",
    "       [5.91000000e+00, 2.81650200e+04],\n",
    "       [3.31000000e+00, 8.01429000e+03],\n",
    "       [3.08400000e+01, 5.10501640e+05],\n",
    "       [2.29600000e+01, 8.32250900e+04],\n",
    "       [3.63000000e+00, 9.47810000e+02],\n",
    "       [1.55800000e+01, 2.89878500e+04],\n",
    "       [8.50000000e+00, 2.68726130e+05],\n",
    "       [2.00000000e+01, 3.03753130e+05],\n",
    "       [2.48000000e+00, 2.36163800e+04],\n",
    "       [3.21800000e+01, 1.41199720e+05],\n",
    "       [2.38030000e+02, 2.67488198e+06],\n",
    "       [8.90700000e+01, 1.97755860e+05],\n",
    "       [1.76700000e+01, 3.08072700e+04],\n",
    "       [1.19570000e+02, 1.35270000e+02],\n",
    "       [4.39000000e+00, 3.76832000e+03],\n",
    "       [1.13300000e+01, 1.42453100e+04],\n",
    "       [9.88000000e+00, 1.54796000e+03],\n",
    "       [7.49100000e+01, 1.15433729e+06],\n",
    "       [1.01600000e+01, 2.21075600e+05],\n",
    "       [1.43800000e+01, 2.77751000e+03],\n",
    "       [7.60000000e+00, 6.36265000e+03],\n",
    "       [1.15100000e+01, 1.40526600e+04],\n",
    "       [9.83000000e+00, 6.19777800e+04],\n",
    "       [1.35600000e+01, 1.12027940e+05],\n",
    "       [6.29100000e+01, 1.37365337e+06],\n",
    "       [1.59000000e+01, 7.66850000e+03],\n",
    "       [2.58800000e+01, 4.67021540e+05],\n",
    "       [3.47200000e+01, 2.30052900e+05]])\n",
    "\n",
    "# Separating into just rna and protein to make flow simpler\n",
    "rna = rna_protein[:, 0]\n",
    "protein = rna_protein[:, 1]\n"
   ]
  },
  {
   "cell_type": "code",
   "execution_count": null,
   "metadata": {},
   "outputs": [],
   "source": [
    "# What does our data look like? (slide 12)\n",
    "\n",
    "sns.scatterplot(rna,protein)\n",
    "plt.xlabel(\"RNA molecules/cell\")\n",
    "plt.ylabel(\"Protein molecules/cell\")\n",
    "plt.title(\"Relationship between RNA and protein abundance\");"
   ]
  },
  {
   "cell_type": "markdown",
   "metadata": {},
   "source": [
    "Let's try fitting a line to these data..."
   ]
  },
  {
   "cell_type": "code",
   "execution_count": null,
   "metadata": {},
   "outputs": [],
   "source": [
    "# Calculate the slope and intercept protein = a + b*rna (slide 13)\n",
    "rna_mean = np.mean(rna)\n",
    "protein_mean = np.mean(protein)\n",
    "\n",
    "b = (np.sum((rna - rna_mean)*(protein - protein_mean)))/(np.sum((rna - rna_mean)**2))\n",
    "a = protein_mean - b*rna_mean\n",
    "\n",
    "print(a,b)"
   ]
  },
  {
   "cell_type": "code",
   "execution_count": null,
   "metadata": {},
   "outputs": [],
   "source": [
    "# Plot the line of best fit (slide 14)\n",
    "\n",
    "sns.lineplot(rna, a+ (b*rna), label=\"best fit\")\n",
    "sns.scatterplot(rna, protein)\n",
    "plt.xlabel(\"RNA molecules/cell\")\n",
    "plt.ylabel(\"Protein molecules/cell\")\n",
    "plt.title(\"Relationship between RNA and protein abundance\");"
   ]
  },
  {
   "cell_type": "markdown",
   "metadata": {},
   "source": [
    "### Did we do a good job? (slide 15)\n",
    "\n",
    "A **residual plot** is a scatter plot of the residuals $(Y_i - \\hat{Y}_i)$ against the values of the explanatory variable (rna for our case)."
   ]
  },
  {
   "cell_type": "code",
   "execution_count": null,
   "metadata": {},
   "outputs": [],
   "source": [
    "# First calculate the Y hats (the values of protein predicted by our best-fitting line)\n",
    "protein_hats = a + b*rna\n",
    "\n",
    "# Calculate the residuals\n",
    "residuals = protein - protein_hats\n",
    "\n",
    "# Plot the residual plot\n",
    "sns.scatterplot(rna, residuals)\n",
    "plt.xlabel(\"RNA molecules/cell\")\n",
    "plt.ylabel(\"Residuals\")\n",
    "plt.title(\"Residual plot\");"
   ]
  },
  {
   "cell_type": "markdown",
   "metadata": {},
   "source": [
    "This is bad. The fit gets worse and worse as we have more RNA molecules/cell. Definitely we should not assume that the variance of Y-values at each value of X is the same.\n",
    "\n",
    "What do we do instead?\n"
   ]
  },
  {
   "cell_type": "markdown",
   "metadata": {},
   "source": [
    "______\n",
    "## Data tranformations (slide 17)\n",
    "\n",
    "Just like before, we can try transforming the data to make it fit our assumptions.\n",
    "What transformation should we try here?"
   ]
  },
  {
   "cell_type": "code",
   "execution_count": null,
   "metadata": {},
   "outputs": [],
   "source": [
    "## What transformation should we try?\n",
    "\n",
    "# transformed_protein = ??\n",
    "# transformed_rna = ??\n",
    "\n",
    "# Check our transformation using a scatterplot and show regression line\n",
    "\n",
    "b_transformed = (np.sum((transformed_rna - transformed_rna.mean())*(transformed_protein - transformed_protein.mean())))/(np.sum((transformed_rna - transformed_rna.mean())**2))\n",
    "a_transformed = transformed_protein.mean() - b_transformed*transformed_rna.mean()\n",
    "\n",
    "\n",
    "# Plot!\n",
    "sns.scatterplot(transformed_rna, transformed_protein)\n",
    "sns.lineplot(transformed_rna, a_transformed + b_transformed*transformed_rna)\n",
    "# Change labels!\n",
    "plt.xlabel(\"transformed RNA molecules/cell\")\n",
    "plt.ylabel(\"tranformed protein molecules/cell\")\n",
    "plt.title(\"Transformed scatterplot\");\n",
    "\n",
    "print(a_transformed,b_transformed)"
   ]
  },
  {
   "cell_type": "code",
   "execution_count": null,
   "metadata": {},
   "outputs": [],
   "source": [
    "# Check residual plot (slide 18)\n",
    "\n",
    "transformed_protein_hats = a_transformed + b_transformed*transformed_rna\n",
    "transformed_residuals = transformed_protein - transformed_protein_hats\n",
    "\n",
    "sns.scatterplot(transformed_rna, transformed_residuals)\n",
    "plt.xlabel(\"transformed rna molecules/cell\")\n",
    "plt.ylabel(\"Residuals\")\n",
    "plt.title(\"Residual plot\");"
   ]
  },
  {
   "cell_type": "markdown",
   "metadata": {},
   "source": [
    "Fitting assumptions is not the only way transformations help us. Let's say we had a relationship that was not so linear looking..."
   ]
  },
  {
   "cell_type": "code",
   "execution_count": null,
   "metadata": {},
   "outputs": [],
   "source": [
    "# Generate random data\n",
    "x_values = np.arange(100)\n",
    "y1_values = 3*(x_values)**2\n",
    "y2_values = 5*np.float_power(2, x_values)\n",
    "\n",
    "plt.figure(figsize=(10,9))\n",
    "\n",
    "plt.subplot(2, 2, 1)\n",
    "sns.scatterplot(x_values, y1_values)\n",
    "plt.xlabel(\"X\")\n",
    "plt.ylabel(\"Y\")\n",
    "plt.title(\"Non-linear relationship. y=3x^2\")\n",
    "\n",
    "plt.subplot(2,2,2)\n",
    "sns.scatterplot(np.log(x_values), np.log(y1_values))\n",
    "plt.xlabel(\"ln(X)\")\n",
    "plt.ylabel(\"ln(Y)\")\n",
    "plt.title(\"Transformed relationship. ln(y)=ln(3) + 2ln(x)\")\n",
    "\n",
    "plt.subplot(2,2,3)\n",
    "sns.scatterplot(x_values, y2_values)\n",
    "plt.xlabel(\"X\")\n",
    "plt.ylabel(\"Y\")\n",
    "plt.title(\"Non-linear relationship. y=5(10^x)\")\n",
    "\n",
    "plt.subplot(2,2,4)\n",
    "sns.scatterplot(x_values, np.log(y2_values))\n",
    "plt.xlabel(\"ln(X)\")\n",
    "plt.ylabel(\"ln(Y)\")\n",
    "plt.title(\"Transformed relationship. ln(y)=ln(5) + ln(10)x\")\n",
    "\n",
    "# Adjust spacing between the subplots\n",
    "plt.subplots_adjust(bottom=None, right=1, top=None, wspace=0.4, hspace = 0.4)"
   ]
  },
  {
   "cell_type": "markdown",
   "metadata": {},
   "source": [
    "------\n",
    "## Extrapolating (slide 20)\n",
    "\n",
    "So now we have a decent linear relation. Does that mean that when we measure the RNA abundance of a new gene, that we can immediately know it's protein level?\n"
   ]
  },
  {
   "cell_type": "code",
   "execution_count": null,
   "metadata": {},
   "outputs": [],
   "source": [
    "new_gene_rna = 10\n",
    "\n",
    "# Plot the new data point where we expect it to fall on our scatter\n",
    "transformed_new_gene = np.log(new_gene_rna)\n",
    "\n",
    "# Plot!\n",
    "\n",
    "sns.scatterplot(transformed_rna, transformed_protein)\n",
    "sns.lineplot(transformed_rna, a_transformed + b_transformed*transformed_rna)\n",
    "sns.scatterplot([transformed_new_gene], [a_transformed + b_transformed*transformed_new_gene], s=100, label = \"new gene\")\n",
    "\n",
    "plt.xlabel(\"Transformed RNA molecules/cell\")\n",
    "plt.ylabel(\"Transformed protein molecules/cell\")\n",
    "plt.title(\"Transformed scatterplot\");"
   ]
  },
  {
   "cell_type": "markdown",
   "metadata": {},
   "source": [
    "But what if we saw 0 RNA molecules? What does our model say about the protein levels?"
   ]
  },
  {
   "cell_type": "code",
   "execution_count": null,
   "metadata": {},
   "outputs": [],
   "source": [
    "## Change the value of new_gene_rna (slides 21 and 22)\n",
    "\n",
    "new_gene_rna = 10\n",
    "\n",
    "# Plot the new data point where we expect it to fall on our scatter\n",
    "transformed_new_gene = np.log(new_gene_rna)\n",
    "\n",
    "# Plot!\n",
    "sns.scatterplot(transformed_rna, transformed_protein)\n",
    "sns.lineplot(transformed_rna, a_transformed + b_transformed*transformed_rna)\n",
    "sns.scatterplot([transformed_new_gene], [a_transformed + b_transformed*transformed_new_gene], s=100, label = \"new gene\")\n",
    "\n",
    "plt.xlabel(\"RNA molecules/cell\")\n",
    "plt.ylabel(\"Residuals\")\n",
    "plt.title(\"Transformed scatterplot\");"
   ]
  },
  {
   "cell_type": "markdown",
   "metadata": {},
   "source": [
    "So if we see 0 expression, we still expect non-zero protein levels!\n",
    "\n",
    "**Warning** Extrapolating beyond the range of values we used to perform the regression can lead to impossible and unlikely results -- **Don't do it!**"
   ]
  },
  {
   "cell_type": "markdown",
   "metadata": {},
   "source": [
    "------\n",
    "## Effects of error (slide 23)\n",
    "\n",
    "Let's give the researchers a break -- there was probably just a lot of measurement error in the observations. Maybe the relationship is real but the act of measuring these quantities has some inherant noise. \n",
    "\n",
    "While we may not be able to answer that question, what *would* error do to a real linear relationship?"
   ]
  },
  {
   "cell_type": "code",
   "execution_count": null,
   "metadata": {},
   "outputs": [],
   "source": [
    "# Use the same x_values as before\n",
    "y_values = 3 - 4*x_values\n",
    "\n",
    "# To make things quicker, use sklearn to calculate linear regression values\n",
    "from sklearn import linear_model\n",
    "\n",
    "regr = linear_model.LinearRegression()\n",
    "\n",
    "\n",
    "plt.figure(figsize=(10,9))\n",
    "\n",
    "# Plot the original data\n",
    "plt.subplot(2, 2, 1)\n",
    "\n",
    "regr.fit(x_values.reshape(-1,1), y_values.reshape(-1,1))\n",
    "\n",
    "sns.regplot(x_values, y_values)\n",
    "pval = lin_reg_t_test(x_values,y_values, np.size(x_values)-2)\n",
    "plt.xlabel(\"X\")\n",
    "plt.ylabel(\"Y\")\n",
    "plt.title(f'No noise\\n y={regr.intercept_} + {regr.coef_[0]}x \\n pval={pval}')\n",
    "\n",
    "# Add noise JUST to x values\n",
    "# Adjust the low, high values to adjust the noise range\n",
    "x_values_noise = x_values + np.random.uniform(low=-20,high=20, size=x_values.size)\n",
    "\n",
    "\n",
    "regr.fit(x_values_noise.reshape(-1,1), y_values.reshape(-1,1))\n",
    "\n",
    "plt.subplot(2,2,2)\n",
    "sns.regplot(x_values_noise, y_values)\n",
    "pval = lin_reg_t_test(x_values_noise,y_values, np.size(x_values)-2)\n",
    "plt.xlabel(\"X\")\n",
    "plt.ylabel(\"Y\")\n",
    "plt.title(f\"Noise added to X\\n y={regr.intercept_} + {regr.coef_[0]}x \\n pval={pval}\")\n",
    "\n",
    "\n",
    "\n",
    "# Add noise to JUST the y values\n",
    "y_values_noise = y_values + np.random.uniform(low=-20, high=20, size = y_values.size)\n",
    "\n",
    "regr.fit(x_values.reshape(-1,1), y_values_noise.reshape(-1,1))\n",
    "\n",
    "plt.subplot(2,2,3)\n",
    "sns.regplot(x_values, y_values_noise)\n",
    "pval = lin_reg_t_test(x_values,y_values_noise, np.size(x_values)-2)\n",
    "plt.xlabel(\"X\")\n",
    "plt.ylabel(\"Y\")\n",
    "plt.title(f\"Noise added to Y\\n y={regr.intercept_} + {regr.coef_[0]}x \\n pval={pval}\")\n",
    "\n",
    "\n",
    "# Add noise to both\n",
    "\n",
    "regr.fit(x_values_noise.reshape(-1,1), y_values_noise.reshape(-1,1))\n",
    "\n",
    "plt.subplot(2,2,4)\n",
    "sns.regplot(x_values_noise, y_values_noise, fit_reg=True)\n",
    "pval = lin_reg_t_test(x_values_noise,y_values_noise, np.size(x_values)-2)\n",
    "plt.xlabel(\"X\")\n",
    "plt.ylabel(\"Y\")\n",
    "plt.title(f\"Noise added to both X and Y\\n y={regr.intercept_} + {regr.coef_[0]}x \\n pval={pval}\")\n",
    "\n",
    "# Adjust spacing between the subplots\n",
    "plt.subplots_adjust(bottom=None, right=1, top=None, wspace=0.4, hspace = 0.4)"
   ]
  },
  {
   "cell_type": "markdown",
   "metadata": {},
   "source": [
    "______\n",
    "\n",
    "## Data 2: Height vs standing long jumps (slide 24)\n",
    "\n",
    "Thanks to your responses, we will take a break from protein and RNA levels for a bit and turn to the standing long jump data we collected."
   ]
  },
  {
   "cell_type": "code",
   "execution_count": null,
   "metadata": {},
   "outputs": [],
   "source": [
    "## Data\n",
    "\n",
    "heights = np.array([69. , 63. , 71. , 66. , 71. , 61. , 67. , 65. , 64. , 66. , 74. ,\n",
    "       68. , 67. , 68. , 67. , 73. , 62. , 75. , 68. , 66. , 64. , 67. ,\n",
    "       69. , 67. , 69. , 75. , 67. , 60. , 72. , 63. , 75.5, 68. , 66. ,\n",
    "       61. , 70. , 62. , 62. , 63. , 65. , 68. , 63.5, 69. , 52. , 69. ,\n",
    "       71.5, 73. , 70. , 65. , 64. , 64. ])\n",
    "jump1 = np.array([ 50.2, 72, 84, 80, 56.5, 43, 78, 75, 39, 35, 87, 72, 92, 97, 72.5,\n",
    "       100, 51.5, 85, 63, 62, 51, 33, 89, 79, 75.5, 80, 86, 66, 86, 58,\n",
    "       102, 63, 44, 43, 92, 54.5, 48, 25, 43, 68, 54.5, 100, 88,\n",
    "       100, 65, 87, 54.25, 41, 34, 71.3])\n",
    "jump2 = np.array([57.4, 72.5, 78, 81, 60.5, 45, 75, 74, 40, 34, 90, 75, 94, 101, 69,\n",
    "       105, 46, 91, 70, 60.5, 53, 35, 87, 78, 82, 83, 88, 75, 89, 59, 103,\n",
    "       65, 62, 48, 95, 62, 40, 35, 43, 70, 54.5, 113, 84, 107,\n",
    "       70, 90, 55.75, 37, 32, 74.6])\n",
    "avg_jump = np.mean([jump1, jump2], axis=0)\n",
    "avg_jump"
   ]
  },
  {
   "cell_type": "markdown",
   "metadata": {},
   "source": [
    "Do you expect a linear relationship between height and average distance jumped?"
   ]
  },
  {
   "cell_type": "code",
   "execution_count": null,
   "metadata": {},
   "outputs": [],
   "source": [
    "# Draw a scatterplot with the line of best fit (slide 26)\n",
    "\n",
    "regr = linear_model.LinearRegression()\n",
    "regr.fit(heights.reshape(-1,1), avg_jump.reshape(-1,1))\n",
    "\n",
    "sns.regplot(heights,avg_jump)\n",
    "plt.xlabel(\"Height (in)\")\n",
    "plt.ylabel(\"Avg Jump (in)\")\n",
    "plt.title(f\"Relation between height and jump distance\\n y={regr.intercept_} + {regr.coef_[0]}x\")\n"
   ]
  },
  {
   "cell_type": "markdown",
   "metadata": {},
   "source": [
    "_____\n",
    "\n",
    "## The effect of outliers (slide 27)\n",
    "\n",
    "Let's say now we also included Byron Jones' jump of 146.75 inches. Byron is 73 inches tall. How does that change our regression line?"
   ]
  },
  {
   "cell_type": "code",
   "execution_count": null,
   "metadata": {
    "scrolled": true
   },
   "outputs": [],
   "source": [
    "heights_byron = np.append(heights,73)\n",
    "avg_jump_byron = np.append(avg_jump,146.73)\n",
    "\n",
    "\n",
    "plt.figure(figsize=(10,4))\n",
    "\n",
    "plt.subplot(1,2,1)\n",
    "sns.regplot(heights,avg_jump)\n",
    "plt.xlabel(\"Height (in)\")\n",
    "plt.ylabel(\"Avg Jump (in)\")\n",
    "plt.title(f\"Height v jump distance\\n y={regr.intercept_} + {regr.coef_[0]}x\")\n",
    "\n",
    "\n",
    "\n",
    "# Redo line of best fit\n",
    "regr = linear_model.LinearRegression()\n",
    "regr.fit(heights_byron.reshape(-1,1), avg_jump_byron.reshape(-1,1))\n",
    "\n",
    "plt.subplot(1,2,2)\n",
    "\n",
    "sns.regplot(heights_byron,avg_jump_byron)\n",
    "sns.scatterplot([73], [146.73], color =\"red\", label = \"Byron Jones\")\n",
    "plt.xlabel(\"Height (in)\")\n",
    "plt.ylabel(\"Avg Jump (in)\")\n",
    "plt.title(f\"Height v jump distance including Byron\\n y={regr.intercept_} + {regr.coef_[0]}x\")\n",
    "\n",
    "\n",
    "plt.subplots_adjust(bottom=None, right=1, top=None, wspace=0.5, hspace = 0.4)"
   ]
  },
  {
   "cell_type": "markdown",
   "metadata": {},
   "source": [
    "**Outliers** can greatly alter the estimates and even direction of your regression line. If you have outliers, first examine why they might be an outlier (is there some underlying biology that greatly changes their behavior?), and *consider* removing. Perhaps the most ethical option is to show the fit with the outlier, and then show the fit after removing the outlier."
   ]
  },
  {
   "cell_type": "markdown",
   "metadata": {},
   "source": [
    "--------\n",
    "\n",
    "## Confidence bands and confidence in predictions\n",
    "\n",
    "What is that blue shaded area around the regression line plotted by regplot that we have expertly ignored until now? This is the 95% confidence band. \n",
    "\n",
    "The **confidence band** measures the precision of the predicted mean Y for each value of X. (slide 28)"
   ]
  },
  {
   "cell_type": "code",
   "execution_count": null,
   "metadata": {},
   "outputs": [],
   "source": [
    "## The confidence band is shown in red in the following plot\n",
    "\n",
    "sns.regplot(heights, avg_jump, line_kws={\"color\": \"red\", \"label\": \"fit\"})\n",
    "plt.xlabel(\"Height (in)\")\n",
    "plt.ylabel(\"Avg Jump (in)\")\n",
    "plt.title(\"Confidence bands\")"
   ]
  },
  {
   "cell_type": "markdown",
   "metadata": {},
   "source": [
    "Is this the same as predicting an individual new y-value? \n",
    "\n",
    "Let's say I make a standing long jump. How confident can you be in the prediction of *my jump distance*? (slide 29)"
   ]
  },
  {
   "cell_type": "code",
   "execution_count": null,
   "metadata": {},
   "outputs": [],
   "source": [
    "drB_height = 67\n",
    "drB_jump = 70\n",
    "\n",
    "sns.regplot(heights, avg_jump)\n",
    "sns.scatterplot([drB_height], [drB_jump], color = \"orange\", s=100)\n",
    "plt.xlabel(\"Height (in)\")\n",
    "plt.ylabel(\"Avg Jump (in)\");"
   ]
  },
  {
   "cell_type": "markdown",
   "metadata": {},
   "source": [
    "The confidence band only describes precision in predicting the *mean* Y value for the given X value. Individuals have variation, so in order to capture the precision in estimating a new individual data point, we need the prediction intervals.\n",
    "\n",
    "The **prediction interval** meaures the precision of the predicted single Y-values for each X. (slide 30)\n"
   ]
  },
  {
   "cell_type": "code",
   "execution_count": null,
   "metadata": {},
   "outputs": [],
   "source": [
    "## Calculate and plot the prediction intervals\n",
    "\n",
    "regr.fit(heights.reshape(-1,1), avg_jump.reshape(-1,1))\n",
    "a_height = regr.intercept_\n",
    "b_height = regr.coef_[0]\n",
    "\n",
    "avg_jump_hats = a_height + b_height*heights\n",
    "MS_resid_jump = (np.sum((avg_jump - avg_jump_hats)**2))/(heights.shape[0] -2)\n",
    "SE_predict_heights = np.sqrt(MS_resid_jump * ((1/heights.shape[0])*(1+((heights-np.mean(heights))**2)/(np.sum((heights-np.mean(heights))**2)))))\n",
    "t = stats.t.ppf(0.975, heights.shape[0]-2)\n",
    "\n",
    "sns.regplot(heights,avg_jump)\n",
    "sns.lineplot(heights, avg_jump_hats - t*SE_predict_heights, color = \"gray\")\n",
    "sns.lineplot(heights, avg_jump_hats + t*SE_predict_heights, color=\"gray\", label=\"Prediction intervals\")\n",
    "sns.scatterplot([drB_height], [drB_jump], color = \"orange\", s=100)\n",
    "plt.xlabel(\"Height (in)\")\n",
    "plt.ylabel(\"Avg Jump (in)\");"
   ]
  },
  {
   "cell_type": "markdown",
   "metadata": {},
   "source": [
    "We can also calculate a more standard confidence interval for the slope. The 1-$\\alpha$% confidence interval for the slope is:\n",
    "\n",
    "$$ b - t_{\\alpha(2),df}SE_b < \\beta <  b + t_{\\alpha(2),df}SE_b$$\n"
   ]
  },
  {
   "cell_type": "code",
   "execution_count": null,
   "metadata": {},
   "outputs": [],
   "source": [
    "## Calculate the confidence interval for the slope\n",
    "\n",
    "df_height = np.size(avg_jump)-2\n",
    "alpha = 0.05\n",
    "t_adf = stats.t.ppf(1-(alpha/2), df_height)\n",
    "\n",
    "SE_b_height = standard_error_b(heights,avg_jump, df_height)\n",
    "confidence_lower = b_height - t_adf*SE_b_height\n",
    "confidence_upper = b_height + t_adf*SE_b_height\n",
    "\n",
    "print(f\"The 95% confidence interval is [{confidence_lower}, {confidence_upper}]\")\n"
   ]
  },
  {
   "cell_type": "markdown",
   "metadata": {},
   "source": [
    "_____\n",
    "\n",
    "## Regression towards the mean (Slide 31)\n",
    "\n",
    "This concept is a little tricky, so we will demonstrate with our collected standing jump data. \n",
    "\n",
    "The overall idea is that if you measure something on an individual and then measure that something again at a later date, the natural variability in the individual will lessen the regression slope. From your book \n",
    "\n",
    "> Regression toward the mean results when two variables measured on a sample of individuals have a correlation less than one. Individuals that are far from the mean for one of the measurements will, on average, lie closer to the mean for the other measurements.\n",
    "\n",
    "Let's see if we observe this phenomenon with our jumping data."
   ]
  },
  {
   "cell_type": "code",
   "execution_count": null,
   "metadata": {
    "scrolled": true
   },
   "outputs": [],
   "source": [
    "# Scatter the first jump results against the second jump\n",
    "\n",
    "print(f\"The mean of jump 1 results = {np.mean(jump1)} in \\n and the mean of jump 2 results = {np.mean(jump2)} in\")\n",
    "sns.scatterplot(jump1, jump2)\n",
    "plt.xlabel(\"Distance jump 1 (in)\")\n",
    "plt.ylabel(\"Distance jump 2 (in)\")\n",
    "plt.title(\"Regression towards the mean example\");"
   ]
  },
  {
   "cell_type": "markdown",
   "metadata": {},
   "source": [
    "Regression towards the mean can be a real problem for medical studies. For example, if we looked at the response of sick individuals to a treatment, people will appear to get better even though the treatment may have had no effect, just because the individuals well-being is tending back towards the average. Having a control group in your study prevents this misinterpretation."
   ]
  },
  {
   "cell_type": "markdown",
   "metadata": {},
   "source": [
    "------\n",
    "\n",
    "## Data 3: Aspartate transcarbamoylase (ATCase) activity (slide 32)\n",
    "\n",
    "Our final dataset comes from my previous work in studying ATCase kinetics. [ATCase](http://biology.kenyon.edu/BMB/jmol2014/ATCaseASKC/indexATCase.html) catalyzes a crucial step in the pyrimidine synthesis pathway:\n",
    "\n",
    "<br/>\n",
    "<div align=\"center\">L-aspartate (Asp) + carbamoyl phosphate (CP) --> carbamoyl aspartate (CA) </div>\n",
    "<br/>\n",
    "\n",
    "In the assay, we add increasing levels of Asp, while keeping CP levels constant. Then using fluorescence we measure the amount of CA formed within a short time window, which we can use to directly calculate the enzyme activity called *specific activity*. The more CA produced within the time window, the higher the specific activity. In other words, the steeper the slope, the more active the enzyme*. "
   ]
  },
  {
   "cell_type": "code",
   "execution_count": null,
   "metadata": {},
   "outputs": [],
   "source": [
    "## Data for ATCase assay. Arrays report the concentration in mM\n",
    "\n",
    "Asp = np.array([0, 1, 2, 3, 5, 7, 10, 20, 30, 40, 60])\n",
    "# specific_activity = ??"
   ]
  },
  {
   "cell_type": "code",
   "execution_count": null,
   "metadata": {
    "scrolled": true
   },
   "outputs": [],
   "source": [
    "# Make a scatter plot of the data\n",
    "\n",
    "sns.scatterplot(Asp, specific_activity)\n",
    "plt.xlabel(\"[Asp] mM\")\n",
    "plt.ylabel(\"Specific Activity\")\n",
    "plt.title(\"ATCase assay\");"
   ]
  },
  {
   "cell_type": "markdown",
   "metadata": {},
   "source": [
    "What is the relationship between the aspartate concentration and the specific activity of the enzyme?"
   ]
  },
  {
   "cell_type": "markdown",
   "metadata": {},
   "source": [
    "How should we proceed?"
   ]
  },
  {
   "cell_type": "markdown",
   "metadata": {},
   "source": [
    "# In-class exercises\n",
    "\n",
    "For your exercise today you will perform three hypothesis tests: one on the jump/height data, one on the RNA/protein data, and one on the ATCase data.\n",
    "\n",
    "1. For the height/jump data, test the hypothesis that the slope is 0.\n",
    "\n",
    "2. For the RNA/protein data, what do you think the slope should be? Test the hypothesis that the slope is that value.\n",
    "\n",
    "3. For the ATCase data, apply a transform to make the data more linear. What do you think the relationship should be for this transformed data? Test the hypothesis that the slope of the transformed data is that value.\n",
    "\n",
    "**For each of the above, report the following on canvas:**\n",
    "1. State the null and alternative hypothesis.\n",
    "2. State what you think the slope should be and why (if applicable).\n",
    "3. Explain how your result affects how you think about the biology of the system. For example, if you find the slope of the line of best fit for the rna/protein data is 0.6, how should we proceed with interpreting later biological results that only have RNA counts?"
   ]
  },
  {
   "cell_type": "code",
   "execution_count": null,
   "metadata": {},
   "outputs": [],
   "source": []
  },
  {
   "cell_type": "code",
   "execution_count": null,
   "metadata": {},
   "outputs": [],
   "source": []
  },
  {
   "cell_type": "code",
   "execution_count": null,
   "metadata": {},
   "outputs": [],
   "source": []
  },
  {
   "cell_type": "code",
   "execution_count": null,
   "metadata": {},
   "outputs": [],
   "source": []
  },
  {
   "cell_type": "code",
   "execution_count": null,
   "metadata": {},
   "outputs": [],
   "source": []
  },
  {
   "cell_type": "markdown",
   "metadata": {},
   "source": [
    "*We will discuss this statement more next class"
   ]
  }
 ],
 "metadata": {
  "kernelspec": {
   "display_name": "Python 3",
   "language": "python",
   "name": "python3"
  },
  "language_info": {
   "codemirror_mode": {
    "name": "ipython",
    "version": 3
   },
   "file_extension": ".py",
   "mimetype": "text/x-python",
   "name": "python",
   "nbconvert_exporter": "python",
   "pygments_lexer": "ipython3",
   "version": "3.7.3"
  }
 },
 "nbformat": 4,
 "nbformat_minor": 2
}
