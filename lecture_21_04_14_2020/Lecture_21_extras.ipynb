{
 "cells": [
  {
   "cell_type": "markdown",
   "metadata": {},
   "source": [
    "# Simpson's paradox\n",
    "\n",
    "Example reproduced from http://www.degeneratestate.org/posts/2017/Oct/22/generating-examples-of-simpsons-paradox/"
   ]
  },
  {
   "cell_type": "code",
   "execution_count": null,
   "metadata": {},
   "outputs": [],
   "source": [
    "import pandas as pd\n",
    "import matplotlib.pyplot as plt\n",
    "import seaborn as sns\n",
    "import numpy as np\n",
    "\n",
    "%matplotlib inline\n",
    "\n",
    "import utils as u\n",
    "from IPython.core.display import HTML\n"
   ]
  },
  {
   "cell_type": "code",
   "execution_count": null,
   "metadata": {},
   "outputs": [],
   "source": [
    "\n",
    "def generate_p_values(n_subgroups):\n",
    "    \"\"\"\n",
    "    Generates a set of conditional probabilities that obey\n",
    "    \n",
    "     - p(Y=1|x=1, z) > p(Y=1|x=0, z) for all z\n",
    "     - p(Y=1|x=1, z=j) > p(Y=1|x=1, k) when j > k\n",
    "     - p(Y=1|x=1, z=0) < p(Y=1|x=0, z=n) where n = max(z)\n",
    "     \n",
    "    :param n_subgroups: int. The number of values $Z$ can take.\n",
    "    :return: dictionary, p[x][z] = p(Y=1|x,z)\n",
    "    \"\"\"\n",
    "    p = defaultdict(dict)\n",
    "\n",
    "    boundaries = np.random.uniform(0, 1, size=2 * n_subgroups)\n",
    "    boundaries = [(n + b) / (2*n_subgroups) for n, b in enumerate(boundaries)]\n",
    "\n",
    "    for i in range(n_subgroups):\n",
    "        p[0][i] = boundaries[i*2]\n",
    "        p[1][i] = boundaries[i*2+1]\n",
    "\n",
    "    return p"
   ]
  },
  {
   "cell_type": "code",
   "execution_count": null,
   "metadata": {},
   "outputs": [],
   "source": [
    "def get_q_weights(ps, target):\n",
    "    \"\"\"\n",
    "    Generates a mixture of the values in ps which is the solution to\n",
    "    \n",
    "    \\sum_{i} p[i]q[i] = target\n",
    "    \n",
    "    :param ps: list of number\n",
    "    :param target: goal of the sum\n",
    "    :return: qs: list of weightings of ps\n",
    "    \"\"\"\n",
    "    if len(ps) <= 1:\n",
    "        raise ValueError(\"ps cannot be shorter than 2\")\n",
    "\n",
    "    if len(ps) == 2:\n",
    "        p0, p1 = ps\n",
    "        q0 = (p1 - target) / (p1 - p0)\n",
    "        return q0, (1 - q0)\n",
    "\n",
    "    rest, last = ps[:-1], ps[-1]\n",
    "    mid_target = np.random.uniform(low=rest[0], high=min(target, rest[-1]))\n",
    "\n",
    "    q0, q1 = get_q_weights([mid_target, last], target)\n",
    "    remaining_qs = get_q_weights(rest, mid_target)\n",
    "    qs = [q0 * q for q in remaining_qs] + [q1]\n",
    "\n",
    "    return qs"
   ]
  },
  {
   "cell_type": "code",
   "execution_count": null,
   "metadata": {},
   "outputs": [],
   "source": []
  },
  {
   "cell_type": "code",
   "execution_count": null,
   "metadata": {},
   "outputs": [],
   "source": []
  },
  {
   "cell_type": "code",
   "execution_count": null,
   "metadata": {},
   "outputs": [],
   "source": [
    "def generate_gaussian_simpsons_paradox(n_subgroups=3, n_samples=1000):\n",
    "\n",
    "    overall_cov = 3*np.array([[1,0.9], [0.9,1]])\n",
    "\n",
    "    means = np.random.multivariate_normal(mean=[0,0], cov=overall_cov, size=n_subgroups)\n",
    "    \n",
    "    weights = np.random.uniform(size=n_subgroups)\n",
    "    weights /= np.sum(weights)\n",
    "    covs = [np.random.uniform(0.2,0.8) for _ in range(n_subgroups)]\n",
    "    covs = [np.array([[1,-c], [-c,1]]) for c in covs]\n",
    "\n",
    "\n",
    "    samples = []\n",
    "\n",
    "    for sg, (mean, cov, w) in enumerate(zip(means, covs, weights)):\n",
    "        n = int(round(n_samples * w))\n",
    "        sample = np.random.multivariate_normal(mean=mean, cov=cov, size=n)\n",
    "        sample = pd.DataFrame(sample, columns=[\"x\", \"y\"])\n",
    "        sample[\"z\"] = sg\n",
    "        samples.append(sample)\n",
    "        \n",
    "    df = pd.concat(samples)\n",
    "    \n",
    "    return df"
   ]
  },
  {
   "cell_type": "code",
   "execution_count": null,
   "metadata": {},
   "outputs": [],
   "source": [
    "df = generate_gaussian_simpsons_paradox()\n",
    "\n",
    "print(\"Total Covariance: {:.3f}\".format(df[[\"x\", \"y\"]].cov().iloc[0,1]))\n",
    "for z in df.z.unique():\n",
    "    print(\"Subgroup {} covariance: {:.3f}\".format(z,df[df.z==z][[\"x\", \"y\"]].cov().iloc[0,1]))"
   ]
  },
  {
   "cell_type": "code",
   "execution_count": null,
   "metadata": {},
   "outputs": [],
   "source": [
    "sns.regplot(data=df, x=\"x\", y=\"y\");"
   ]
  },
  {
   "cell_type": "code",
   "execution_count": null,
   "metadata": {},
   "outputs": [],
   "source": [
    "fig, ax = plt.subplots()\n",
    "\n",
    "plt.xlim(-6,6);\n",
    "plt.ylim(-6,6);\n",
    "\n",
    "for z in df.z.unique():\n",
    "    sns.regplot(data=df[df.z==z], x=\"x\", y=\"y\", ax=ax)"
   ]
  },
  {
   "cell_type": "code",
   "execution_count": null,
   "metadata": {},
   "outputs": [],
   "source": []
  }
 ],
 "metadata": {
  "kernelspec": {
   "display_name": "Python 3",
   "language": "python",
   "name": "python3"
  },
  "language_info": {
   "codemirror_mode": {
    "name": "ipython",
    "version": 3
   },
   "file_extension": ".py",
   "mimetype": "text/x-python",
   "name": "python",
   "nbconvert_exporter": "python",
   "pygments_lexer": "ipython3",
   "version": "3.7.3"
  }
 },
 "nbformat": 4,
 "nbformat_minor": 2
}
